{
 "cells": [
  {
   "cell_type": "code",
   "execution_count": null,
   "metadata": {},
   "outputs": [],
   "source": [
    "import xarray as xr\n",
    "\n",
    "from src import tools"
   ]
  },
  {
   "cell_type": "code",
   "execution_count": null,
   "metadata": {},
   "outputs": [],
   "source": [
    "fix_boundaries = False\n",
    "mask_bad_area = False\n",
    "filter_by_depth = True"
   ]
  },
  {
   "cell_type": "code",
   "execution_count": null,
   "metadata": {},
   "outputs": [],
   "source": [
    "grid_ds = xr.open_dataset('fram_data/norfjords_160m_grid_version3.nc')"
   ]
  },
  {
   "cell_type": "markdown",
   "metadata": {},
   "source": [
    "## Fix mask_rho variable - boundaries check"
   ]
  },
  {
   "cell_type": "code",
   "execution_count": null,
   "metadata": {},
   "outputs": [],
   "source": [
    "if fix_boundaries:\n",
    "    grid_handler = tools.GridHandler(grid_ds)\n",
    "    west_idx = grid_handler.find_matches('west')\n",
    "    north_idx = grid_handler.find_matches('north')\n",
    "    east_idx = grid_handler.find_matches('east')\n",
    "    south_idx = grid_handler.find_matches('south')\n",
    "    \n",
    "    grid_handler.print_values(west_idx, north_idx, east_idx, south_idx)\n",
    "    \n",
    "    # Get xi and eta coordinates to use loc assignment (isel or iloc won't work)\n",
    "    xi_rho_west_coords = grid_ds.coords['xi_rho'][0]\n",
    "    eta_rho_west_coords = grid_ds.coords['eta_rho'][west_idx.squeeze()] * xr.ones_like(xi_rho_west_coords)\n",
    "    print(f\"Xi west coordinates: {xi_rho_west_coords}\\n\",\n",
    "          f\"Eta west coordinates: {eta_rho_west_coords}\\n\")\n",
    "    \n",
    "    xi_rho_north_coords = grid_ds.coords['xi_rho'][north_idx.squeeze()]\n",
    "    eta_rho_north_coords = grid_ds.coords['eta_rho'][-1] * xr.ones_like(xi_rho_north_coords)\n",
    "    print(f\"Xi north coordinates: {xi_rho_north_coords}\\n\",\n",
    "          f\"Eta north coordinates: {eta_rho_north_coords}\\n\")\n",
    "    \n",
    "    xi_rho_east_coords = grid_ds.coords['xi_rho'][-1]\n",
    "    eta_rho_east_coords = grid_ds.coords['eta_rho'][east_idx.squeeze()] * xr.ones_like(xi_rho_east_coords)\n",
    "    print(f\"Xi east coordinates: {xi_rho_east_coords}\\n\",\n",
    "          f\"Eta east coordinates: {eta_rho_east_coords}\\n\")\n",
    "    \n",
    "    xi_rho_south_coords = grid_ds.coords['xi_rho'][south_idx.squeeze()]\n",
    "    eta_rho_south_coords = grid_ds.coords['eta_rho'][0] * xr.ones_like(xi_rho_south_coords)\n",
    "    print(f\"Xi south coordinates: {xi_rho_south_coords}\\n\",\n",
    "          f\"Eta south coordinates: {eta_rho_south_coords}\\n\")\n",
    "\n",
    "    # mask the corresponding points in mask_rho\n",
    "    coords = (\n",
    "        (xi_rho_west_coords, eta_rho_west_coords),\n",
    "        (xi_rho_north_coords, eta_rho_north_coords),\n",
    "        (xi_rho_east_coords, eta_rho_east_coords),\n",
    "        (xi_rho_south_coords, eta_rho_south_coords),\n",
    "    )\n",
    "\n",
    "    for coord in coords:\n",
    "        grid_ds.mask_rho.loc[dict(xi_rho=coord[0], eta_rho=coord[1])] = 0\n",
    "    \n",
    "    grid_handler.print_values(west_idx, north_idx, east_idx, south_idx)"
   ]
  },
  {
   "cell_type": "markdown",
   "metadata": {},
   "source": [
    "## Mask out the particular points, which cause instabilities"
   ]
  },
  {
   "cell_type": "code",
   "execution_count": null,
   "metadata": {},
   "outputs": [],
   "source": [
    "if mask_bad_area:\n",
    "    grid_ds.mask_rho.isel(xi_rho=slice(1434, None), eta_rho=slice(685, 698)).plot(figsize=(14, 7))\n",
    "    grid_ds.mask_rho.values[685:698, 1434:] = 0\n",
    "    grid_ds.mask_rho.isel(xi_rho=slice(1434, None), eta_rho=slice(685, 698)).plot(figsize=(14, 7))\n"
   ]
  },
  {
   "cell_type": "markdown",
   "metadata": {},
   "source": [
    "## Apply depth filter"
   ]
  },
  {
   "cell_type": "code",
   "execution_count": null,
   "metadata": {},
   "outputs": [],
   "source": [
    "if filter_by_depth:\n",
    "    grid_ds.h.plot(figsize=(14, 7))  # without figsize (both) there will be one picture\n",
    "    grid_ds = tools.GridHandler.filter_min_depth(grid_ds, 50)\n",
    "    grid_ds.h.plot(figsize=(14, 7))\n",
    "    tools.GridHandler.to_netcdf(grid_ds, \"v3+\")"
   ]
  },
  {
   "cell_type": "code",
   "execution_count": null,
   "metadata": {},
   "outputs": [],
   "source": []
  }
 ],
 "metadata": {
  "kernelspec": {
   "display_name": "Python 3.10.6 ('roms')",
   "language": "python",
   "name": "python3"
  },
  "language_info": {
   "codemirror_mode": {
    "name": "ipython",
    "version": 3
   },
   "file_extension": ".py",
   "mimetype": "text/x-python",
   "name": "python",
   "nbconvert_exporter": "python",
   "pygments_lexer": "ipython3",
   "version": "3.10.6"
  },
  "orig_nbformat": 4,
  "vscode": {
   "interpreter": {
    "hash": "28ab78b258d2399661cf741fa50026022a6ba8d6b3d5d80e7f106a09ae5157b4"
   }
  }
 },
 "nbformat": 4,
 "nbformat_minor": 2
}
