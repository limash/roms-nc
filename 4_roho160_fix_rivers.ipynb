{
 "cells": [
  {
   "cell_type": "code",
   "execution_count": 2,
   "metadata": {},
   "outputs": [],
   "source": [
    "from typing import Optional\n",
    "\n",
    "import numpy as np\n",
    "import xarray as xr\n",
    "import matplotlib.pyplot as plt"
   ]
  },
  {
   "cell_type": "code",
   "execution_count": 3,
   "metadata": {},
   "outputs": [],
   "source": [
    "def add_s_layers(river_ds):\n",
    "\n",
    "    # Creating new array to fill the gaps\n",
    "    v_data = np.zeros((5, 175))\n",
    "    v_add = xr.DataArray(v_data, dims=river_ds['river_Vshape'].dims, coords=river_ds['river_Vshape'].coords)\n",
    "    temp_data = np.ones((4019, 5, 175)) * 5\n",
    "    t_add = xr.DataArray(temp_data, dims=river_ds['river_temp'].dims, coords=river_ds['river_temp'].coords)\n",
    "    salt_data = np.ones((4019, 5, 175))\n",
    "    s_add = xr.DataArray(salt_data, dims=river_ds['river_salt'].dims, coords=river_ds['river_salt'].coords)\n",
    "    \n",
    "    # New ready data arrays\n",
    "    river_Vshape = xr.concat([v_add, river_ds['river_Vshape']], dim=\"s_rho\")\n",
    "    river_temp = xr.concat([t_add, river_ds['river_temp']], dim=\"s_rho\")\n",
    "    river_salt = xr.concat([s_add, river_ds['river_salt']], dim=\"s_rho\")\n",
    "    \n",
    "    # Remove old and add new variables with new s_rho=40 dimension\n",
    "    river_ds = river_ds.drop_dims('s_rho')\n",
    "    river_ds = river_ds.assign(river_Vshape=river_Vshape, river_temp=river_temp, river_salt=river_salt)\n",
    "\n",
    "    return river_ds"
   ]
  },
  {
   "cell_type": "code",
   "execution_count": 4,
   "metadata": {},
   "outputs": [],
   "source": [
    "def mask_all_rivers(ds):\n",
    "    ds['river_transport'].values = np.zeros((4019, 175))\n",
    "    return ds"
   ]
  },
  {
   "cell_type": "code",
   "execution_count": 5,
   "metadata": {},
   "outputs": [],
   "source": [
    "def mask_some_rivers(ds, rivers):\n",
    "    \"\"\"\n",
    "    Assignment uses i locations (implicit)\n",
    "    \"\"\"\n",
    "\n",
    "    ds.river_transport[dict(river=rivers)] = np.zeros((4019, 1))\n",
    "    return ds"
   ]
  },
  {
   "cell_type": "code",
   "execution_count": 6,
   "metadata": {},
   "outputs": [],
   "source": [
    "def check_rivers_runoff(ds, verbose=False):\n",
    "    river_xi_eta_dir = []\n",
    "    for i in range(ds.dims['river']):\n",
    "        river = ds.isel(river=i, river_time=0)\n",
    "        assert i+1 == int(river.river)\n",
    "        cell_runoff = (abs(river.river_transport) * river.river_Vshape).max().values\n",
    "        if cell_runoff > 0:\n",
    "            if verbose:\n",
    "                print(f\"River {i+1} max runoff: {cell_runoff}\")\n",
    "                print(f\"Coordinates: {river.river_Xposition}; {river.river_Eposition}\")\n",
    "                print(f\"Direction: {river.river_direction} \\n\")\n",
    "            river_xi_eta_dir.append((\n",
    "                int(river.river),\n",
    "                int(river.river_Xposition.values), \n",
    "                int(river.river_Eposition.values),\n",
    "                int(river.river_direction.values)\n",
    "            ))\n",
    "    return river_xi_eta_dir"
   ]
  },
  {
   "cell_type": "code",
   "execution_count": 7,
   "metadata": {},
   "outputs": [],
   "source": [
    "def check_coords(ds, xi, eta):\n",
    "    xis = [xi + i for i in range(-5, 6)]\n",
    "    etas =  [eta + i for i in range(-5, 6)]\n",
    "    for river_id in ds.river.values:\n",
    "        river_id = int(river_id-1)\n",
    "        x_pos = int(ds.river_Xposition[river_id].values)\n",
    "        y_pos = int(ds.river_Eposition[river_id].values)\n",
    "        if x_pos in xis and y_pos in etas:\n",
    "            print(f\"Xi: {x_pos}; Eta: {y_pos}\")\n"
   ]
  },
  {
   "cell_type": "code",
   "execution_count": 8,
   "metadata": {},
   "outputs": [],
   "source": [
    "def gen_rivers_map(ds, grid_ds):\n",
    "    map_shape = grid_ds.dims['xi_rho'], grid_ds.dims['eta_rho']\n",
    "    riv_map = np.ones(map_shape)\n",
    "    for river_id in ds.river.values:\n",
    "        river_id = int(river_id-1)\n",
    "        x_pos = int(ds.river_Xposition[river_id].values)\n",
    "        y_pos = int(ds.river_Eposition[river_id].values)\n",
    "        riv_map[x_pos, y_pos] = -1 \n",
    "    \n",
    "    return riv_map"
   ]
  },
  {
   "cell_type": "code",
   "execution_count": 9,
   "metadata": {},
   "outputs": [],
   "source": [
    "def save_rivers(ds, name):\n",
    "    ds.to_netcdf(path=f'fram_data/norfjords_160m_river_{name}.nc', format='NETCDF4')"
   ]
  },
  {
   "cell_type": "markdown",
   "metadata": {},
   "source": [
    "Check rivers"
   ]
  },
  {
   "cell_type": "code",
   "execution_count": 10,
   "metadata": {},
   "outputs": [],
   "source": [
    "ds = xr.open_dataset('fram_data/norfjords_160m_river_v2+.nc')\n",
    "grid_ds = xr.open_dataset('fram_data/norfjords_160m_grid_version3.nc')"
   ]
  },
  {
   "cell_type": "code",
   "execution_count": 11,
   "metadata": {},
   "outputs": [],
   "source": [
    "river_xi_eta_dir = check_rivers_runoff(ds, verbose=False)\n",
    "# rivers = [river - 1 for river, _, _, _ in river_xi_eta_dir]  # assignment use iloc\n",
    "# rivers_map = gen_rivers_map(ds, grid_ds)\n",
    "# check_coords(ds, 777, 464)"
   ]
  },
  {
   "cell_type": "code",
   "execution_count": 12,
   "metadata": {},
   "outputs": [],
   "source": [
    "up_xi = grid_ds.dims['xi_rho'] - 1\n",
    "up_eta = grid_ds.dims['eta_rho'] - 1\n",
    "\n",
    "\n",
    "def get_xi_slice(xi, delta):\n",
    "    return slice(max(min(xi - delta, up_xi), 0), max(min(xi + delta + 1, up_xi), 0))\n",
    "\n",
    "\n",
    "def get_eta_slice(eta, delta):\n",
    "    return slice(max(min(eta - delta, up_eta), 0), max(min(eta + delta + 1, up_eta), 0))"
   ]
  },
  {
   "cell_type": "code",
   "execution_count": 13,
   "metadata": {},
   "outputs": [],
   "source": [
    "def plot_river_estuary_u(river, river_xi, river_eta, river_dir):\n",
    "\n",
    "    assert river_dir == 0\n",
    "    mask_u = grid_ds.mask_u.copy()\n",
    "    plt.figure(figsize=(15, 4))\n",
    "\n",
    "    xi_slice = get_xi_slice(river_xi, 4)\n",
    "    eta_slice = get_eta_slice(river_eta, 4)\n",
    "\n",
    "    plt.subplot(121)\n",
    "    mask_u.isel(\n",
    "        xi_u=xi_slice,\n",
    "        eta_u=eta_slice,\n",
    "        ).plot()\n",
    "\n",
    "    mask_u[dict(xi_u=river_xi, eta_u=river_eta)] = np.nan\n",
    "\n",
    "    plt.subplot(122)\n",
    "    mask_u.isel(\n",
    "        xi_u=xi_slice,\n",
    "        eta_u=eta_slice,\n",
    "        ).plot()\n",
    "    # to show the fortran locations\n",
    "    plt.suptitle(f\"River: {river}; Xi: {river_xi+1}; Eta: {river_eta}; Direction: {river_dir}.\")\n",
    "    # plt.suptitle(f\"River: {river}; Xi: {river_xi+1}; Eta: {river_eta+1}; Direction: {river_dir}.\")\n",
    "\n",
    "\n",
    "def plot_river_estuary_v(river, river_xi, river_eta, river_dir):\n",
    "\n",
    "    assert river_dir == 1\n",
    "    mask_v = grid_ds.mask_v.copy()\n",
    "    plt.figure(figsize=(15, 4))\n",
    "\n",
    "    xi_slice = get_xi_slice(river_xi, 4)\n",
    "    eta_slice = get_eta_slice(river_eta, 4)\n",
    "\n",
    "    plt.subplot(121)\n",
    "    mask_v.isel(\n",
    "        xi_v=xi_slice,\n",
    "        eta_v=eta_slice,\n",
    "        ).plot()\n",
    "\n",
    "    mask_v[dict(xi_v=river_xi, eta_v=river_eta)] = np.nan\n",
    "\n",
    "    plt.subplot(122)\n",
    "    mask_v.isel(\n",
    "        xi_v=xi_slice,\n",
    "        eta_v=eta_slice,\n",
    "        ).plot()\n",
    "    # to show the fortran locations\n",
    "    plt.suptitle(f\"River: {river}; Xi: {river_xi}; Eta: {river_eta+1}; Direction: {river_dir}.\")\n",
    "    # plt.suptitle(f\"River: {river}; Xi: {river_xi+1}; Eta: {river_eta+1}; Direction: {river_dir}.\")\n",
    "\n",
    "\n",
    "def plot_river_estuary_rho(river, river_xi, river_eta, river_dir):\n",
    "\n",
    "    mask_rho = grid_ds.mask_rho.copy()\n",
    "    plt.figure(figsize=(15, 4))\n",
    "\n",
    "    plt.subplot(121)\n",
    "    mask_rho.isel(\n",
    "        xi_rho=slice(river_xi - 4, river_xi + 5), \n",
    "        eta_rho=slice(river_eta - 4, river_eta + 5)\n",
    "        ).plot()\n",
    "\n",
    "    mask_rho[dict(xi_rho=river_xi, eta_rho=river_eta)] = np.nan\n",
    "\n",
    "    plt.subplot(122)\n",
    "    mask_rho.isel(\n",
    "        xi_rho=slice(river_xi - 4, river_xi + 5), \n",
    "        eta_rho=slice(river_eta - 4, river_eta + 5)\n",
    "        ).plot()\n",
    "    # to show the fortran locations\n",
    "    plt.suptitle(f\"River: {river}; Xi: {river_xi+1}; Eta: {river_eta+1}; Direction: {river_dir}.\")"
   ]
  },
  {
   "cell_type": "code",
   "execution_count": 14,
   "metadata": {},
   "outputs": [],
   "source": [
    "def plot_rivers_luv(river_xi_eta_dir):\n",
    "    \"\"\"\n",
    "    Probably, not sure: Due to roms notation where rho points start from zero \n",
    "    (so not such points in fortran), eta coordinate in mask_u already \"has\"\n",
    "    pythonic coordinates : bullshit - smth probably bad with a rivers forcing.\n",
    "    https://www.myroms.org/wiki/Grid_Generation\n",
    "\n",
    "    Args:\n",
    "        river_xi_eta_dir: a list of river, xi, eta, dir\n",
    "    \"\"\"\n",
    "    for river, xi, eta, direction in river_xi_eta_dir:\n",
    "        if direction == 0: \n",
    "            xi, eta = xi - 1, eta\n",
    "            plot_river_estuary_u(river, xi, eta, direction)\n",
    "        else:\n",
    "            xi, eta = xi, eta - 1\n",
    "            plot_river_estuary_v(river, xi, eta, direction)\n",
    "\n",
    "\n",
    "def plot_rivers_lw(river_xi_eta_dir):\n",
    "    for river, xi, eta, direction in river_xi_eta_dir:\n",
    "        plot_river_estuary_rho(river, xi-1, eta-1, direction)"
   ]
  },
  {
   "cell_type": "code",
   "execution_count": 19,
   "metadata": {},
   "outputs": [],
   "source": [
    "a_river = river_xi_eta_dir[0:50]\n",
    "b_river = river_xi_eta_dir[50:100]\n",
    "c_river = river_xi_eta_dir[100:]\n",
    "bad_river = river_xi_eta_dir[175:176]"
   ]
  },
  {
   "cell_type": "code",
   "execution_count": 20,
   "metadata": {},
   "outputs": [
    {
     "data": {
      "image/png": "[encoded data removed]",
      "text/plain": [
       "<Figure size 1500x400 with 4 Axes>"
      ]
     },
     "metadata": {},
     "output_type": "display_data"
    }
   ],
   "source": [
    "plot_rivers_luv(bad_river)"
   ]
  },
  {
   "cell_type": "markdown",
   "metadata": {},
   "source": [
    "Fix rivers"
   ]
  },
  {
   "cell_type": "code",
   "execution_count": null,
   "metadata": {},
   "outputs": [],
   "source": [
    "plot_rivers_luv(river_xi_eta_dir)"
   ]
  },
  {
   "cell_type": "code",
   "execution_count": null,
   "metadata": {},
   "outputs": [],
   "source": [
    "def split_river(\n",
    "    ds, \n",
    "    number: float, \n",
    "    dir_swap: bool = False, \n",
    "    flux_swap: bool = False,\n",
    "    f_xi: Optional[float] = None,\n",
    "    f_eta: Optional[float] = None,\n",
    "    s_xi: Optional[float] = None,\n",
    "    s_eta: Optional[float] = None,\n",
    "    ):\n",
    "    \"\"\"\n",
    "    Decrease flux twice at the current position.\n",
    "    Adds a new river at the provided position.\n",
    "\n",
    "    Args:\n",
    "        ds: Entire dataset to change.\n",
    "        number: river coordinate number\n",
    "        dir_swap: river ROMS direction\n",
    "        flux_swap: multiplies by -1 if True\n",
    "        f_xi: current river new xi coordinate\n",
    "        f_eta: current river eta new coordinate\n",
    "        s_xi: new river xi coordinate\n",
    "        s_eta: new river eta coordinate\n",
    "\n",
    "    Returns:\n",
    "        ds: a new dataset with an additional 'river'.\n",
    "    \"\"\"\n",
    "    directions = {\n",
    "        0: 1,\n",
    "        1: 0,\n",
    "    }\n",
    "\n",
    "    river_ds = ds.sel(river=number)\n",
    "\n",
    "    if dir_swap: \n",
    "        direction = river_ds.river_direction.values\n",
    "        river_ds.river_direction.values = directions[int(direction)]\n",
    "\n",
    "    if_swap = -1 if flux_swap else 1\n",
    "    river_ds.river_transport.values = if_swap * 1/2 * river_ds.river_transport.values\n",
    "\n",
    "    if f_xi is not None: \n",
    "        river_ds.river_Xposition.values = f_xi\n",
    "    if f_eta is not None: \n",
    "        river_ds.river_Eposition.values = f_eta\n",
    "\n",
    "    ds.loc[dict(river=number)] = river_ds\n",
    "\n",
    "    if s_xi is not None: \n",
    "        river_ds.river_Xposition.values = s_xi\n",
    "    if s_eta is not None: \n",
    "        river_ds.river_Eposition.values = s_eta\n",
    "\n",
    "    river_ds.river.values = ds.river[-1].values + 1\n",
    "    ds = xr.concat([ds, river_ds], dim=\"river\")\n",
    "\n",
    "    return ds"
   ]
  },
  {
   "cell_type": "markdown",
   "metadata": {},
   "source": [
    "River 1"
   ]
  },
  {
   "cell_type": "code",
   "execution_count": null,
   "metadata": {},
   "outputs": [],
   "source": [
    "plot_rivers_luv(river_xi_eta_dir[0:1])"
   ]
  },
  {
   "cell_type": "code",
   "execution_count": null,
   "metadata": {},
   "outputs": [],
   "source": [
    "ds = split_river(ds, number=12., dir_swap=True, flux_swap=True, f_xi=728, f_eta=10, s_xi=728, s_eta=9)"
   ]
  },
  {
   "cell_type": "code",
   "execution_count": null,
   "metadata": {},
   "outputs": [],
   "source": [
    "rivers = ds.sel(river=12), ds.isel(river=-1)\n",
    "new_river_xi_eta_dir = []\n",
    "for river in rivers:\n",
    "    new_river_xi_eta_dir.append((\n",
    "        int(river.river),\n",
    "        int(river.river_Xposition.values), \n",
    "        int(river.river_Eposition.values),\n",
    "        int(river.river_direction.values)\n",
    "    ))"
   ]
  },
  {
   "cell_type": "code",
   "execution_count": null,
   "metadata": {},
   "outputs": [],
   "source": [
    "plot_rivers_luv(new_river_xi_eta_dir)"
   ]
  },
  {
   "cell_type": "markdown",
   "metadata": {},
   "source": [
    "River 2"
   ]
  },
  {
   "cell_type": "code",
   "execution_count": null,
   "metadata": {},
   "outputs": [],
   "source": [
    "plot_rivers_luv(river_xi_eta_dir[1:2])"
   ]
  },
  {
   "cell_type": "code",
   "execution_count": null,
   "metadata": {},
   "outputs": [],
   "source": [
    "ds = split_river(ds, number=53., dir_swap=False, flux_swap=False, f_xi=805, f_eta=192, s_xi=805, s_eta=193)"
   ]
  },
  {
   "cell_type": "code",
   "execution_count": null,
   "metadata": {},
   "outputs": [],
   "source": [
    "rivers = ds.sel(river=53), ds.isel(river=-1)\n",
    "new_river_xi_eta_dir = []\n",
    "for river in rivers:\n",
    "    new_river_xi_eta_dir.append((\n",
    "        int(river.river),\n",
    "        int(river.river_Xposition.values), \n",
    "        int(river.river_Eposition.values),\n",
    "        int(river.river_direction.values)\n",
    "    ))"
   ]
  },
  {
   "cell_type": "code",
   "execution_count": null,
   "metadata": {},
   "outputs": [],
   "source": [
    "plot_rivers_luv(new_river_xi_eta_dir)"
   ]
  },
  {
   "cell_type": "markdown",
   "metadata": {},
   "source": [
    "River 3"
   ]
  },
  {
   "cell_type": "code",
   "execution_count": null,
   "metadata": {},
   "outputs": [],
   "source": [
    "plot_rivers_luv(river_xi_eta_dir[2:3])"
   ]
  },
  {
   "cell_type": "code",
   "execution_count": null,
   "metadata": {},
   "outputs": [],
   "source": [
    "ds = split_river(ds, number=86., dir_swap=False, flux_swap=False, f_xi=1053, f_eta=96, s_xi=1054, s_eta=96)"
   ]
  },
  {
   "cell_type": "code",
   "execution_count": null,
   "metadata": {},
   "outputs": [],
   "source": [
    "rivers = ds.sel(river=86), ds.isel(river=-1)\n",
    "new_river_xi_eta_dir = []\n",
    "for river in rivers:\n",
    "    new_river_xi_eta_dir.append((\n",
    "        int(river.river),\n",
    "        int(river.river_Xposition.values), \n",
    "        int(river.river_Eposition.values),\n",
    "        int(river.river_direction.values)\n",
    "    ))"
   ]
  },
  {
   "cell_type": "code",
   "execution_count": null,
   "metadata": {},
   "outputs": [],
   "source": [
    "plot_rivers_luv(new_river_xi_eta_dir)"
   ]
  },
  {
   "cell_type": "markdown",
   "metadata": {},
   "source": [
    "River 4"
   ]
  },
  {
   "cell_type": "code",
   "execution_count": null,
   "metadata": {},
   "outputs": [],
   "source": [
    "plot_rivers_luv(river_xi_eta_dir[3:4])"
   ]
  },
  {
   "cell_type": "code",
   "execution_count": null,
   "metadata": {},
   "outputs": [],
   "source": [
    "ds = split_river(ds, number=93., dir_swap=False, flux_swap=False, f_xi=1352, f_eta=48, s_xi=1351, s_eta=48)"
   ]
  },
  {
   "cell_type": "code",
   "execution_count": null,
   "metadata": {},
   "outputs": [],
   "source": [
    "rivers = ds.sel(river=93), ds.isel(river=-1)\n",
    "new_river_xi_eta_dir = []\n",
    "for river in rivers:\n",
    "    new_river_xi_eta_dir.append((\n",
    "        int(river.river),\n",
    "        int(river.river_Xposition.values), \n",
    "        int(river.river_Eposition.values),\n",
    "        int(river.river_direction.values)\n",
    "    ))"
   ]
  },
  {
   "cell_type": "code",
   "execution_count": null,
   "metadata": {},
   "outputs": [],
   "source": [
    "plot_rivers_luv(new_river_xi_eta_dir)"
   ]
  },
  {
   "cell_type": "markdown",
   "metadata": {},
   "source": [
    "River 5"
   ]
  },
  {
   "cell_type": "code",
   "execution_count": null,
   "metadata": {},
   "outputs": [],
   "source": [
    "plot_rivers_luv(river_xi_eta_dir[4:5])"
   ]
  },
  {
   "cell_type": "code",
   "execution_count": null,
   "metadata": {},
   "outputs": [],
   "source": [
    "ds = split_river(ds, number=150., dir_swap=False, flux_swap=False, f_xi=1284, f_eta=444, s_xi=1285, s_eta=444)"
   ]
  },
  {
   "cell_type": "code",
   "execution_count": null,
   "metadata": {},
   "outputs": [],
   "source": [
    "rivers = ds.sel(river=150), ds.isel(river=-1)\n",
    "new_river_xi_eta_dir = []\n",
    "for river in rivers:\n",
    "    new_river_xi_eta_dir.append((\n",
    "        int(river.river),\n",
    "        int(river.river_Xposition.values), \n",
    "        int(river.river_Eposition.values),\n",
    "        int(river.river_direction.values)\n",
    "    ))"
   ]
  },
  {
   "cell_type": "code",
   "execution_count": null,
   "metadata": {},
   "outputs": [],
   "source": [
    "plot_rivers_luv(new_river_xi_eta_dir)"
   ]
  },
  {
   "cell_type": "markdown",
   "metadata": {},
   "source": [
    "River 6"
   ]
  },
  {
   "cell_type": "code",
   "execution_count": null,
   "metadata": {},
   "outputs": [],
   "source": [
    "plot_rivers_luv(river_xi_eta_dir[5:6])"
   ]
  },
  {
   "cell_type": "code",
   "execution_count": null,
   "metadata": {},
   "outputs": [],
   "source": [
    "ds = split_river(ds, number=156., dir_swap=False, flux_swap=False, f_xi=1373, f_eta=541, s_xi=1372, s_eta=541)"
   ]
  },
  {
   "cell_type": "code",
   "execution_count": null,
   "metadata": {},
   "outputs": [],
   "source": [
    "rivers = ds.sel(river=156), ds.isel(river=-1)\n",
    "new_river_xi_eta_dir = []\n",
    "for river in rivers:\n",
    "    new_river_xi_eta_dir.append((\n",
    "        int(river.river),\n",
    "        int(river.river_Xposition.values), \n",
    "        int(river.river_Eposition.values),\n",
    "        int(river.river_direction.values)\n",
    "    ))"
   ]
  },
  {
   "cell_type": "code",
   "execution_count": null,
   "metadata": {},
   "outputs": [],
   "source": [
    "plot_rivers_luv(new_river_xi_eta_dir)"
   ]
  },
  {
   "cell_type": "code",
   "execution_count": null,
   "metadata": {},
   "outputs": [],
   "source": [
    "save_rivers(ds, \"v2+\")"
   ]
  },
  {
   "cell_type": "code",
   "execution_count": null,
   "metadata": {},
   "outputs": [],
   "source": []
  }
 ],
 "metadata": {
  "kernelspec": {
   "display_name": "Python 3.10.6 ('roms')",
   "language": "python",
   "name": "python3"
  },
  "language_info": {
   "codemirror_mode": {
    "name": "ipython",
    "version": 3
   },
   "file_extension": ".py",
   "mimetype": "text/x-python",
   "name": "python",
   "nbconvert_exporter": "python",
   "pygments_lexer": "ipython3",
   "version": "3.10.6"
  },
  "orig_nbformat": 4,
  "vscode": {
   "interpreter": {
    "hash": "28ab78b258d2399661cf741fa50026022a6ba8d6b3d5d80e7f106a09ae5157b4"
   }
  }
 },
 "nbformat": 4,
 "nbformat_minor": 2
}
