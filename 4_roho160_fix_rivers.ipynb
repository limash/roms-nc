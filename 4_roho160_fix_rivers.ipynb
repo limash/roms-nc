{
 "cells": [
  {
   "cell_type": "code",
   "execution_count": null,
   "metadata": {},
   "outputs": [],
   "source": [
    "import numpy as np\n",
    "import xarray as xr"
   ]
  },
  {
   "cell_type": "code",
   "execution_count": null,
   "metadata": {},
   "outputs": [],
   "source": [
    "def add_s_layers(river_ds):\n",
    "    # Creating new array to fill the gaps\n",
    "    v_data = np.zeros((5, 175))\n",
    "    v_add = xr.DataArray(v_data, dims=river_ds['river_Vshape'].dims, coords=river_ds['river_Vshape'].coords)\n",
    "    temp_data = np.ones((4019, 5, 175)) * 5\n",
    "    t_add = xr.DataArray(temp_data, dims=river_ds['river_temp'].dims, coords=river_ds['river_temp'].coords)\n",
    "    salt_data = np.ones((4019, 5, 175))\n",
    "    s_add = xr.DataArray(salt_data, dims=river_ds['river_salt'].dims, coords=river_ds['river_salt'].coords)\n",
    "    \n",
    "    # New ready data arrays\n",
    "    river_Vshape = xr.concat([v_add, river_ds['river_Vshape']], dim=\"s_rho\")\n",
    "    river_temp = xr.concat([t_add, river_ds['river_temp']], dim=\"s_rho\")\n",
    "    river_salt = xr.concat([s_add, river_ds['river_salt']], dim=\"s_rho\")\n",
    "    \n",
    "    # Remove old and add new variables with new s_rho=40 dimension\n",
    "    river_ds = river_ds.drop_dims('s_rho')\n",
    "    river_ds = river_ds.assign(river_Vshape=river_Vshape, river_temp=river_temp, river_salt=river_salt)\n",
    "\n",
    "    return river_ds"
   ]
  },
  {
   "cell_type": "code",
   "execution_count": null,
   "metadata": {},
   "outputs": [],
   "source": [
    "ds = xr.open_dataset('fram_data/norfjords_160m_river_new.nc')"
   ]
  },
  {
   "cell_type": "code",
   "execution_count": null,
   "metadata": {},
   "outputs": [],
   "source": [
    "ds.river_transport.isel(river_time=0, river=0)"
   ]
  },
  {
   "cell_type": "code",
   "execution_count": null,
   "metadata": {},
   "outputs": [],
   "source": [
    "# ds['river_transport'].values = np.zeros((4019, 175))"
   ]
  },
  {
   "cell_type": "code",
   "execution_count": null,
   "metadata": {},
   "outputs": [],
   "source": [
    "for i in range(ds.dims['river']):\n",
    "    river = ds.isel(river=i, river_time=0)\n",
    "    cell_runoff = (abs(river.river_transport) * river.river_Vshape).max().values\n",
    "    if cell_runoff > 1:\n",
    "        print(f\"River {i+1} max runoff: {cell_runoff}\")\n",
    "        print(f\"Coordinates: {river.river_Xposition}; {river.river_Eposition} \\n\")"
   ]
  },
  {
   "cell_type": "code",
   "execution_count": null,
   "metadata": {},
   "outputs": [],
   "source": [
    "# ds.to_netcdf(path='fram_data/norfjords_160m_river_zero_runoff.nc', format='NETCDF4')"
   ]
  },
  {
   "cell_type": "code",
   "execution_count": null,
   "metadata": {},
   "outputs": [],
   "source": []
  }
 ],
 "metadata": {
  "kernelspec": {
   "display_name": "Python 3.10.6 ('roms')",
   "language": "python",
   "name": "python3"
  },
  "language_info": {
   "codemirror_mode": {
    "name": "ipython",
    "version": 3
   },
   "file_extension": ".py",
   "mimetype": "text/x-python",
   "name": "python",
   "nbconvert_exporter": "python",
   "pygments_lexer": "ipython3",
   "version": "3.10.6"
  },
  "orig_nbformat": 4,
  "vscode": {
   "interpreter": {
    "hash": "28ab78b258d2399661cf741fa50026022a6ba8d6b3d5d80e7f106a09ae5157b4"
   }
  }
 },
 "nbformat": 4,
 "nbformat_minor": 2
}
