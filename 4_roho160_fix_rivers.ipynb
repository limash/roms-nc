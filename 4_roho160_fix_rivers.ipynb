{
 "cells": [
  {
   "cell_type": "code",
   "execution_count": null,
   "metadata": {},
   "outputs": [],
   "source": [
    "import numpy as np\n",
    "import xarray as xr\n",
    "import matplotlib.pyplot as plt"
   ]
  },
  {
   "cell_type": "code",
   "execution_count": null,
   "metadata": {},
   "outputs": [],
   "source": [
    "def add_s_layers(river_ds):\n",
    "    # Creating new array to fill the gaps\n",
    "    v_data = np.zeros((5, 175))\n",
    "    v_add = xr.DataArray(v_data, dims=river_ds['river_Vshape'].dims, coords=river_ds['river_Vshape'].coords)\n",
    "    temp_data = np.ones((4019, 5, 175)) * 5\n",
    "    t_add = xr.DataArray(temp_data, dims=river_ds['river_temp'].dims, coords=river_ds['river_temp'].coords)\n",
    "    salt_data = np.ones((4019, 5, 175))\n",
    "    s_add = xr.DataArray(salt_data, dims=river_ds['river_salt'].dims, coords=river_ds['river_salt'].coords)\n",
    "    \n",
    "    # New ready data arrays\n",
    "    river_Vshape = xr.concat([v_add, river_ds['river_Vshape']], dim=\"s_rho\")\n",
    "    river_temp = xr.concat([t_add, river_ds['river_temp']], dim=\"s_rho\")\n",
    "    river_salt = xr.concat([s_add, river_ds['river_salt']], dim=\"s_rho\")\n",
    "    \n",
    "    # Remove old and add new variables with new s_rho=40 dimension\n",
    "    river_ds = river_ds.drop_dims('s_rho')\n",
    "    river_ds = river_ds.assign(river_Vshape=river_Vshape, river_temp=river_temp, river_salt=river_salt)\n",
    "\n",
    "    return river_ds"
   ]
  },
  {
   "cell_type": "code",
   "execution_count": null,
   "metadata": {},
   "outputs": [],
   "source": [
    "def mask_rivers(ds):\n",
    "    ds['river_transport'].values = np.zeros((4019, 175))\n",
    "    return ds"
   ]
  },
  {
   "cell_type": "code",
   "execution_count": null,
   "metadata": {},
   "outputs": [],
   "source": [
    "def check_rivers_runoff(ds, verbose=False):\n",
    "    xi_eta_dir = []\n",
    "    for i in range(ds.dims['river']):\n",
    "        river = ds.isel(river=i, river_time=0)\n",
    "        cell_runoff = (abs(river.river_transport) * river.river_Vshape).max().values\n",
    "        if cell_runoff > 10:\n",
    "            if verbose:\n",
    "                print(f\"River {i+1} max runoff: {cell_runoff}\")\n",
    "                print(f\"Coordinates: {river.river_Xposition}; {river.river_Eposition}\")\n",
    "                print(f\"Direction: {river.river_direction} \\n\")\n",
    "            xi_eta_dir.append((int(river.river_Xposition.values), \n",
    "                               int(river.river_Eposition.values),\n",
    "                               int(river.river_direction.values)\n",
    "                               ))\n",
    "    return xi_eta_dir"
   ]
  },
  {
   "cell_type": "code",
   "execution_count": null,
   "metadata": {},
   "outputs": [],
   "source": [
    "def save_rivers(ds, name):\n",
    "    ds.to_netcdf(path='fram_data/norfjords_160m_river_{name}.nc', format='NETCDF4')"
   ]
  },
  {
   "cell_type": "markdown",
   "metadata": {},
   "source": [
    "Check rivers"
   ]
  },
  {
   "cell_type": "code",
   "execution_count": null,
   "metadata": {},
   "outputs": [],
   "source": [
    "ds = xr.open_dataset('fram_data/norfjords_160m_river_v2.nc')\n",
    "grid_ds = xr.open_dataset('fram_data/norfjords_160m_grid_version2+.nc')\n",
    "xi_eta_dir = check_rivers_runoff(ds)"
   ]
  },
  {
   "cell_type": "code",
   "execution_count": null,
   "metadata": {},
   "outputs": [],
   "source": [
    "def plot_river_estuary_u(river_xi, river_eta, river_dir):\n",
    "\n",
    "    assert river_dir == 0\n",
    "    plt.figure(figsize=(15, 4))\n",
    "\n",
    "    plt.subplot(121)\n",
    "    grid_ds.mask_u.isel(\n",
    "        xi_u=slice(river_xi - 2, river_xi + 3), \n",
    "        eta_u=slice(river_eta - 2, river_eta + 3)\n",
    "        ).plot()\n",
    "\n",
    "    grid_ds.mask_u[dict(xi_u=river_xi, eta_u=river_eta)] = np.nan\n",
    "\n",
    "    plt.subplot(122)\n",
    "    grid_ds.mask_u.isel(\n",
    "        xi_u=slice(river_xi - 2, river_xi + 3), \n",
    "        eta_u=slice(river_eta - 2, river_eta + 3)\n",
    "        ).plot()\n",
    "\n",
    "    plt.suptitle(f\"Xi: {river_xi}; Eta: {river_eta}; Direction: {river_dir}.\")\n",
    "\n",
    "\n",
    "def plot_river_estuary_v(river_xi, river_eta, river_dir):\n",
    "\n",
    "    assert river_dir == 1\n",
    "    plt.figure(figsize=(15, 4))\n",
    "\n",
    "    plt.subplot(121)\n",
    "    grid_ds.mask_v.isel(\n",
    "        xi_v=slice(river_xi - 2, river_xi + 3), \n",
    "        eta_v=slice(river_eta - 2, river_eta + 3)\n",
    "        ).plot()\n",
    "\n",
    "    grid_ds.mask_v[dict(xi_v=river_xi, eta_v=river_eta)] = np.nan\n",
    "\n",
    "    plt.subplot(122)\n",
    "    grid_ds.mask_v.isel(\n",
    "        xi_v=slice(river_xi - 2, river_xi + 3), \n",
    "        eta_v=slice(river_eta - 2, river_eta + 3)\n",
    "        ).plot()\n",
    "\n",
    "    plt.suptitle(f\"Xi: {river_xi}; Eta: {river_eta}; Direction: {river_dir}.\")"
   ]
  },
  {
   "cell_type": "code",
   "execution_count": null,
   "metadata": {},
   "outputs": [],
   "source": [
    "\"\"\"\n",
    "Probably, not sure: Due to roms notation where rho points start from zero \n",
    "(so not such points in fortran), eta coordinate in mask_u already \"has\"\n",
    "pythonic coordinates.\n",
    "https://www.myroms.org/wiki/Grid_Generation\n",
    "\"\"\"\n",
    "for xi, eta, direction in xi_eta_dir:\n",
    "    if direction == 0: \n",
    "        xi, eta = xi - 1, eta\n",
    "        plot_river_estuary_u(xi, eta, direction)\n",
    "    else:\n",
    "        xi, eta = xi, eta - 1\n",
    "        plot_river_estuary_v(xi, eta, direction)"
   ]
  },
  {
   "cell_type": "code",
   "execution_count": null,
   "metadata": {},
   "outputs": [],
   "source": []
  }
 ],
 "metadata": {
  "kernelspec": {
   "display_name": "Python 3.10.6 ('roms')",
   "language": "python",
   "name": "python3"
  },
  "language_info": {
   "codemirror_mode": {
    "name": "ipython",
    "version": 3
   },
   "file_extension": ".py",
   "mimetype": "text/x-python",
   "name": "python",
   "nbconvert_exporter": "python",
   "pygments_lexer": "ipython3",
   "version": "3.10.6"
  },
  "orig_nbformat": 4,
  "vscode": {
   "interpreter": {
    "hash": "28ab78b258d2399661cf741fa50026022a6ba8d6b3d5d80e7f106a09ae5157b4"
   }
  }
 },
 "nbformat": 4,
 "nbformat_minor": 2
}
