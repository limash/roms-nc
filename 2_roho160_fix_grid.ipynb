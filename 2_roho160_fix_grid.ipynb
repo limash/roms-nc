{
 "cells": [
  {
   "cell_type": "code",
   "execution_count": null,
   "metadata": {},
   "outputs": [],
   "source": [
    "import numpy as np\n",
    "import xarray as xr"
   ]
  },
  {
   "cell_type": "markdown",
   "metadata": {},
   "source": [
    "## Fix mask_rho variable - boundaries check"
   ]
  },
  {
   "cell_type": "code",
   "execution_count": null,
   "metadata": {},
   "outputs": [],
   "source": [
    "grid_ds = xr.open_dataset('fram_data/norfjords_160m_grid.nc')\n",
    "up_eta_rho = grid_ds.dims['eta_rho']\n",
    "up_xi_rho = grid_ds.dims['xi_rho']"
   ]
  },
  {
   "cell_type": "code",
   "execution_count": null,
   "metadata": {},
   "outputs": [],
   "source": [
    "border = {\n",
    "    'west': grid_ds.mask_rho.isel(xi_rho=slice(0, 2)),\n",
    "    'north': grid_ds.mask_rho.isel(eta_rho=slice(up_eta_rho-2, up_eta_rho)),  # grid_ds.mask_rho[-2:, :]\n",
    "    'east': grid_ds.mask_rho.isel(xi_rho=slice(up_xi_rho-2, up_xi_rho)),\n",
    "    'south': grid_ds.mask_rho.isel(eta_rho=slice(0, 2)),\n",
    "}\n",
    "\n",
    "pattern = {\n",
    "    'west': np.array([[1., 0.]]),\n",
    "    'north': np.array([[0.], [1.]]),\n",
    "    'east': np.array([[0., 1.]]),\n",
    "    'south': np.array([[1.], [0.]]),\n",
    "}\n",
    "\n",
    "def find_matches(border_position: str):\n",
    "    \"\"\"\n",
    "    find indices of matches\n",
    "    \"\"\"\n",
    "    if border_position in ('north', 'south'):\n",
    "        idx = np.argwhere(np.asarray(border[border_position].values == pattern[border_position], \n",
    "                          dtype=np.int32).transpose() @ np.array([1, 1]) > 1)\n",
    "    elif border_position in ('west', 'east'):\n",
    "        idx = np.argwhere(np.asarray(border[border_position].values == pattern[border_position], \n",
    "                          dtype=np.int32) @ np.array([1, 1]) > 1)\n",
    "    else:\n",
    "        raise ValueError\n",
    "\n",
    "    print(f\"{border_position} indices: {idx.transpose()[0]}\")\n",
    "    return idx"
   ]
  },
  {
   "cell_type": "code",
   "execution_count": null,
   "metadata": {},
   "outputs": [],
   "source": [
    "west_idx = find_matches('west')\n",
    "north_idx = find_matches('north')\n",
    "east_idx = find_matches('east')\n",
    "south_idx = find_matches('south')"
   ]
  },
  {
   "cell_type": "code",
   "execution_count": null,
   "metadata": {},
   "outputs": [],
   "source": [
    "def get_values(eta_rho, xi_rho):\n",
    "    try:\n",
    "        return grid_ds.mask_rho.isel(eta_rho=eta_rho, xi_rho=xi_rho).values\n",
    "    except IndexError:\n",
    "        return np.NAN\n",
    "\n",
    "\n",
    "def print_values():\n",
    "    print(f\"West values: {get_values(eta_rho=west_idx.squeeze(), xi_rho=0)}\")\n",
    "    print(f\"North values: {get_values(eta_rho=up_eta_rho-1, xi_rho=north_idx.squeeze())}\")\n",
    "    print(f\"East values: {get_values(eta_rho=east_idx.squeeze(), xi_rho=up_xi_rho-1)}\")\n",
    "    print(f\"South values: {get_values(eta_rho=0, xi_rho=south_idx.squeeze())}\")\n"
   ]
  },
  {
   "cell_type": "code",
   "execution_count": null,
   "metadata": {},
   "outputs": [],
   "source": [
    "print_values()"
   ]
  },
  {
   "cell_type": "markdown",
   "metadata": {},
   "source": [
    "Get xi and eta coordinates to use loc assignment (isel or iloc won't work)"
   ]
  },
  {
   "cell_type": "code",
   "execution_count": null,
   "metadata": {},
   "outputs": [],
   "source": [
    "\n",
    "xi_rho_west_coords = grid_ds.coords['xi_rho'][0]\n",
    "eta_rho_west_coords = grid_ds.coords['eta_rho'][west_idx.squeeze()] * xr.ones_like(xi_rho_west_coords)\n",
    "print(f\"Xi west coordinates: {xi_rho_west_coords}\\n\",\n",
    "      f\"Eta west coordinates: {eta_rho_west_coords}\\n\")\n",
    "\n",
    "xi_rho_north_coords = grid_ds.coords['xi_rho'][north_idx.squeeze()]\n",
    "eta_rho_north_coords = grid_ds.coords['eta_rho'][-1] * xr.ones_like(xi_rho_north_coords)\n",
    "print(f\"Xi north coordinates: {xi_rho_north_coords}\\n\",\n",
    "      f\"Eta north coordinates: {eta_rho_north_coords}\\n\")\n",
    "\n",
    "xi_rho_east_coords = grid_ds.coords['xi_rho'][-1]\n",
    "eta_rho_east_coords = grid_ds.coords['eta_rho'][east_idx.squeeze()] * xr.ones_like(xi_rho_east_coords)\n",
    "print(f\"Xi east coordinates: {xi_rho_east_coords}\\n\",\n",
    "      f\"Eta east coordinates: {eta_rho_east_coords}\\n\")\n",
    "\n",
    "xi_rho_south_coords = grid_ds.coords['xi_rho'][south_idx.squeeze()]\n",
    "eta_rho_south_coords = grid_ds.coords['eta_rho'][0] * xr.ones_like(xi_rho_south_coords)\n",
    "print(f\"Xi south coordinates: {xi_rho_south_coords}\\n\",\n",
    "      f\"Eta south coordinates: {eta_rho_south_coords}\\n\")\n"
   ]
  },
  {
   "cell_type": "code",
   "execution_count": null,
   "metadata": {},
   "outputs": [],
   "source": [
    "# mask the corresponding points in mask_rho\n",
    "coords = (\n",
    "    (xi_rho_west_coords, eta_rho_west_coords),\n",
    "    (xi_rho_north_coords, eta_rho_north_coords),\n",
    "    (xi_rho_east_coords, eta_rho_east_coords),\n",
    "    (xi_rho_south_coords, eta_rho_south_coords),\n",
    ")\n",
    "for coord in coords:\n",
    "    grid_ds.mask_rho.loc[dict(xi_rho=coord[0], eta_rho=coord[1])] = 0"
   ]
  },
  {
   "cell_type": "code",
   "execution_count": null,
   "metadata": {},
   "outputs": [],
   "source": [
    "print_values()"
   ]
  },
  {
   "cell_type": "markdown",
   "metadata": {},
   "source": [
    "## Mask out the particular points, which cause instabilities"
   ]
  },
  {
   "cell_type": "code",
   "execution_count": null,
   "metadata": {},
   "outputs": [],
   "source": [
    "grid_ds = xr.open_dataset('fram_data/norfjords_160m_grid_version2.nc')"
   ]
  },
  {
   "cell_type": "markdown",
   "metadata": {},
   "source": [
    "The firts bad area"
   ]
  },
  {
   "cell_type": "code",
   "execution_count": null,
   "metadata": {},
   "outputs": [],
   "source": [
    "grid_ds.mask_rho.isel(xi_rho=slice(1240, 1250), eta_rho=slice(805, 815)).plot(figsize=(14, 7))"
   ]
  },
  {
   "cell_type": "code",
   "execution_count": null,
   "metadata": {},
   "outputs": [],
   "source": [
    "# grid_ds.mask_rho.values[809:812, 1241:1244] = np.zeros((3, 3))\n",
    "# grid_ds.mask_rho.isel(xi_rho=slice(1240, 1250), eta_rho=slice(805, 815)).plot(figsize=(14, 7))"
   ]
  },
  {
   "cell_type": "markdown",
   "metadata": {},
   "source": [
    "The second bad area"
   ]
  },
  {
   "cell_type": "code",
   "execution_count": null,
   "metadata": {},
   "outputs": [],
   "source": [
    "grid_ds.mask_rho.isel(xi_rho=slice(1240, 1250), eta_rho=slice(670, 680)).plot(figsize=(14, 7))"
   ]
  },
  {
   "cell_type": "code",
   "execution_count": null,
   "metadata": {},
   "outputs": [],
   "source": [
    "# grid_ds.mask_rho.values[675:678, 1244:1248] = np.zeros((3, 4))\n",
    "# grid_ds.mask_rho.isel(xi_rho=slice(1240, 1250), eta_rho=slice(670, 680)).plot(figsize=(14, 7))"
   ]
  },
  {
   "cell_type": "markdown",
   "metadata": {},
   "source": [
    "The third bad area"
   ]
  },
  {
   "cell_type": "code",
   "execution_count": null,
   "metadata": {},
   "outputs": [],
   "source": [
    "grid_ds.mask_rho.isel(xi_rho=slice(855, 865), eta_rho=slice(540, 550)).plot(figsize=(14, 7))"
   ]
  },
  {
   "cell_type": "code",
   "execution_count": null,
   "metadata": {},
   "outputs": [],
   "source": [
    "# grid_ds.mask_rho.values[545:547, 858:860] = np.zeros((2, 2))\n",
    "# grid_ds.mask_rho.isel(xi_rho=slice(855, 865), eta_rho=slice(540, 550)).plot(figsize=(14, 7))"
   ]
  },
  {
   "cell_type": "markdown",
   "metadata": {},
   "source": [
    "The fourth bad area"
   ]
  },
  {
   "cell_type": "code",
   "execution_count": null,
   "metadata": {},
   "outputs": [],
   "source": [
    "grid_ds.mask_rho.isel(xi_rho=slice(570, 580), eta_rho=slice(50, 60)).plot(figsize=(14, 7))"
   ]
  },
  {
   "cell_type": "code",
   "execution_count": null,
   "metadata": {},
   "outputs": [],
   "source": [
    "# grid_ds.mask_rho.values[53:57, 573:576] = np.zeros((4, 3))\n",
    "# grid_ds.mask_rho.isel(xi_rho=slice(570, 580), eta_rho=slice(50, 60)).plot(figsize=(14, 7))"
   ]
  },
  {
   "cell_type": "markdown",
   "metadata": {},
   "source": [
    "## Rewrite other masks"
   ]
  },
  {
   "cell_type": "code",
   "execution_count": null,
   "metadata": {},
   "outputs": [],
   "source": [
    "grid_ds.mask_rho"
   ]
  },
  {
   "cell_type": "code",
   "execution_count": null,
   "metadata": {},
   "outputs": [],
   "source": [
    "left_mask = grid_ds.mask_rho.isel(xi_rho=slice(1, None)).values  # left border\n",
    "right_mask = grid_ds.mask_rho.isel(xi_rho=slice(None, -1)).values  # Right border\n",
    "u_mask = left_mask * right_mask\n",
    "grid_ds.mask_u.values = u_mask"
   ]
  },
  {
   "cell_type": "code",
   "execution_count": null,
   "metadata": {},
   "outputs": [],
   "source": [
    "bottom_mask = grid_ds.mask_rho.isel(eta_rho=slice(1, None)).values  # bottom border\n",
    "upper_mask = grid_ds.mask_rho.isel(eta_rho=slice(None, -1)).values  # upper border\n",
    "v_mask = bottom_mask * upper_mask\n",
    "grid_ds.mask_v.values = v_mask"
   ]
  },
  {
   "cell_type": "code",
   "execution_count": null,
   "metadata": {},
   "outputs": [],
   "source": [
    "psi_mask = u_mask[:-1, :] * v_mask[:, :-1]  # [eta, xi]\n",
    "grid_ds.mask_psi.values = psi_mask"
   ]
  },
  {
   "cell_type": "code",
   "execution_count": null,
   "metadata": {},
   "outputs": [],
   "source": [
    "print(u_mask.shape, v_mask.shape, psi_mask.shape)"
   ]
  },
  {
   "cell_type": "markdown",
   "metadata": {},
   "source": [
    "## Save"
   ]
  },
  {
   "cell_type": "code",
   "execution_count": null,
   "metadata": {},
   "outputs": [],
   "source": [
    "grid_ds.to_netcdf(path='fram_data/norfjords_160m_grid_version2+.nc', format='NETCDF4')"
   ]
  },
  {
   "cell_type": "code",
   "execution_count": null,
   "metadata": {},
   "outputs": [],
   "source": [
    "grid_ds.mask_rho.isel(eta_rho=slice(953, 958), xi_rho=slice(1435, 1440))"
   ]
  },
  {
   "cell_type": "code",
   "execution_count": null,
   "metadata": {},
   "outputs": [],
   "source": [
    "grid_ds.mask_u.isel(eta_u=slice(953, 958), xi_u=slice(1435, 1440))"
   ]
  },
  {
   "cell_type": "code",
   "execution_count": null,
   "metadata": {},
   "outputs": [],
   "source": [
    "grid_ds.mask_v.isel(eta_v=slice(953, 958), xi_v=slice(1435, 1440))"
   ]
  },
  {
   "cell_type": "code",
   "execution_count": null,
   "metadata": {},
   "outputs": [],
   "source": [
    "grid_ds.mask_psi.isel(eta_psi=slice(953, 958), xi_psi=slice(1435, 1440))"
   ]
  },
  {
   "cell_type": "code",
   "execution_count": null,
   "metadata": {},
   "outputs": [],
   "source": []
  }
 ],
 "metadata": {
  "kernelspec": {
   "display_name": "Python 3.10.6 ('roms')",
   "language": "python",
   "name": "python3"
  },
  "language_info": {
   "codemirror_mode": {
    "name": "ipython",
    "version": 3
   },
   "file_extension": ".py",
   "mimetype": "text/x-python",
   "name": "python",
   "nbconvert_exporter": "python",
   "pygments_lexer": "ipython3",
   "version": "3.10.6"
  },
  "orig_nbformat": 4,
  "vscode": {
   "interpreter": {
    "hash": "28ab78b258d2399661cf741fa50026022a6ba8d6b3d5d80e7f106a09ae5157b4"
   }
  }
 },
 "nbformat": 4,
 "nbformat_minor": 2
}
