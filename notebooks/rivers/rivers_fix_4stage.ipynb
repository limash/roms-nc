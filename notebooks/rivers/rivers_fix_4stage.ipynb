{
 "cells": [
  {
   "cell_type": "code",
   "execution_count": null,
   "metadata": {},
   "outputs": [],
   "source": [
    "import xarray as xr\n",
    "\n",
    "from roms_nc.handlers import RiversHandler, GridHandler, OutputHandler"
   ]
  },
  {
   "cell_type": "code",
   "execution_count": null,
   "metadata": {},
   "outputs": [],
   "source": [
    "grid_folder = \"/cluster/projects/nn9297k/ROHO160+/InputData/Grid/\"\n",
    "rivers_folder = \"/cluster/projects/nn9297k/ROHO160+/InputData/Rivers/\""
   ]
  },
  {
   "cell_type": "code",
   "execution_count": null,
   "metadata": {},
   "outputs": [],
   "source": [
    "grid_ds = xr.open_dataset(grid_folder + \"roho_160m_sigma3_min20.nc\")\n",
    "river_ds = xr.open_dataset(rivers_folder + \"norfjords_160m_river_25_layers.nc\")"
   ]
  },
  {
   "cell_type": "code",
   "execution_count": null,
   "metadata": {},
   "outputs": [],
   "source": [
    "rivhand = RiversHandler(grid_ds)\n",
    "rivers = RiversHandler.check_rivers_entire_runoff(river_ds, runoff=100)"
   ]
  },
  {
   "cell_type": "code",
   "execution_count": null,
   "metadata": {},
   "outputs": [],
   "source": [
    "rivers  # type: ignore"
   ]
  },
  {
   "cell_type": "markdown",
   "metadata": {},
   "source": [
    "River 1"
   ]
  },
  {
   "cell_type": "code",
   "execution_count": null,
   "metadata": {},
   "outputs": [],
   "source": [
    "r_list_number = 1\n",
    "riv_number, xi, eta, _, _ = rivers[r_list_number-1]\n",
    "print(f\"River number: {riv_number}\")\n",
    "print(\"Other rivers nearby:\")\n",
    "RiversHandler.check_coords(river_ds, xi, eta)\n",
    "rivhand.plot_rivers_luv(rivers[r_list_number-1:r_list_number])"
   ]
  },
  {
   "cell_type": "code",
   "execution_count": null,
   "metadata": {},
   "outputs": [],
   "source": [
    "rivhand.plot_rivers_luv([[-1, 561, 110, 1, -1]])"
   ]
  },
  {
   "cell_type": "code",
   "execution_count": null,
   "metadata": {},
   "outputs": [],
   "source": [
    "river_ds = rivhand.split_report(river_ds, riv_number, \n",
    "                                s_xi=561, s_eta=110)"
   ]
  },
  {
   "cell_type": "markdown",
   "metadata": {},
   "source": [
    "River 2"
   ]
  },
  {
   "cell_type": "code",
   "execution_count": null,
   "metadata": {},
   "outputs": [],
   "source": [
    "r_list_number = 2\n",
    "riv_number, xi, eta, _, _ = rivers[r_list_number-1]\n",
    "print(f\"River number: {riv_number}\")\n",
    "print(\"Other rivers nearby:\")\n",
    "RiversHandler.check_coords(river_ds, xi, eta)\n",
    "rivhand.plot_rivers_luv(rivers[r_list_number-1:r_list_number])"
   ]
  },
  {
   "cell_type": "code",
   "execution_count": null,
   "metadata": {},
   "outputs": [],
   "source": [
    "rivhand.plot_rivers_luv([[-1, 1327, 172, 1, -1]])"
   ]
  },
  {
   "cell_type": "code",
   "execution_count": null,
   "metadata": {},
   "outputs": [],
   "source": [
    "river_ds = rivhand.split_report(river_ds, riv_number, \n",
    "                                s_xi=1327, s_eta=172)"
   ]
  },
  {
   "cell_type": "markdown",
   "metadata": {},
   "source": [
    "River 3"
   ]
  },
  {
   "cell_type": "code",
   "execution_count": null,
   "metadata": {},
   "outputs": [],
   "source": [
    "r_list_number = 3\n",
    "riv_number, xi, eta, _, _ = rivers[r_list_number-1]\n",
    "print(f\"River number: {riv_number}\")\n",
    "print(\"Other rivers nearby:\")\n",
    "RiversHandler.check_coords(river_ds, xi, eta)\n",
    "rivhand.plot_rivers_luv(rivers[r_list_number-1:r_list_number])"
   ]
  },
  {
   "cell_type": "code",
   "execution_count": null,
   "metadata": {},
   "outputs": [],
   "source": [
    "rivhand.plot_rivers_luv([[-1, 977, 362, 0, -1]])"
   ]
  },
  {
   "cell_type": "code",
   "execution_count": null,
   "metadata": {},
   "outputs": [],
   "source": [
    "river_ds = rivhand.split_report(river_ds, riv_number, \n",
    "                                s_xi=977, s_eta=362)"
   ]
  },
  {
   "cell_type": "markdown",
   "metadata": {},
   "source": [
    "River 4"
   ]
  },
  {
   "cell_type": "code",
   "execution_count": null,
   "metadata": {},
   "outputs": [],
   "source": [
    "r_list_number = 4\n",
    "riv_number, xi, eta, _, _ = rivers[r_list_number-1]\n",
    "print(f\"River number: {riv_number}\")\n",
    "print(\"Other rivers nearby:\")\n",
    "RiversHandler.check_coords(river_ds, xi, eta)\n",
    "rivhand.plot_rivers_luv(rivers[r_list_number-1:r_list_number])"
   ]
  },
  {
   "cell_type": "code",
   "execution_count": null,
   "metadata": {},
   "outputs": [],
   "source": [
    "rivhand.plot_rivers_luv([[-1, 784, 365, 0, -1]])"
   ]
  },
  {
   "cell_type": "code",
   "execution_count": null,
   "metadata": {},
   "outputs": [],
   "source": [
    "river_ds = rivhand.split_report(river_ds, riv_number, \n",
    "                                s_xi=784, s_eta=365)"
   ]
  },
  {
   "cell_type": "markdown",
   "metadata": {},
   "source": [
    "River 5"
   ]
  },
  {
   "cell_type": "code",
   "execution_count": null,
   "metadata": {},
   "outputs": [],
   "source": [
    "r_list_number = 5\n",
    "riv_number, xi, eta, _, _ = rivers[r_list_number-1]\n",
    "print(f\"River number: {riv_number}\")\n",
    "print(\"Other rivers nearby:\")\n",
    "RiversHandler.check_coords(river_ds, xi, eta)\n",
    "rivhand.plot_rivers_luv(rivers[r_list_number-1:r_list_number])"
   ]
  },
  {
   "cell_type": "code",
   "execution_count": null,
   "metadata": {},
   "outputs": [],
   "source": [
    "rivhand.plot_rivers_luv([[-1, 930, 452, 0, -1]])"
   ]
  },
  {
   "cell_type": "code",
   "execution_count": null,
   "metadata": {},
   "outputs": [],
   "source": [
    "river_ds = rivhand.split_report(river_ds, riv_number, \n",
    "                                s_xi=930, s_eta=452)"
   ]
  },
  {
   "cell_type": "markdown",
   "metadata": {},
   "source": [
    "River 6"
   ]
  },
  {
   "cell_type": "code",
   "execution_count": null,
   "metadata": {},
   "outputs": [],
   "source": [
    "r_list_number = 6\n",
    "riv_number, xi, eta, _, _ = rivers[r_list_number-1]\n",
    "print(f\"River number: {riv_number}\")\n",
    "print(\"Other rivers nearby:\")\n",
    "RiversHandler.check_coords(river_ds, xi, eta)\n",
    "rivhand.plot_rivers_luv(rivers[r_list_number-1:r_list_number])"
   ]
  },
  {
   "cell_type": "code",
   "execution_count": null,
   "metadata": {},
   "outputs": [],
   "source": [
    "rivhand.plot_rivers_luv([[-1, 1092, 423, 1, -1]])"
   ]
  },
  {
   "cell_type": "code",
   "execution_count": null,
   "metadata": {},
   "outputs": [],
   "source": [
    "river_ds = rivhand.split_report(river_ds, riv_number, \n",
    "                                s_xi=1092, s_eta=423)"
   ]
  },
  {
   "attachments": {},
   "cell_type": "markdown",
   "metadata": {},
   "source": [
    "River 7"
   ]
  },
  {
   "cell_type": "code",
   "execution_count": null,
   "metadata": {},
   "outputs": [],
   "source": [
    "r_list_number = 7\n",
    "riv_number, xi, eta, _, _ = rivers[r_list_number-1]\n",
    "print(f\"River number: {riv_number}\")\n",
    "print(\"Other rivers nearby:\")\n",
    "RiversHandler.check_coords(river_ds, xi, eta)\n",
    "rivhand.plot_rivers_luv(rivers[r_list_number-1:r_list_number])"
   ]
  },
  {
   "cell_type": "code",
   "execution_count": null,
   "metadata": {},
   "outputs": [],
   "source": [
    "rivhand.plot_rivers_luv([[-1, 1303, 737, 0, -1]])"
   ]
  },
  {
   "cell_type": "code",
   "execution_count": null,
   "metadata": {},
   "outputs": [],
   "source": [
    "river_ds = rivhand.split_report(river_ds, riv_number, \n",
    "                                s_xi=1303, s_eta=737)"
   ]
  },
  {
   "attachments": {},
   "cell_type": "markdown",
   "metadata": {},
   "source": [
    "River 8"
   ]
  },
  {
   "cell_type": "code",
   "execution_count": null,
   "metadata": {},
   "outputs": [],
   "source": [
    "r_list_number = 8\n",
    "riv_number, xi, eta, _, _ = rivers[r_list_number-1]\n",
    "print(f\"River number: {riv_number}\")\n",
    "print(\"Other rivers nearby:\")\n",
    "RiversHandler.check_coords(river_ds, xi, eta)\n",
    "rivhand.plot_rivers_luv(rivers[r_list_number-1:r_list_number])"
   ]
  },
  {
   "cell_type": "code",
   "execution_count": null,
   "metadata": {},
   "outputs": [],
   "source": [
    "rivhand.plot_rivers_luv([[-1, 1095, 422, 1, -1]])"
   ]
  },
  {
   "cell_type": "code",
   "execution_count": null,
   "metadata": {},
   "outputs": [],
   "source": [
    "river_ds = rivhand.split_report(river_ds, riv_number, \n",
    "                                s_xi=1095, s_eta=422)"
   ]
  },
  {
   "cell_type": "markdown",
   "metadata": {},
   "source": [
    "Saving"
   ]
  },
  {
   "cell_type": "code",
   "execution_count": null,
   "metadata": {},
   "outputs": [],
   "source": [
    "river_ds.to_netcdf(rivers_folder+'norfjords_160m_river_25_layers+.nc')"
   ]
  },
  {
   "cell_type": "code",
   "execution_count": null,
   "metadata": {},
   "outputs": [],
   "source": []
  }
 ],
 "metadata": {
  "kernelspec": {
   "display_name": "ocean",
   "language": "python",
   "name": "python3"
  },
  "language_info": {
   "codemirror_mode": {
    "name": "ipython",
    "version": 3
   },
   "file_extension": ".py",
   "mimetype": "text/x-python",
   "name": "python",
   "nbconvert_exporter": "python",
   "pygments_lexer": "ipython3",
   "version": "3.10.9"
  },
  "orig_nbformat": 4,
  "vscode": {
   "interpreter": {
    "hash": "09182ebedb5b43d08a38b94883568d2720fd3c57eb8ca0153aac7cd0bb18f44f"
   }
  }
 },
 "nbformat": 4,
 "nbformat_minor": 2
}
