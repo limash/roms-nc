{
 "cells": [
  {
   "cell_type": "code",
   "execution_count": null,
   "metadata": {},
   "outputs": [],
   "source": [
    "import xarray as xr\n",
    "\n",
    "from src.tools import RiversHandler, GridHandler, OutputHandler"
   ]
  },
  {
   "cell_type": "code",
   "execution_count": null,
   "metadata": {},
   "outputs": [],
   "source": [
    "grid_ds = xr.open_dataset('fram_data/norfjords_160m_grid_version3.nc')\n",
    "river_ds = xr.open_dataset('fram_data/norfjords_160m_river_stage1.nc')"
   ]
  },
  {
   "cell_type": "code",
   "execution_count": null,
   "metadata": {},
   "outputs": [],
   "source": [
    "rivhand = RiversHandler(grid_ds)\n",
    "rivers = RiversHandler.check_rivers_entire_runoff(river_ds, runoff=40)"
   ]
  },
  {
   "cell_type": "code",
   "execution_count": null,
   "metadata": {},
   "outputs": [],
   "source": [
    "rivers  # type: ignore"
   ]
  },
  {
   "cell_type": "markdown",
   "metadata": {},
   "source": [
    "River 1: 12"
   ]
  },
  {
   "cell_type": "code",
   "execution_count": null,
   "metadata": {},
   "outputs": [],
   "source": [
    "r_list_number = 1\n",
    "rivhand.plot_rivers_luv(rivers[r_list_number-1:r_list_number])"
   ]
  },
  {
   "cell_type": "code",
   "execution_count": null,
   "metadata": {},
   "outputs": [],
   "source": [
    "riv_number = 12\n",
    "RiversHandler.check_coords(river_ds, 728, 10)"
   ]
  },
  {
   "cell_type": "code",
   "execution_count": null,
   "metadata": {},
   "outputs": [],
   "source": [
    "rivhand.plot_rivers_luv([[-1, 729, 13, 0, -1]])"
   ]
  },
  {
   "cell_type": "code",
   "execution_count": null,
   "metadata": {},
   "outputs": [],
   "source": [
    "river_ds = rivhand.split_report(river_ds, riv_number, \n",
    "                                s_xi=729, s_eta=13)"
   ]
  },
  {
   "cell_type": "markdown",
   "metadata": {},
   "source": [
    "River 2: 80"
   ]
  },
  {
   "cell_type": "code",
   "execution_count": null,
   "metadata": {},
   "outputs": [],
   "source": [
    "r_list_number = 2\n",
    "rivhand.plot_rivers_luv(rivers[r_list_number-1:r_list_number])"
   ]
  },
  {
   "cell_type": "code",
   "execution_count": null,
   "metadata": {},
   "outputs": [],
   "source": [
    "riv_number = 80\n",
    "RiversHandler.check_coords(river_ds, 1024, 84)"
   ]
  },
  {
   "cell_type": "code",
   "execution_count": null,
   "metadata": {},
   "outputs": [],
   "source": [
    "rivhand.plot_rivers_luv([[-1, 1025, 84, 1, -1]])"
   ]
  },
  {
   "cell_type": "code",
   "execution_count": null,
   "metadata": {},
   "outputs": [],
   "source": [
    "river_ds = rivhand.split_report(river_ds, riv_number, \n",
    "                                s_xi=1025, s_eta=84)"
   ]
  },
  {
   "cell_type": "markdown",
   "metadata": {},
   "source": [
    "River 3: 84"
   ]
  },
  {
   "cell_type": "code",
   "execution_count": null,
   "metadata": {},
   "outputs": [],
   "source": [
    "r_list_number = 3\n",
    "rivhand.plot_rivers_luv(rivers[r_list_number-1:r_list_number])"
   ]
  },
  {
   "cell_type": "code",
   "execution_count": null,
   "metadata": {},
   "outputs": [],
   "source": [
    "riv_number = 84\n",
    "RiversHandler.check_coords(river_ds, 1053, 96)"
   ]
  },
  {
   "cell_type": "code",
   "execution_count": null,
   "metadata": {},
   "outputs": [],
   "source": [
    "rivhand.plot_rivers_luv([[-1, 1052, 96, 1, -1]])"
   ]
  },
  {
   "cell_type": "code",
   "execution_count": null,
   "metadata": {},
   "outputs": [],
   "source": [
    "river_ds = rivhand.split_report(river_ds, riv_number, \n",
    "                                s_xi=1052, s_eta=96)"
   ]
  },
  {
   "cell_type": "markdown",
   "metadata": {},
   "source": [
    "River 4: 91"
   ]
  },
  {
   "cell_type": "code",
   "execution_count": null,
   "metadata": {},
   "outputs": [],
   "source": [
    "r_list_number = 4\n",
    "rivhand.plot_rivers_luv(rivers[r_list_number-1:r_list_number])"
   ]
  },
  {
   "cell_type": "code",
   "execution_count": null,
   "metadata": {},
   "outputs": [],
   "source": [
    "riv_number = 91\n",
    "RiversHandler.check_coords(river_ds, 1352, 48)"
   ]
  },
  {
   "cell_type": "code",
   "execution_count": null,
   "metadata": {},
   "outputs": [],
   "source": [
    "rivhand.plot_rivers_luv([[-1, 1350, 48, 1, -1]])"
   ]
  },
  {
   "cell_type": "code",
   "execution_count": null,
   "metadata": {},
   "outputs": [],
   "source": [
    "river_ds = rivhand.split_report(river_ds, riv_number, \n",
    "                                s_xi=1350, s_eta=48)"
   ]
  },
  {
   "cell_type": "markdown",
   "metadata": {},
   "source": [
    "River 5: 148"
   ]
  },
  {
   "cell_type": "code",
   "execution_count": null,
   "metadata": {},
   "outputs": [],
   "source": [
    "r_list_number = 5\n",
    "rivhand.plot_rivers_luv(rivers[r_list_number-1:r_list_number])"
   ]
  },
  {
   "cell_type": "code",
   "execution_count": null,
   "metadata": {},
   "outputs": [],
   "source": [
    "riv_number = 148\n",
    "RiversHandler.check_coords(river_ds, 1285, 444)"
   ]
  },
  {
   "cell_type": "code",
   "execution_count": null,
   "metadata": {},
   "outputs": [],
   "source": [
    "rivhand.plot_rivers_luv([[-1, 1284, 444, 1, -1]])"
   ]
  },
  {
   "cell_type": "code",
   "execution_count": null,
   "metadata": {},
   "outputs": [],
   "source": [
    "river_ds = rivhand.split_report(river_ds, riv_number, \n",
    "                                s_xi=1284, s_eta=444)"
   ]
  },
  {
   "cell_type": "markdown",
   "metadata": {},
   "source": [
    "River 6: 150 - skip"
   ]
  },
  {
   "cell_type": "code",
   "execution_count": null,
   "metadata": {},
   "outputs": [],
   "source": [
    "r_list_number = 6\n",
    "rivhand.plot_rivers_luv(rivers[r_list_number-1:r_list_number])"
   ]
  },
  {
   "cell_type": "code",
   "execution_count": null,
   "metadata": {},
   "outputs": [],
   "source": [
    "riv_number = 84\n",
    "RiversHandler.check_coords(river_ds, 1053, 96)"
   ]
  },
  {
   "cell_type": "code",
   "execution_count": null,
   "metadata": {},
   "outputs": [],
   "source": [
    "rivhand.plot_rivers_luv([[-1, 1054, 96, 1, -1]])"
   ]
  },
  {
   "cell_type": "code",
   "execution_count": null,
   "metadata": {},
   "outputs": [],
   "source": [
    "river_ds = rivhand.split_report(river_ds, riv_number, \n",
    "                                s_xi=1054, s_eta=96)"
   ]
  },
  {
   "cell_type": "markdown",
   "metadata": {},
   "source": [
    "River 7: 154"
   ]
  },
  {
   "cell_type": "code",
   "execution_count": null,
   "metadata": {},
   "outputs": [],
   "source": [
    "r_list_number = 7\n",
    "rivhand.plot_rivers_luv(rivers[r_list_number-1:r_list_number])"
   ]
  },
  {
   "cell_type": "code",
   "execution_count": null,
   "metadata": {},
   "outputs": [],
   "source": [
    "riv_number = 154\n",
    "RiversHandler.check_coords(river_ds, 1373, 541)"
   ]
  },
  {
   "cell_type": "code",
   "execution_count": null,
   "metadata": {},
   "outputs": [],
   "source": [
    "rivhand.plot_rivers_luv([[-1, 1372, 541, 1, -1]])"
   ]
  },
  {
   "cell_type": "code",
   "execution_count": null,
   "metadata": {},
   "outputs": [],
   "source": [
    "river_ds = rivhand.split_report(river_ds, riv_number, \n",
    "                                s_xi=1372, s_eta=541)"
   ]
  },
  {
   "cell_type": "markdown",
   "metadata": {},
   "source": [
    "River 8: 176"
   ]
  },
  {
   "cell_type": "code",
   "execution_count": null,
   "metadata": {},
   "outputs": [],
   "source": [
    "r_list_number = 8\n",
    "rivhand.plot_rivers_luv(rivers[r_list_number-1:r_list_number])"
   ]
  },
  {
   "cell_type": "code",
   "execution_count": null,
   "metadata": {},
   "outputs": [],
   "source": [
    "riv_number = 176\n",
    "RiversHandler.check_coords(river_ds, 728, 9)"
   ]
  },
  {
   "cell_type": "code",
   "execution_count": null,
   "metadata": {},
   "outputs": [],
   "source": [
    "rivhand.plot_rivers_luv([[-1, 729, 11, 0, -1]])"
   ]
  },
  {
   "cell_type": "code",
   "execution_count": null,
   "metadata": {},
   "outputs": [],
   "source": [
    "river_ds = rivhand.split_report(river_ds, riv_number, \n",
    "                                s_xi=729, s_eta=11)"
   ]
  },
  {
   "cell_type": "markdown",
   "metadata": {},
   "source": [
    "River 9: 180"
   ]
  },
  {
   "cell_type": "code",
   "execution_count": null,
   "metadata": {},
   "outputs": [],
   "source": [
    "r_list_number = 9\n",
    "rivhand.plot_rivers_luv(rivers[r_list_number-1:r_list_number])"
   ]
  },
  {
   "cell_type": "code",
   "execution_count": null,
   "metadata": {},
   "outputs": [],
   "source": [
    "riv_number = 180\n",
    "RiversHandler.check_coords(river_ds, 1026, 84)"
   ]
  },
  {
   "cell_type": "code",
   "execution_count": null,
   "metadata": {},
   "outputs": [],
   "source": [
    "rivhand.plot_rivers_luv([[-1, 1027, 84, 1, -1]])"
   ]
  },
  {
   "cell_type": "code",
   "execution_count": null,
   "metadata": {},
   "outputs": [],
   "source": [
    "river_ds = rivhand.split_report(river_ds, riv_number, \n",
    "                                s_xi=1027, s_eta=84)"
   ]
  },
  {
   "cell_type": "markdown",
   "metadata": {},
   "source": [
    "River 10: 181"
   ]
  },
  {
   "cell_type": "code",
   "execution_count": null,
   "metadata": {},
   "outputs": [],
   "source": [
    "r_list_number = 10\n",
    "rivhand.plot_rivers_luv(rivers[r_list_number-1:r_list_number])"
   ]
  },
  {
   "cell_type": "code",
   "execution_count": null,
   "metadata": {},
   "outputs": [],
   "source": [
    "riv_number = 181\n",
    "RiversHandler.check_coords(river_ds, 1054, 96)"
   ]
  },
  {
   "cell_type": "code",
   "execution_count": null,
   "metadata": {},
   "outputs": [],
   "source": [
    "rivhand.plot_rivers_luv([[-1, 1055, 96, 1, -1]])"
   ]
  },
  {
   "cell_type": "code",
   "execution_count": null,
   "metadata": {},
   "outputs": [],
   "source": [
    "river_ds = rivhand.split_report(river_ds, riv_number, \n",
    "                                s_xi=1055, s_eta=96)"
   ]
  },
  {
   "cell_type": "markdown",
   "metadata": {},
   "source": [
    "River 11: 182"
   ]
  },
  {
   "cell_type": "code",
   "execution_count": null,
   "metadata": {},
   "outputs": [],
   "source": [
    "r_list_number = 11\n",
    "rivhand.plot_rivers_luv(rivers[r_list_number-1:r_list_number])"
   ]
  },
  {
   "cell_type": "code",
   "execution_count": null,
   "metadata": {},
   "outputs": [],
   "source": [
    "riv_number = 182\n",
    "RiversHandler.check_coords(river_ds, 1351, 48)"
   ]
  },
  {
   "cell_type": "code",
   "execution_count": null,
   "metadata": {},
   "outputs": [],
   "source": [
    "rivhand.plot_rivers_luv([[-1, 1349, 48, 1, -1]])"
   ]
  },
  {
   "cell_type": "code",
   "execution_count": null,
   "metadata": {},
   "outputs": [],
   "source": [
    "river_ds = rivhand.split_report(river_ds, riv_number, \n",
    "                                s_xi=1349, s_eta=48)"
   ]
  },
  {
   "cell_type": "markdown",
   "metadata": {},
   "source": [
    "River 12: 185"
   ]
  },
  {
   "cell_type": "code",
   "execution_count": null,
   "metadata": {},
   "outputs": [],
   "source": [
    "r_list_number = 12\n",
    "rivhand.plot_rivers_luv(rivers[r_list_number-1:r_list_number])"
   ]
  },
  {
   "cell_type": "code",
   "execution_count": null,
   "metadata": {},
   "outputs": [],
   "source": [
    "riv_number = 185\n",
    "RiversHandler.check_coords(river_ds, 1286, 444)"
   ]
  },
  {
   "cell_type": "code",
   "execution_count": null,
   "metadata": {},
   "outputs": [],
   "source": [
    "rivhand.plot_rivers_luv([[-1, 1283, 445, 1, -1]])"
   ]
  },
  {
   "cell_type": "code",
   "execution_count": null,
   "metadata": {},
   "outputs": [],
   "source": [
    "river_ds = rivhand.split_report(river_ds, riv_number, \n",
    "                                s_xi=1283, s_eta=445)"
   ]
  },
  {
   "cell_type": "markdown",
   "metadata": {},
   "source": [
    "River 13: 186 - skip"
   ]
  },
  {
   "cell_type": "code",
   "execution_count": null,
   "metadata": {},
   "outputs": [],
   "source": [
    "r_list_number = 13\n",
    "rivhand.plot_rivers_luv(rivers[r_list_number-1:r_list_number])"
   ]
  },
  {
   "cell_type": "code",
   "execution_count": null,
   "metadata": {},
   "outputs": [],
   "source": [
    "riv_number = 162\n",
    "RiversHandler.check_coords(river_ds, 1359, 642)"
   ]
  },
  {
   "cell_type": "code",
   "execution_count": null,
   "metadata": {},
   "outputs": [],
   "source": [
    "rivhand.plot_rivers_luv([[-1, 1359, 643, 0, -1]])"
   ]
  },
  {
   "cell_type": "code",
   "execution_count": null,
   "metadata": {},
   "outputs": [],
   "source": [
    "river_ds = rivhand.split_report(river_ds, riv_number, \n",
    "                                s_xi=1359, s_eta=643)"
   ]
  },
  {
   "cell_type": "markdown",
   "metadata": {},
   "source": [
    "River 14: 187"
   ]
  },
  {
   "cell_type": "code",
   "execution_count": null,
   "metadata": {},
   "outputs": [],
   "source": [
    "r_list_number = 14\n",
    "rivhand.plot_rivers_luv(rivers[r_list_number-1:r_list_number])"
   ]
  },
  {
   "cell_type": "code",
   "execution_count": null,
   "metadata": {},
   "outputs": [],
   "source": [
    "riv_number = 187\n",
    "RiversHandler.check_coords(river_ds, 1371, 542)"
   ]
  },
  {
   "cell_type": "code",
   "execution_count": null,
   "metadata": {},
   "outputs": [],
   "source": [
    "rivhand.plot_rivers_luv([[-1, 1370, 543, 1, -1]])"
   ]
  },
  {
   "cell_type": "code",
   "execution_count": null,
   "metadata": {},
   "outputs": [],
   "source": [
    "river_ds = rivhand.split_report(river_ds, riv_number, \n",
    "                                s_xi=1370, s_eta=543)"
   ]
  },
  {
   "cell_type": "markdown",
   "metadata": {},
   "source": [
    "Saving"
   ]
  },
  {
   "cell_type": "code",
   "execution_count": null,
   "metadata": {},
   "outputs": [],
   "source": [
    "RiversHandler.to_netcdf(river_ds, \"stage2\")"
   ]
  },
  {
   "cell_type": "code",
   "execution_count": null,
   "metadata": {},
   "outputs": [],
   "source": []
  }
 ],
 "metadata": {
  "kernelspec": {
   "display_name": "Python 3.10.6 ('roms')",
   "language": "python",
   "name": "python3"
  },
  "language_info": {
   "codemirror_mode": {
    "name": "ipython",
    "version": 3
   },
   "file_extension": ".py",
   "mimetype": "text/x-python",
   "name": "python",
   "nbconvert_exporter": "python",
   "pygments_lexer": "ipython3",
   "version": "3.10.6"
  },
  "orig_nbformat": 4,
  "vscode": {
   "interpreter": {
    "hash": "28ab78b258d2399661cf741fa50026022a6ba8d6b3d5d80e7f106a09ae5157b4"
   }
  }
 },
 "nbformat": 4,
 "nbformat_minor": 2
}
