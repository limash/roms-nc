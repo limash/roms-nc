{
 "cells": [
  {
   "cell_type": "code",
   "execution_count": null,
   "metadata": {},
   "outputs": [],
   "source": [
    "import xarray as xr\n",
    "\n",
    "from roms_nc.handlers import RiversHandler, GridHandler, OutputHandler"
   ]
  },
  {
   "cell_type": "code",
   "execution_count": null,
   "metadata": {},
   "outputs": [],
   "source": [
    "roho_folder = \"/cluster/projects/nn9297k/ROHO160+\"\n",
    "grid_folder = \"/InputData/Grid/norfjords_160m_grid_sigma3.nc\"\n",
    "file_folder = \"/InputData/Rivers/norfjords_160m_river_25_layers.nc\""
   ]
  },
  {
   "cell_type": "code",
   "execution_count": null,
   "metadata": {},
   "outputs": [],
   "source": [
    "ds = xr.open_dataset(roho_folder + file_folder)\n",
    "grid_ds = xr.open_dataset(roho_folder + grid_folder)"
   ]
  },
  {
   "cell_type": "code",
   "execution_count": null,
   "metadata": {},
   "outputs": [],
   "source": [
    "riv_hand = RiversHandler(grid_ds)\n",
    "time_slice = slice('2017-12-01','2018-12-10')"
   ]
  },
  {
   "cell_type": "code",
   "execution_count": null,
   "metadata": {},
   "outputs": [],
   "source": [
    "xi, eta = 977, 363\n",
    "riv_hand.check_coords(ds, xi, eta)"
   ]
  },
  {
   "cell_type": "code",
   "execution_count": null,
   "metadata": {},
   "outputs": [],
   "source": [
    "ds.sel(river=121).river_transport.sel(river_time=time_slice).plot()"
   ]
  },
  {
   "cell_type": "code",
   "execution_count": null,
   "metadata": {},
   "outputs": [],
   "source": []
  }
 ],
 "metadata": {
  "kernelspec": {
   "display_name": "ocean",
   "language": "python",
   "name": "python3"
  },
  "language_info": {
   "codemirror_mode": {
    "name": "ipython",
    "version": 3
   },
   "file_extension": ".py",
   "mimetype": "text/x-python",
   "name": "python",
   "nbconvert_exporter": "python",
   "pygments_lexer": "ipython3",
   "version": "3.10.9 (main, Jan 11 2023, 15:21:40) [GCC 11.2.0]"
  },
  "orig_nbformat": 4,
  "vscode": {
   "interpreter": {
    "hash": "09182ebedb5b43d08a38b94883568d2720fd3c57eb8ca0153aac7cd0bb18f44f"
   }
  }
 },
 "nbformat": 4,
 "nbformat_minor": 2
}
