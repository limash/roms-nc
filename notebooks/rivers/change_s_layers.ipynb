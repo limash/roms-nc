{
 "cells": [
  {
   "cell_type": "code",
   "execution_count": null,
   "id": "8228230a-c7d1-476b-8752-55c2a83b2fc3",
   "metadata": {},
   "outputs": [],
   "source": [
    "import numpy as np\n",
    "import xarray as xr"
   ]
  },
  {
   "cell_type": "code",
   "execution_count": null,
   "id": "ed9d0e82",
   "metadata": {},
   "outputs": [],
   "source": [
    "roho_folder = \"/cluster/projects/nn9297k/ROHO160+\"\n",
    "file_folder = \"/InputData/Rivers/norfjords_160m_river_stretched.nc\"\n",
    "new_file = \"/InputData/Rivers/norfjords_160m_river_25_layers.nc\""
   ]
  },
  {
   "cell_type": "code",
   "execution_count": null,
   "id": "eedc829a-493c-4d09-a9c3-943461453fee",
   "metadata": {},
   "outputs": [],
   "source": [
    "ds = xr.open_dataset(roho_folder + file_folder)"
   ]
  },
  {
   "cell_type": "code",
   "execution_count": null,
   "id": "96924535",
   "metadata": {},
   "outputs": [],
   "source": [
    "# before interpolation we need to assign missing s_rho coordingate\n",
    "ds = ds.assign_coords({\n",
    "    \"s_rho\": np.linspace(-0.9875, -0.0125, num=40),\n",
    "})"
   ]
  },
  {
   "cell_type": "code",
   "execution_count": null,
   "id": "286ef61b",
   "metadata": {},
   "outputs": [],
   "source": [
    "ds.sel(river=2).river_Vshape.values"
   ]
  },
  {
   "cell_type": "code",
   "execution_count": null,
   "id": "4d79b7d0",
   "metadata": {},
   "outputs": [],
   "source": [
    "s_rho = np.linspace(-0.98, -0.02, num=25)\n",
    "coords = {\n",
    "    's_rho': s_rho,\n",
    "}"
   ]
  },
  {
   "cell_type": "code",
   "execution_count": null,
   "id": "32f3eece",
   "metadata": {},
   "outputs": [],
   "source": [
    "new_ds = ds.interp(coords).astype(np.float32)"
   ]
  },
  {
   "cell_type": "code",
   "execution_count": null,
   "id": "5807a695",
   "metadata": {},
   "outputs": [],
   "source": [
    "new_ds.sel(river=2).river_Vshape.values"
   ]
  },
  {
   "cell_type": "code",
   "execution_count": null,
   "id": "efba931d",
   "metadata": {},
   "outputs": [],
   "source": [
    "new_ds['river_Vshape'] = new_ds['river_Vshape'] / new_ds['river_Vshape'].sum(axis=0)"
   ]
  },
  {
   "cell_type": "code",
   "execution_count": null,
   "id": "f6e17840",
   "metadata": {},
   "outputs": [],
   "source": [
    "new_ds.sel(river=2).river_Vshape.values"
   ]
  },
  {
   "cell_type": "code",
   "execution_count": null,
   "id": "addb5704",
   "metadata": {},
   "outputs": [],
   "source": [
    "new_ds.to_netcdf(roho_folder + new_file)"
   ]
  },
  {
   "cell_type": "code",
   "execution_count": null,
   "id": "3b20dd0b",
   "metadata": {},
   "outputs": [],
   "source": []
  }
 ],
 "metadata": {
  "kernelspec": {
   "display_name": "ocean",
   "language": "python",
   "name": "python3"
  },
  "language_info": {
   "codemirror_mode": {
    "name": "ipython",
    "version": 3
   },
   "file_extension": ".py",
   "mimetype": "text/x-python",
   "name": "python",
   "nbconvert_exporter": "python",
   "pygments_lexer": "ipython3",
   "version": "3.10.9"
  },
  "vscode": {
   "interpreter": {
    "hash": "09182ebedb5b43d08a38b94883568d2720fd3c57eb8ca0153aac7cd0bb18f44f"
   }
  }
 },
 "nbformat": 4,
 "nbformat_minor": 5
}
