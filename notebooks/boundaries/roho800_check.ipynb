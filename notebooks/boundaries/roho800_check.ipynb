{
 "cells": [
  {
   "cell_type": "code",
   "execution_count": null,
   "metadata": {},
   "outputs": [],
   "source": [
    "import xarray as xr"
   ]
  },
  {
   "cell_type": "code",
   "execution_count": null,
   "metadata": {},
   "outputs": [],
   "source": [
    "bndr1 = \"/cluster/projects/nn9490k/ROHO800/FORCING/v2/old_vertgrid_pre_v2e/roho800_bry_GLORYS_20070115_to_20200115_N25_fix.nc\"\n",
    "# bndr2 = \"/cluster/projects/nn9490k/ROHO800/FORCING/v2/old_vertgrid_pre_v2e/roho800_v2ax_bry_NORESMOCv1p2reanal_20070115_to_20211215_closest.nc\"\n",
    "ds_bndr1 = xr.open_dataset(bndr1)\n",
    "# ds_bndr2 = xr.open_dataset(bndr2)"
   ]
  },
  {
   "cell_type": "code",
   "execution_count": null,
   "metadata": {},
   "outputs": [],
   "source": [
    "ds_bndr1"
   ]
  },
  {
   "cell_type": "code",
   "execution_count": null,
   "metadata": {},
   "outputs": [],
   "source": [
    "ds_bndr1[\"temp_west\"].isel(ocean_time=134).plot()  # type: ignore"
   ]
  },
  {
   "cell_type": "code",
   "execution_count": null,
   "metadata": {},
   "outputs": [],
   "source": []
  }
 ],
 "metadata": {
  "kernelspec": {
   "display_name": "ocean",
   "language": "python",
   "name": "python3"
  },
  "language_info": {
   "codemirror_mode": {
    "name": "ipython",
    "version": 3
   },
   "file_extension": ".py",
   "mimetype": "text/x-python",
   "name": "python",
   "nbconvert_exporter": "python",
   "pygments_lexer": "ipython3",
   "version": "3.10.9"
  },
  "orig_nbformat": 4,
  "vscode": {
   "interpreter": {
    "hash": "09182ebedb5b43d08a38b94883568d2720fd3c57eb8ca0153aac7cd0bb18f44f"
   }
  }
 },
 "nbformat": 4,
 "nbformat_minor": 2
}
