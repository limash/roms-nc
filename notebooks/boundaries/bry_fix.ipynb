{
 "cells": [
  {
   "cell_type": "code",
   "execution_count": null,
   "id": "8228230a-c7d1-476b-8752-55c2a83b2fc3",
   "metadata": {},
   "outputs": [],
   "source": [
    "import xarray as xr"
   ]
  },
  {
   "cell_type": "markdown",
   "id": "c69611bd",
   "metadata": {},
   "source": [
    "### Boundary masks preparation"
   ]
  },
  {
   "cell_type": "code",
   "execution_count": null,
   "id": "df988bd6",
   "metadata": {},
   "outputs": [],
   "source": [
    "grid_dest = 'fram_data/norfjords_160m_grid.nc'\n",
    "grid_ds = xr.open_dataset(grid_dest)"
   ]
  },
  {
   "cell_type": "code",
   "execution_count": null,
   "id": "6045d2f8",
   "metadata": {},
   "outputs": [],
   "source": [
    "west_mask = grid_ds['mask_rho'].isel(xi_rho=0)\n",
    "north_mask = grid_ds['mask_rho'].isel(eta_rho=-1)\n",
    "east_mask = grid_ds['mask_rho'].isel(xi_rho=-1)\n",
    "south_mask = grid_ds['mask_rho'].isel(eta_rho=0)"
   ]
  },
  {
   "cell_type": "code",
   "execution_count": null,
   "id": "eedc829a-493c-4d09-a9c3-943461453fee",
   "metadata": {},
   "outputs": [],
   "source": [
    "bry_dest = 'fram_data/roho160_bry_GLORYS_20170115_to_20191130.nc'\n",
    "bry_ds = xr.open_dataset(bry_dest)"
   ]
  },
  {
   "cell_type": "code",
   "execution_count": null,
   "id": "d39fe9d6",
   "metadata": {},
   "outputs": [],
   "source": [
    "west_mask_array = xr.ones_like(bry_ds.temp_west) * west_mask\n",
    "north_mask_array = xr.ones_like(bry_ds.temp_north) * north_mask\n",
    "east_mask_array = xr.ones_like(bry_ds.temp_east) * east_mask\n",
    "south_mask_array = xr.ones_like(bry_ds.temp_south) * south_mask"
   ]
  },
  {
   "cell_type": "markdown",
   "id": "b8087dd8",
   "metadata": {},
   "source": [
    "### Helper functions"
   ]
  },
  {
   "cell_type": "code",
   "execution_count": null,
   "id": "9cdf7590",
   "metadata": {},
   "outputs": [],
   "source": [
    "temp_tuple = ('temp_west', 'temp_north', 'temp_east', 'temp_south')\n",
    "salt_tuple = ('salt_west', 'salt_north', 'salt_east', 'salt_south')"
   ]
  },
  {
   "cell_type": "code",
   "execution_count": null,
   "id": "7c043161",
   "metadata": {},
   "outputs": [],
   "source": [
    "def check_mask(parameter):\n",
    "    \"\"\"\n",
    "    parameter: 'temperature' | 'salinity'\n",
    "    \"\"\"\n",
    "    names = {'temperature': temp_tuple,\n",
    "             'salinity': salt_tuple,\n",
    "            }\n",
    "    print(f\"West: {(west_mask_array.astype(bool).values == bry_ds[names[parameter][0]].notnull().values).all()}\")\n",
    "    print(f\"North: {(north_mask_array.astype(bool).values == bry_ds[names[parameter][1]].notnull().values).all()}\")\n",
    "    print(f\"East: {(east_mask_array.astype(bool).values == bry_ds[names[parameter][2]].notnull().values).all()}\")\n",
    "    print(f\"South: {(south_mask_array.astype(bool).values == bry_ds[names[parameter][3]].notnull().values).all()}\")\n"
   ]
  },
  {
   "cell_type": "code",
   "execution_count": null,
   "id": "fadd52bc",
   "metadata": {},
   "outputs": [],
   "source": [
    "def backfill(parameter_tuple):\n",
    "    \"\"\"\n",
    "    parameter_tuple: temp_tuple | salt_tuple\n",
    "    \"\"\"\n",
    "    for name in parameter_tuple:\n",
    "        bry_ds[name] = bry_ds[name].bfill('s_rho')\n",
    "    print(\"Improper NaNs are replaced with values\")\n"
   ]
  },
  {
   "cell_type": "markdown",
   "id": "277917e9",
   "metadata": {},
   "source": [
    "### Check temperature"
   ]
  },
  {
   "cell_type": "code",
   "execution_count": null,
   "id": "f863646e",
   "metadata": {},
   "outputs": [],
   "source": [
    "check_mask('temperature')\n",
    "backfill(temp_tuple)\n",
    "check_mask('temperature')"
   ]
  },
  {
   "cell_type": "markdown",
   "id": "59bf55ac",
   "metadata": {},
   "source": [
    "### Check salinity"
   ]
  },
  {
   "cell_type": "code",
   "execution_count": null,
   "id": "64bd64d8",
   "metadata": {},
   "outputs": [],
   "source": [
    "check_mask('salinity')\n",
    "backfill(salt_tuple)\n",
    "check_mask('salinity')"
   ]
  },
  {
   "cell_type": "markdown",
   "id": "9312e619",
   "metadata": {},
   "source": [
    "### Save the processed data"
   ]
  },
  {
   "cell_type": "code",
   "execution_count": null,
   "id": "8e5d9a68",
   "metadata": {},
   "outputs": [],
   "source": [
    "bry_ds.to_netcdf(\"fram_data/roho160_bry.nc\")"
   ]
  },
  {
   "cell_type": "code",
   "execution_count": null,
   "id": "4fe7bf79",
   "metadata": {},
   "outputs": [],
   "source": []
  }
 ],
 "metadata": {
  "kernelspec": {
   "display_name": "Python 3.10.6 ('roms')",
   "language": "python",
   "name": "python3"
  },
  "language_info": {
   "codemirror_mode": {
    "name": "ipython",
    "version": 3
   },
   "file_extension": ".py",
   "mimetype": "text/x-python",
   "name": "python",
   "nbconvert_exporter": "python",
   "pygments_lexer": "ipython3",
   "version": "3.10.6"
  },
  "vscode": {
   "interpreter": {
    "hash": "28ab78b258d2399661cf741fa50026022a6ba8d6b3d5d80e7f106a09ae5157b4"
   }
  }
 },
 "nbformat": 4,
 "nbformat_minor": 5
}
