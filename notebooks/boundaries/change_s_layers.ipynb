{
 "cells": [
  {
   "cell_type": "code",
   "execution_count": null,
   "id": "8228230a-c7d1-476b-8752-55c2a83b2fc3",
   "metadata": {},
   "outputs": [],
   "source": [
    "import numpy as np\n",
    "import xarray as xr\n",
    "\n",
    "from roms_nc.handlers import extrapolate_fill"
   ]
  },
  {
   "cell_type": "code",
   "execution_count": null,
   "id": "ed9d0e82",
   "metadata": {},
   "outputs": [],
   "source": [
    "roho_folder = \"/cluster/projects/nn9297k/ROHO160+\"\n",
    "file_folder = \"/InputData/Boundary/roho160_bry.nc\"\n",
    "new_file = \"/InputData/Boundary/roho160_bry_25_layers.nc\""
   ]
  },
  {
   "cell_type": "code",
   "execution_count": null,
   "id": "eedc829a-493c-4d09-a9c3-943461453fee",
   "metadata": {},
   "outputs": [],
   "source": [
    "ds = xr.open_dataset(roho_folder + file_folder)"
   ]
  },
  {
   "cell_type": "code",
   "execution_count": null,
   "id": "4d79b7d0",
   "metadata": {},
   "outputs": [],
   "source": [
    "s_w = np.linspace(-1, 0, num=26)\n",
    "s_rho = np.linspace(-0.98, -0.02, num=25)"
   ]
  },
  {
   "cell_type": "code",
   "execution_count": null,
   "id": "da7e3d3f",
   "metadata": {},
   "outputs": [],
   "source": [
    "s_w"
   ]
  },
  {
   "cell_type": "code",
   "execution_count": null,
   "id": "1201ec24",
   "metadata": {},
   "outputs": [],
   "source": [
    "s_rho"
   ]
  },
  {
   "cell_type": "code",
   "execution_count": null,
   "id": "2c9a5810",
   "metadata": {},
   "outputs": [],
   "source": [
    "# ds = ds.assign_coords({\n",
    "#     'eta_rho': ds.eta_rho.values,\n",
    "#     'xi_rho': ds.xi_rho.values,\n",
    "#     'eta_u': ds.eta_u.values,\n",
    "#     'xi_u': ds.xi_u.values,\n",
    "#     'eta_v': ds.eta_v.values,\n",
    "#     'xi_v': ds.xi_v.values,\n",
    "#     'eta_psi': ds.eta_psi.values,\n",
    "#     'xi_psi': ds.xi_psi.values,\n",
    "# })"
   ]
  },
  {
   "cell_type": "code",
   "execution_count": null,
   "id": "b8d4fc5e",
   "metadata": {},
   "outputs": [],
   "source": [
    "coords = {\n",
    "    # 'ocean_time': ds.ocean_time,\n",
    "    # 'eta_rho': ds.eta_rho,\n",
    "    # 'eta_u': ds.eta_u,\n",
    "    # 'eta_v': ds.eta_v,\n",
    "    # 'xi_u': ds.xi_u,\n",
    "    # 'xi_v': ds.xi_v,\n",
    "    # 'xi_psi': ds.xi_psi,\n",
    "    # 'xi_rho': ds.xi_rho,\n",
    "    's_rho': s_rho,\n",
    "    's_w': s_w,\n",
    "}"
   ]
  },
  {
   "cell_type": "code",
   "execution_count": null,
   "id": "32f3eece",
   "metadata": {},
   "outputs": [],
   "source": [
    "new_ds = ds.interp(coords).astype(np.float32)"
   ]
  },
  {
   "cell_type": "code",
   "execution_count": null,
   "id": "b3106d82",
   "metadata": {},
   "outputs": [],
   "source": [
    "# new_ds.temp_east.isel(ocean_time=-1).plot()"
   ]
  },
  {
   "cell_type": "code",
   "execution_count": null,
   "id": "5807a695",
   "metadata": {},
   "outputs": [],
   "source": [
    "new_ds"
   ]
  },
  {
   "cell_type": "code",
   "execution_count": null,
   "id": "c0d58540",
   "metadata": {},
   "outputs": [],
   "source": [
    "variables = (\n",
    "    ('temp_west', 'eta_rho'),\n",
    "    ('temp_east', 'eta_rho'),\n",
    "    ('salt_west', 'eta_rho'),\n",
    "    ('salt_east', 'eta_rho'),\n",
    "    ('zeta_west', 'eta_rho'),\n",
    "    ('zeta_east', 'eta_rho'),\n",
    "    ('temp_south', 'xi_rho'),\n",
    "    ('temp_north', 'xi_rho'),\n",
    "    ('salt_south', 'xi_rho'),\n",
    "    ('salt_north', 'xi_rho'),\n",
    "    ('zeta_south', 'xi_rho'),\n",
    "    ('zeta_north', 'xi_rho'),\n",
    "    ('u_west', 'eta_u'),\n",
    "    ('u_east', 'eta_u'),\n",
    "    ('ubar_west', 'eta_u'),\n",
    "    ('ubar_east', 'eta_u'),\n",
    "    ('u_south', 'xi_u'),\n",
    "    ('u_north', 'xi_u'),\n",
    "    ('ubar_south', 'xi_u'),\n",
    "    ('ubar_north', 'xi_u'),\n",
    "    ('v_west', 'eta_v'),\n",
    "    ('v_east', 'eta_v'),\n",
    "    ('vbar_west', 'eta_v'),\n",
    "    ('vbar_east', 'eta_v'),\n",
    "    ('v_south', 'xi_v'),\n",
    "    ('v_north', 'xi_v'),\n",
    "    ('vbar_south', 'xi_v'),\n",
    "    ('vbar_north', 'xi_v'),\n",
    ")"
   ]
  },
  {
   "cell_type": "code",
   "execution_count": null,
   "id": "1b6fb1e1",
   "metadata": {},
   "outputs": [],
   "source": [
    "new_ds = extrapolate_fill(new_ds, variables)"
   ]
  },
  {
   "cell_type": "code",
   "execution_count": null,
   "id": "784e2e7a",
   "metadata": {},
   "outputs": [],
   "source": [
    "new_ds"
   ]
  },
  {
   "cell_type": "code",
   "execution_count": null,
   "id": "50752469",
   "metadata": {},
   "outputs": [],
   "source": [
    "# new_ds.temp_east.isel(ocean_time=-1).plot()"
   ]
  },
  {
   "cell_type": "code",
   "execution_count": null,
   "id": "addb5704",
   "metadata": {},
   "outputs": [],
   "source": [
    "new_ds.to_netcdf(roho_folder + new_file)"
   ]
  },
  {
   "cell_type": "code",
   "execution_count": null,
   "id": "415795e6",
   "metadata": {},
   "outputs": [],
   "source": []
  }
 ],
 "metadata": {
  "kernelspec": {
   "display_name": "ocean",
   "language": "python",
   "name": "python3"
  },
  "language_info": {
   "codemirror_mode": {
    "name": "ipython",
    "version": 3
   },
   "file_extension": ".py",
   "mimetype": "text/x-python",
   "name": "python",
   "nbconvert_exporter": "python",
   "pygments_lexer": "ipython3",
   "version": "3.10.9 (main, Jan 11 2023, 15:21:40) [GCC 11.2.0]"
  },
  "vscode": {
   "interpreter": {
    "hash": "09182ebedb5b43d08a38b94883568d2720fd3c57eb8ca0153aac7cd0bb18f44f"
   }
  }
 },
 "nbformat": 4,
 "nbformat_minor": 5
}
