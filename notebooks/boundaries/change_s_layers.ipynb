{
 "cells": [
  {
   "cell_type": "code",
   "execution_count": 1,
   "id": "8228230a-c7d1-476b-8752-55c2a83b2fc3",
   "metadata": {},
   "outputs": [],
   "source": [
    "import numpy as np\n",
    "import xarray as xr"
   ]
  },
  {
   "cell_type": "code",
   "execution_count": 2,
   "id": "ed9d0e82",
   "metadata": {},
   "outputs": [],
   "source": [
    "roho_folder = \"/cluster/projects/nn9297k/ROHO160+\"\n",
    "file_folder = \"/InputData/Boundary/roho160_bry.nc\"\n",
    "new_file = \"/InputData/Boundary/roho160_bry_25_layers.nc\""
   ]
  },
  {
   "cell_type": "code",
   "execution_count": 3,
   "id": "eedc829a-493c-4d09-a9c3-943461453fee",
   "metadata": {},
   "outputs": [
    {
     "name": "stdout",
     "output_type": "stream",
     "text": [
      "Warning: ecCodes 2.21.0 or higher is recommended. You are running version 2.18.0\n"
     ]
    }
   ],
   "source": [
    "ds = xr.open_dataset(roho_folder + file_folder)"
   ]
  },
  {
   "cell_type": "code",
   "execution_count": null,
   "id": "4d79b7d0",
   "metadata": {},
   "outputs": [],
   "source": [
    "s_w = np.linspace(-1, 0, num=26)\n",
    "s_rho = np.linspace(-0.98, -0.02, num=25)"
   ]
  },
  {
   "cell_type": "code",
   "execution_count": null,
   "id": "da7e3d3f",
   "metadata": {},
   "outputs": [],
   "source": [
    "s_w"
   ]
  },
  {
   "cell_type": "code",
   "execution_count": null,
   "id": "1201ec24",
   "metadata": {},
   "outputs": [],
   "source": [
    "s_rho"
   ]
  },
  {
   "cell_type": "code",
   "execution_count": null,
   "id": "2c9a5810",
   "metadata": {},
   "outputs": [],
   "source": [
    "# ds = ds.assign_coords({\n",
    "#     'eta_rho': ds.eta_rho.values,\n",
    "#     'xi_rho': ds.xi_rho.values,\n",
    "#     'eta_u': ds.eta_u.values,\n",
    "#     'xi_u': ds.xi_u.values,\n",
    "#     'eta_v': ds.eta_v.values,\n",
    "#     'xi_v': ds.xi_v.values,\n",
    "#     'eta_psi': ds.eta_psi.values,\n",
    "#     'xi_psi': ds.xi_psi.values,\n",
    "# })"
   ]
  },
  {
   "cell_type": "code",
   "execution_count": null,
   "id": "b8d4fc5e",
   "metadata": {},
   "outputs": [],
   "source": [
    "coords = {\n",
    "    # 'ocean_time': ds.ocean_time,\n",
    "    # 'eta_rho': ds.eta_rho,\n",
    "    # 'eta_u': ds.eta_u,\n",
    "    # 'eta_v': ds.eta_v,\n",
    "    # 'xi_u': ds.xi_u,\n",
    "    # 'xi_v': ds.xi_v,\n",
    "    # 'xi_psi': ds.xi_psi,\n",
    "    # 'xi_rho': ds.xi_rho,\n",
    "    's_rho': s_rho,\n",
    "    's_w': s_w,\n",
    "}"
   ]
  },
  {
   "cell_type": "code",
   "execution_count": null,
   "id": "32f3eece",
   "metadata": {},
   "outputs": [],
   "source": [
    "new_ds = ds.interp(coords).astype(np.float32)"
   ]
  },
  {
   "cell_type": "code",
   "execution_count": null,
   "id": "5807a695",
   "metadata": {},
   "outputs": [],
   "source": [
    "new_ds"
   ]
  },
  {
   "cell_type": "code",
   "execution_count": null,
   "id": "addb5704",
   "metadata": {},
   "outputs": [],
   "source": [
    "new_ds.to_netcdf(roho_folder + new_file)"
   ]
  }
 ],
 "metadata": {
  "kernelspec": {
   "display_name": "ocean",
   "language": "python",
   "name": "python3"
  },
  "language_info": {
   "codemirror_mode": {
    "name": "ipython",
    "version": 3
   },
   "file_extension": ".py",
   "mimetype": "text/x-python",
   "name": "python",
   "nbconvert_exporter": "python",
   "pygments_lexer": "ipython3",
   "version": "3.10.9"
  },
  "vscode": {
   "interpreter": {
    "hash": "09182ebedb5b43d08a38b94883568d2720fd3c57eb8ca0153aac7cd0bb18f44f"
   }
  }
 },
 "nbformat": 4,
 "nbformat_minor": 5
}
