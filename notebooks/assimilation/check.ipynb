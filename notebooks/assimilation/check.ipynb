{
 "cells": [
  {
   "cell_type": "code",
   "execution_count": null,
   "metadata": {},
   "outputs": [],
   "source": [
    "import xarray as xr"
   ]
  },
  {
   "cell_type": "code",
   "execution_count": null,
   "metadata": {},
   "outputs": [],
   "source": [
    "wc13_folder = \"/cluster/home/shmiak/src/roms-applications/WC13/Data/\"\n",
    "roho_forcing = \"/cluster/projects/nn9490k/ROHO800/FORCING/v2/old_vertgrid_pre_v2e/\"\n",
    "roho_4dvar_folder = \"/cluster/projects/nn9297k/ROHO800+/InputData/4dvar/\""
   ]
  },
  {
   "cell_type": "code",
   "execution_count": null,
   "metadata": {},
   "outputs": [],
   "source": [
    "# ds_grid = xr.open_dataset(data_folder+'wc13_grd.nc')\n",
    "# wc13_ini = xr.open_dataset(wc13_folder+'wc13_ini.nc')\n",
    "# wc13_std_ini = xr.open_dataset(wc13_folder+'wc13_std_i.nc')\n",
    "# wc13_nrm_ini = xr.open_dataset(wc13_folder+'wc13_nrm_i.nc')\n",
    "# wc13_obs = xr.open_dataset(wc13_folder+'wc13_obs.nc') \n",
    "# ds_ini = xr.open_dataset(\n",
    "#     roho_forcing + \"roho800_v2ar_init_physics_NORESMOCv1p2reanal_20070115.nc\"\n",
    "#     )\n",
    "# ds_nrm_ini = xr.open_dataset(roho_4dvar_folder+'roms_nrm_i.nc')\n",
    "ds_obs = xr.open_dataset(roho_4dvar_folder+'roho800_sst_2007_to_2008.nc')"
   ]
  },
  {
   "cell_type": "code",
   "execution_count": null,
   "metadata": {},
   "outputs": [],
   "source": [
    "ds_obs"
   ]
  },
  {
   "cell_type": "code",
   "execution_count": null,
   "metadata": {},
   "outputs": [],
   "source": []
  }
 ],
 "metadata": {
  "kernelspec": {
   "display_name": "ocean",
   "language": "python",
   "name": "python3"
  },
  "language_info": {
   "codemirror_mode": {
    "name": "ipython",
    "version": 3
   },
   "file_extension": ".py",
   "mimetype": "text/x-python",
   "name": "python",
   "nbconvert_exporter": "python",
   "pygments_lexer": "ipython3",
   "version": "3.10.9"
  },
  "orig_nbformat": 4,
  "vscode": {
   "interpreter": {
    "hash": "09182ebedb5b43d08a38b94883568d2720fd3c57eb8ca0153aac7cd0bb18f44f"
   }
  }
 },
 "nbformat": 4,
 "nbformat_minor": 2
}
