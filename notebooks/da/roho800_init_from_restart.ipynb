{
 "cells": [
  {
   "cell_type": "code",
   "execution_count": null,
   "metadata": {},
   "outputs": [],
   "source": [
    "import xarray as xr"
   ]
  },
  {
   "cell_type": "markdown",
   "metadata": {},
   "source": [
    "Make a init file from a forward run restart file, it contains all the necessary variables for 4dvar run"
   ]
  },
  {
   "cell_type": "code",
   "execution_count": null,
   "metadata": {},
   "outputs": [],
   "source": [
    "roho_forward_his = \"/cluster/projects/nn9297k/shmiak/roho800_data/output_data/forward/1_2017_01_15-2019_01_05_v2bn/his_0045.nc\"\n",
    "roho_forward_res = \"/cluster/projects/nn9297k/shmiak/roho800_data/output_data/forward/1_2017_01_15-2019_01_05_v2bn/rst.nc\"\n",
    "roho_init = \"/cluster/projects/nn9297k/shmiak/roho800_data/input_data/roho800_init_2018-04-01.nc\""
   ]
  },
  {
   "cell_type": "code",
   "execution_count": null,
   "metadata": {},
   "outputs": [],
   "source": [
    "ds_his = xr.open_dataset(roho_forward_his) # type: ignore\n",
    "ds_res = xr.open_dataset(roho_forward_res) # type: ignore\n",
    "da_ocean_time = ds_his.isel(ocean_time=slice(0, 1))['ocean_time']"
   ]
  },
  {
   "cell_type": "code",
   "execution_count": null,
   "metadata": {},
   "outputs": [],
   "source": [
    "da_ocean_time"
   ]
  },
  {
   "cell_type": "code",
   "execution_count": null,
   "metadata": {},
   "outputs": [],
   "source": [
    "ds_init = ds_res.sel(ocean_time=\"2018-03-31\")\n",
    "ds_init = ds_init.assign_coords(ocean_time=da_ocean_time)"
   ]
  },
  {
   "cell_type": "code",
   "execution_count": null,
   "metadata": {},
   "outputs": [],
   "source": [
    "ds_init"
   ]
  },
  {
   "cell_type": "code",
   "execution_count": null,
   "metadata": {},
   "outputs": [],
   "source": [
    "ds_init.to_netcdf(roho_init, format='NETCDF4')"
   ]
  },
  {
   "cell_type": "code",
   "execution_count": null,
   "metadata": {},
   "outputs": [],
   "source": []
  }
 ],
 "metadata": {
  "kernelspec": {
   "display_name": "ocean",
   "language": "python",
   "name": "python3"
  },
  "language_info": {
   "codemirror_mode": {
    "name": "ipython",
    "version": 3
   },
   "file_extension": ".py",
   "mimetype": "text/x-python",
   "name": "python",
   "nbconvert_exporter": "python",
   "pygments_lexer": "ipython3",
   "version": "3.10.9"
  },
  "orig_nbformat": 4
 },
 "nbformat": 4,
 "nbformat_minor": 2
}
