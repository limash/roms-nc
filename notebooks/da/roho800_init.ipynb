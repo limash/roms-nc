{
 "cells": [
  {
   "cell_type": "code",
   "execution_count": null,
   "metadata": {},
   "outputs": [],
   "source": [
    "import cftime\n",
    "import xarray as xr"
   ]
  },
  {
   "cell_type": "code",
   "execution_count": null,
   "metadata": {},
   "outputs": [],
   "source": [
    "# roms s4dvar can corrupt init file; this file is made from a restart file (but I do not remember exactly)\n",
    "roho_init = \"/cluster/projects/nn9297k/shmiak/roho800_data/input_data/roho800_init.nc\"\n",
    "roho_init_backup = \"/cluster/projects/nn9297k/shmiak/roho800_data/input_data/roho800_init_backup.nc\"\n",
    "# the original init file does not have some variables 4DVar requires, only for forward run\n",
    "roho_origin_init = \"/cluster/projects/nn9490k/ROHO800/FORCING/v2\" + \\\n",
    "                   \"/old_vertgrid_pre_v2e/roho800_v2ar_init_physics_NORESMOCv1p2reanal_20070115.nc\"\n",
    "roho_std_i_backup = \"/cluster/projects/nn9297k/shmiak/roho800_data/input_data/roho800_std_i_backup.nc\"\n",
    "roho_std_i = \"/cluster/projects/nn9297k/shmiak/roho800_data/input_data/roho800_std_i.nc\"\n",
    "roho_nrm_i_backup = \"/cluster/projects/nn9297k/shmiak/roho800_data/input_data/roho800_nrm_i_backup.nc\"\n",
    "roho_nrm_i = \"/cluster/projects/nn9297k/shmiak/roho800_data/input_data/roho800_nrm_i.nc\""
   ]
  },
  {
   "cell_type": "code",
   "execution_count": null,
   "metadata": {},
   "outputs": [],
   "source": [
    "ds_init_backup = xr.open_dataset(roho_init_backup)\n",
    "ds_std_backup = xr.open_dataset(roho_std_i_backup)\n",
    "ds_nrm_backup = xr.open_dataset(roho_nrm_i_backup)"
   ]
  },
  {
   "cell_type": "code",
   "execution_count": null,
   "metadata": {},
   "outputs": [],
   "source": [
    "ds_init = ds_init_backup.isel(ocean_time=slice(0, 1))\n",
    "ds_std = ds_std_backup.isel(ocean_time=slice(0, 1))\n",
    "ds_nrm = ds_nrm_backup.isel(ocean_time=slice(0, 1))\n",
    "time_cftime = cftime.datetime(2007, 1, 15)\n",
    "ds_init = ds_init.assign_coords(ocean_time=[time_cftime])\n",
    "ds_std = ds_std.assign_coords(ocean_time=[time_cftime])\n",
    "ds_nrm = ds_nrm.assign_coords(ocean_time=[time_cftime])"
   ]
  },
  {
   "cell_type": "code",
   "execution_count": null,
   "metadata": {},
   "outputs": [],
   "source": [
    "ds_init.to_netcdf(roho_init, format='NETCDF4')\n",
    "ds_std.to_netcdf(roho_std_i, format='NETCDF4')\n",
    "ds_nrm.to_netcdf(roho_nrm_i, format='NETCDF4')"
   ]
  },
  {
   "cell_type": "code",
   "execution_count": null,
   "metadata": {},
   "outputs": [],
   "source": []
  }
 ],
 "metadata": {
  "kernelspec": {
   "display_name": "ocean",
   "language": "python",
   "name": "python3"
  },
  "language_info": {
   "codemirror_mode": {
    "name": "ipython",
    "version": 3
   },
   "file_extension": ".py",
   "mimetype": "text/x-python",
   "name": "python",
   "nbconvert_exporter": "python",
   "pygments_lexer": "ipython3",
   "version": "3.10.9"
  },
  "orig_nbformat": 4,
  "vscode": {
   "interpreter": {
    "hash": "09182ebedb5b43d08a38b94883568d2720fd3c57eb8ca0153aac7cd0bb18f44f"
   }
  }
 },
 "nbformat": 4,
 "nbformat_minor": 2
}
