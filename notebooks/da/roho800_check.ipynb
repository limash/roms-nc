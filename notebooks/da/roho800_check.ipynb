{
 "cells": [
  {
   "cell_type": "code",
   "execution_count": null,
   "metadata": {},
   "outputs": [],
   "source": [
    "import xarray as xr"
   ]
  },
  {
   "cell_type": "code",
   "execution_count": null,
   "metadata": {},
   "outputs": [],
   "source": [
    "roho_data = \"/cluster/projects/nn9297k/shmiak/roho800_data/\""
   ]
  },
  {
   "cell_type": "code",
   "execution_count": null,
   "metadata": {},
   "outputs": [],
   "source": [
    "# ds_ini = xr.open_dataset(\n",
    "#     \"/cluster/projects/nn9490k/ROHO800/FORCING/v2/old_vertgrid_pre_v2e/roho800_v2ax_init_physics_NORESMOCv1p2reanal_20070115.nc\"\n",
    "#     )\n",
    "# ds_rst = xr.open_dataset(roho_data+\"output_data/forward/rst.nc\")\n",
    "ds_obs = xr.open_dataset(roho_data+'input_data/roho800_sst_2007_to_2008_fixed_z+.nc')"
   ]
  },
  {
   "cell_type": "code",
   "execution_count": null,
   "metadata": {},
   "outputs": [],
   "source": [
    "ds_obs"
   ]
  },
  {
   "cell_type": "code",
   "execution_count": null,
   "metadata": {},
   "outputs": [],
   "source": [
    "# ds_obs['obs_depth'][:] = 0.1\n",
    "# ds_obs.to_netcdf(roho_data+'roho800_sst_2007_to_2008_fixed_z+.nc')"
   ]
  },
  {
   "cell_type": "code",
   "execution_count": null,
   "metadata": {},
   "outputs": [],
   "source": []
  }
 ],
 "metadata": {
  "kernelspec": {
   "display_name": "ocean",
   "language": "python",
   "name": "python3"
  },
  "language_info": {
   "codemirror_mode": {
    "name": "ipython",
    "version": 3
   },
   "file_extension": ".py",
   "mimetype": "text/x-python",
   "name": "python",
   "nbconvert_exporter": "python",
   "pygments_lexer": "ipython3",
   "version": "3.10.9"
  },
  "orig_nbformat": 4,
  "vscode": {
   "interpreter": {
    "hash": "09182ebedb5b43d08a38b94883568d2720fd3c57eb8ca0153aac7cd0bb18f44f"
   }
  }
 },
 "nbformat": 4,
 "nbformat_minor": 2
}
