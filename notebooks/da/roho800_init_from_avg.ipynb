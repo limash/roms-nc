{
 "cells": [
  {
   "cell_type": "code",
   "execution_count": null,
   "metadata": {},
   "outputs": [],
   "source": [
    "import xarray as xr"
   ]
  },
  {
   "cell_type": "markdown",
   "metadata": {},
   "source": [
    "Make a init file from a forward run restart file, it contains all the necessary variables for 4dvar run"
   ]
  },
  {
   "cell_type": "code",
   "execution_count": null,
   "metadata": {},
   "outputs": [],
   "source": [
    "# roho_forward_restart = \"/cluster/projects/nn9297k/shmiak/roho800_data/output_data/forward/0_2007_01_15-2018_10_07_old_h/rst.nc\"\n",
    "roho_forward_his = \"/cluster/projects/nn9490k/ROHO800/STORAGE/ROHO800_hindcast_2007_2019_v2bn/roho800_v2bn_his/roho800_his_0522.nc\"\n",
    "roho_forward_avg = \"/cluster/projects/nn9490k/ROHO800/STORAGE/ROHO800_hindcast_2007_2019_v2bn/roho800_v2bn_avg/roho800_avg_0131.nc\"\n",
    "roho_init = \"/cluster/projects/nn9297k/shmiak/roho800_data/input_data/roho800_init_2017-01-15_from_roho_avg_0131_v2bn.nc\""
   ]
  },
  {
   "cell_type": "code",
   "execution_count": null,
   "metadata": {},
   "outputs": [],
   "source": [
    "# ds_restart = xr.open_dataset(roho_forward_restart) # type: ignore\n",
    "ds_his = xr.open_dataset(roho_forward_his) # type: ignore\n",
    "ds_avg = xr.open_dataset(roho_forward_avg) # type: ignore"
   ]
  },
  {
   "cell_type": "code",
   "execution_count": null,
   "metadata": {},
   "outputs": [],
   "source": [
    "# only to extract a time stamp we need\n",
    "da_ocean_time = ds_his.isel(ocean_time=slice(5, 6))['ocean_time']"
   ]
  },
  {
   "cell_type": "code",
   "execution_count": null,
   "metadata": {},
   "outputs": [],
   "source": [
    "ds_init = ds_avg.isel(ocean_time=slice(1, 2))"
   ]
  },
  {
   "cell_type": "code",
   "execution_count": null,
   "metadata": {},
   "outputs": [],
   "source": [
    "ds_init = ds_init.assign_coords(ocean_time=da_ocean_time)"
   ]
  },
  {
   "cell_type": "code",
   "execution_count": null,
   "metadata": {},
   "outputs": [],
   "source": [
    "# zeta = ds_restart.isel(ocean_time=slice(364, 365))[\"zeta\"]\n",
    "# zeta = zeta.assign_coords(ocean_time=da_ocean_time)  # to match dimensions\n",
    "# ubar = ds_restart.isel(ocean_time=slice(364, 365))[\"ubar\"]\n",
    "# ubar = zeta.assign_coords(ocean_time=da_ocean_time)\n",
    "# vbar = ds_restart.isel(ocean_time=slice(364, 365))[\"vbar\"]\n",
    "# vbar = zeta.assign_coords(ocean_time=da_ocean_time)\n",
    "# ds_init[\"zeta\"] = zeta\n",
    "# ds_init[\"ubar\"] = ubar\n",
    "# ds_init[\"vbar\"] = vbar"
   ]
  },
  {
   "cell_type": "code",
   "execution_count": null,
   "metadata": {},
   "outputs": [],
   "source": [
    "ds_init.to_netcdf(roho_init, format='NETCDF4')"
   ]
  },
  {
   "cell_type": "code",
   "execution_count": null,
   "metadata": {},
   "outputs": [],
   "source": []
  }
 ],
 "metadata": {
  "kernelspec": {
   "display_name": "ocean",
   "language": "python",
   "name": "python3"
  },
  "language_info": {
   "codemirror_mode": {
    "name": "ipython",
    "version": 3
   },
   "file_extension": ".py",
   "mimetype": "text/x-python",
   "name": "python",
   "nbconvert_exporter": "python",
   "pygments_lexer": "ipython3",
   "version": "3.10.9"
  },
  "orig_nbformat": 4
 },
 "nbformat": 4,
 "nbformat_minor": 2
}
