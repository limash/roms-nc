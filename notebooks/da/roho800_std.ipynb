{
 "cells": [
  {
   "cell_type": "code",
   "execution_count": null,
   "metadata": {},
   "outputs": [],
   "source": [
    "import xarray as xr"
   ]
  },
  {
   "cell_type": "markdown",
   "metadata": {},
   "source": [
    "#### Create ROMS 4DVar initial conditions standard deviation file from the initial conditions file"
   ]
  },
  {
   "cell_type": "code",
   "execution_count": null,
   "metadata": {},
   "outputs": [],
   "source": [
    "# roms s4dvar can corrupt init file; this file is made from a restart file (but I do not remember exactly)\n",
    "roho_init = \"/cluster/projects/nn9297k/shmiak/roho800_data/input_data/roho800_init.nc\"\n",
    "# the original init file does not have some variables 4DVar requires, only for forward run\n",
    "roho_origin_init = \"/cluster/projects/nn9490k/ROHO800/FORCING/v2\" + \\\n",
    "                   \"/old_vertgrid_pre_v2e/roho800_v2ar_init_physics_NORESMOCv1p2reanal_20070115.nc\"\n",
    "# ROMS 4DVar initial conditions standard deviation NetCDF\n",
    "roho_std_i = \"/cluster/projects/nn9297k/shmiak/roho800_data/input_data/roho800_std_i.nc\""
   ]
  },
  {
   "cell_type": "code",
   "execution_count": null,
   "metadata": {},
   "outputs": [],
   "source": [
    "ds_init = xr.open_dataset(roho_init)"
   ]
  },
  {
   "cell_type": "code",
   "execution_count": null,
   "metadata": {},
   "outputs": [],
   "source": [
    "ds = ds_init.isel(ocean_time=slice(0, 1))"
   ]
  },
  {
   "cell_type": "code",
   "execution_count": null,
   "metadata": {},
   "outputs": [],
   "source": [
    "data_glob = \"/cluster/projects/nn9297k/shmiak/roho800_data/output_data/forward/0_05-06-23/his_00*.nc\""
   ]
  },
  {
   "cell_type": "code",
   "execution_count": null,
   "metadata": {},
   "outputs": [],
   "source": [
    "ds_data = xr.open_mfdataset(data_glob)"
   ]
  },
  {
   "cell_type": "code",
   "execution_count": null,
   "metadata": {},
   "outputs": [],
   "source": [
    "parameters = (\n",
    "    'zeta', 'ubar', 'vbar', 'u', 'v', 'temp', 'salt',\n",
    "    )\n",
    "for parameter in parameters:\n",
    "    ds[parameter][0] = ds_data[parameter].std(dim=\"ocean_time\")"
   ]
  },
  {
   "cell_type": "code",
   "execution_count": null,
   "metadata": {},
   "outputs": [],
   "source": [
    "ds.zeta.plot()"
   ]
  },
  {
   "cell_type": "code",
   "execution_count": null,
   "metadata": {},
   "outputs": [],
   "source": [
    "ds.ubar.plot()"
   ]
  },
  {
   "cell_type": "code",
   "execution_count": null,
   "metadata": {},
   "outputs": [],
   "source": [
    "ds.vbar.plot()"
   ]
  },
  {
   "cell_type": "code",
   "execution_count": null,
   "metadata": {},
   "outputs": [],
   "source": [
    "ds.u.isel(ocean_time=0, s_rho=-1).plot()"
   ]
  },
  {
   "cell_type": "code",
   "execution_count": null,
   "metadata": {},
   "outputs": [],
   "source": [
    "ds.v.isel(ocean_time=0, s_rho=-1).plot()"
   ]
  },
  {
   "cell_type": "code",
   "execution_count": null,
   "metadata": {},
   "outputs": [],
   "source": [
    "ds.temp.isel(ocean_time=0, s_rho=-1).plot()"
   ]
  },
  {
   "cell_type": "code",
   "execution_count": null,
   "metadata": {},
   "outputs": [],
   "source": [
    "ds.salt.isel(ocean_time=0, s_rho=-1).plot()"
   ]
  },
  {
   "cell_type": "code",
   "execution_count": null,
   "metadata": {},
   "outputs": [],
   "source": [
    "ds.to_netcdf(roho_std_i)"
   ]
  }
 ],
 "metadata": {
  "kernelspec": {
   "display_name": "ocean",
   "language": "python",
   "name": "python3"
  },
  "language_info": {
   "codemirror_mode": {
    "name": "ipython",
    "version": 3
   },
   "file_extension": ".py",
   "mimetype": "text/x-python",
   "name": "python",
   "nbconvert_exporter": "python",
   "pygments_lexer": "ipython3",
   "version": "3.10.9"
  },
  "orig_nbformat": 4,
  "vscode": {
   "interpreter": {
    "hash": "09182ebedb5b43d08a38b94883568d2720fd3c57eb8ca0153aac7cd0bb18f44f"
   }
  }
 },
 "nbformat": 4,
 "nbformat_minor": 2
}
