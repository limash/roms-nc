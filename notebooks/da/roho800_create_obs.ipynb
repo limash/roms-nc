{
 "cells": [
  {
   "cell_type": "markdown",
   "metadata": {},
   "source": [
    "## Prepare ROMS I4DVar observation file from cortadv5_FilledSST"
   ]
  },
  {
   "cell_type": "code",
   "execution_count": null,
   "metadata": {},
   "outputs": [],
   "source": [
    "from dataclasses import dataclass\n",
    "\n",
    "import numpy as np\n",
    "import xarray as xr"
   ]
  },
  {
   "cell_type": "code",
   "execution_count": null,
   "metadata": {},
   "outputs": [],
   "source": [
    "@dataclass\n",
    "class Arguments:\n",
    "    start_time: str = '2007-01-01'\n",
    "    end_time: str = '2007-01-31'\n",
    "    input_grid_file: str = '/cluster/projects/nn9490k/ROHO800/Grid/ROHO800_grid_fix5.nc'\n",
    "    input_data_file: str = '/cluster/projects/nn9297k/ROHO800+/InputData/4dvar/cortadv5_FilledSST.nc'\n",
    "    wc13_obs_file: str = '/cluster/home/shmiak/src/roms-applications/WC13/Data/wc13_obs.nc'\n",
    "    output_obs_file: str = '/cluster/projects/nn9297k/shmiak/roho800_data/input_data/roho800_obs_sst.nc'\n",
    "\n",
    "args = Arguments()"
   ]
  },
  {
   "cell_type": "code",
   "execution_count": null,
   "metadata": {},
   "outputs": [],
   "source": [
    "ds_grid = xr.open_dataset(args.input_grid_file)\n",
    "ds_data = xr.open_dataset(args.input_data_file)\n",
    "wc13_obs = xr.open_dataset(args.wc13_obs_file)"
   ]
  },
  {
   "cell_type": "code",
   "execution_count": null,
   "metadata": {},
   "outputs": [],
   "source": [
    "ds_grid"
   ]
  },
  {
   "cell_type": "code",
   "execution_count": null,
   "metadata": {},
   "outputs": [],
   "source": [
    "ds_data"
   ]
  },
  {
   "cell_type": "code",
   "execution_count": null,
   "metadata": {},
   "outputs": [],
   "source": [
    "# slice a time period and interpolate to the ROMS grid\n",
    "ds_data = ds_data.sel(time=slice(args.start_time, args.end_time))\n",
    "coords = {\n",
    "    'lon': ds_grid.lon_rho,\n",
    "    'lat': ds_grid.lat_rho,\n",
    "}\n",
    "da_sst = ds_data['FilledSST'].interp(coords)\n",
    "da_sst = da_sst / ds_grid.mask_rho  # exclude values outside the sea\n",
    "da_sst -= 273.15"
   ]
  },
  {
   "cell_type": "code",
   "execution_count": null,
   "metadata": {},
   "outputs": [],
   "source": [
    "da_sst"
   ]
  },
  {
   "cell_type": "code",
   "execution_count": null,
   "metadata": {},
   "outputs": [],
   "source": [
    "da_sst_std = ds_data['FilledSSTstandardDeviation']\n",
    "# add a time dimension and a coordinate to make xr.interp work\n",
    "da_sst_std = da_sst_std.expand_dims({'time': (ds_data.coords['time'].data[0], )})\n",
    "da_sst_std = da_sst_std.interp(coords)"
   ]
  },
  {
   "cell_type": "code",
   "execution_count": null,
   "metadata": {},
   "outputs": [],
   "source": [
    "da_sst_std"
   ]
  },
  {
   "cell_type": "code",
   "execution_count": null,
   "metadata": {},
   "outputs": [],
   "source": [
    "mask = ~np.isnan(da_sst.isel(time=0).values)  # mask of grid points without data\n",
    "points_per_time = mask.flatten()[mask.flatten()==True].shape[0]\n",
    "time_points = da_sst.time.shape[0]\n",
    "print(f\"The number of points per time: {points_per_time}\")"
   ]
  },
  {
   "cell_type": "markdown",
   "metadata": {},
   "source": [
    "#### obs_value"
   ]
  },
  {
   "cell_type": "code",
   "execution_count": null,
   "metadata": {},
   "outputs": [],
   "source": [
    "# Flattens from the last dimenstion: (x, y, z) so z -> y -> x\n",
    "np_sst = da_sst.values.flatten(order='C')\n",
    "np_sst = np_sst[~np.isnan(np_sst)]\n",
    "np_sst.shape"
   ]
  },
  {
   "cell_type": "markdown",
   "metadata": {},
   "source": [
    "#### obs_type"
   ]
  },
  {
   "cell_type": "code",
   "execution_count": null,
   "metadata": {},
   "outputs": [],
   "source": [
    "np_type = np.full_like(np_sst, 6, dtype=np.int32)\n",
    "np_type.shape"
   ]
  },
  {
   "cell_type": "markdown",
   "metadata": {},
   "source": [
    "#### obs_provenance"
   ]
  },
  {
   "cell_type": "code",
   "execution_count": null,
   "metadata": {},
   "outputs": [],
   "source": [
    "np_provenance = np.full_like(np_sst, 1, dtype=np.int32)\n",
    "np_provenance.shape"
   ]
  },
  {
   "cell_type": "markdown",
   "metadata": {},
   "source": [
    "#### obs_time"
   ]
  },
  {
   "cell_type": "code",
   "execution_count": null,
   "metadata": {},
   "outputs": [],
   "source": [
    "np_time = np.repeat(da_sst.time.values[..., np.newaxis], points_per_time, axis=1).flatten()\n",
    "np_time.shape"
   ]
  },
  {
   "cell_type": "markdown",
   "metadata": {},
   "source": [
    "#### obs_depth"
   ]
  },
  {
   "cell_type": "code",
   "execution_count": null,
   "metadata": {},
   "outputs": [],
   "source": [
    "np_depth = np.full_like(np_sst, 1)\n",
    "np_depth.shape"
   ]
  },
  {
   "cell_type": "markdown",
   "metadata": {},
   "source": [
    "#### obs_Xgrid and obs_Ygrid"
   ]
  },
  {
   "cell_type": "code",
   "execution_count": null,
   "metadata": {},
   "outputs": [],
   "source": [
    "x_idx, y_idx = np.where(mask)"
   ]
  },
  {
   "cell_type": "code",
   "execution_count": null,
   "metadata": {},
   "outputs": [],
   "source": [
    "np_xgrid = np.repeat(x_idx.astype(dtype=np.float64) + 1, time_points)\n",
    "np_ygrid = np.repeat(y_idx.astype(dtype=np.float64) + 1, time_points)"
   ]
  },
  {
   "cell_type": "code",
   "execution_count": null,
   "metadata": {},
   "outputs": [],
   "source": [
    "np_xgrid.shape"
   ]
  },
  {
   "cell_type": "code",
   "execution_count": null,
   "metadata": {},
   "outputs": [],
   "source": [
    "np_ygrid.shape"
   ]
  },
  {
   "cell_type": "markdown",
   "metadata": {},
   "source": [
    "#### obs_Zgrid"
   ]
  },
  {
   "cell_type": "code",
   "execution_count": null,
   "metadata": {},
   "outputs": [],
   "source": [
    "np_zgrid = np.full_like(np_sst, 0)\n",
    "np_zgrid.shape"
   ]
  },
  {
   "cell_type": "markdown",
   "metadata": {},
   "source": [
    "#### obs_Error"
   ]
  },
  {
   "cell_type": "code",
   "execution_count": null,
   "metadata": {},
   "outputs": [],
   "source": [
    "# np_sst_std = da_sst_std.values.flatten(order='C')\n",
    "# np_sst_std = np_sst_std[~np.isnan(np_sst_std)]\n",
    "# np_sst_var = np_sst_std ** 2\n",
    "# np_error = np.repeat(np_sst_var, time_points)\n",
    "np_error = np.full_like(np_sst, 0.4**2)"
   ]
  },
  {
   "cell_type": "code",
   "execution_count": null,
   "metadata": {},
   "outputs": [],
   "source": [
    "np_error.shape"
   ]
  },
  {
   "cell_type": "markdown",
   "metadata": {},
   "source": [
    "#### survey_time"
   ]
  },
  {
   "cell_type": "code",
   "execution_count": null,
   "metadata": {},
   "outputs": [],
   "source": [
    "np_survey_time = da_sst.time.values"
   ]
  },
  {
   "cell_type": "code",
   "execution_count": null,
   "metadata": {},
   "outputs": [],
   "source": [
    "np_survey_time.shape"
   ]
  },
  {
   "cell_type": "markdown",
   "metadata": {},
   "source": [
    "#### np_nobs"
   ]
  },
  {
   "cell_type": "code",
   "execution_count": null,
   "metadata": {},
   "outputs": [],
   "source": [
    "np_nobs = np.repeat(points_per_time, time_points)"
   ]
  },
  {
   "cell_type": "code",
   "execution_count": null,
   "metadata": {},
   "outputs": [],
   "source": [
    "np_nobs.shape"
   ]
  },
  {
   "cell_type": "markdown",
   "metadata": {},
   "source": [
    "#### Make a dataset"
   ]
  },
  {
   "cell_type": "code",
   "execution_count": null,
   "metadata": {},
   "outputs": [],
   "source": [
    "ds = xr.Dataset(\n",
    "    {\n",
    "        \"spherical\": 1,\n",
    "        \"Nobs\": (\"survey\", np_nobs),\n",
    "        \"survey_time\": (\"survey\", np_survey_time),\n",
    "        \"obs_variance\": (\"state_variable\", wc13_obs.obs_variance.data),\n",
    "        \"obs_value\": (\"datum\", np_sst),\n",
    "        \"obs_type\": (\"datum\", np_type),\n",
    "        \"obs_provenance\": (\"datum\", np_provenance),\n",
    "        \"obs_time\": (\"datum\", np_time),\n",
    "        \"obs_depth\": (\"datum\", np_depth),\n",
    "        \"obs_Xgrid\": (\"datum\", np_xgrid),\n",
    "        \"obs_Ygrid\": (\"datum\", np_ygrid),\n",
    "        \"obs_Zgrid\": (\"datum\", np_zgrid),\n",
    "        \"obs_error\": (\"datum\", np_error),\n",
    "    },\n",
    ")\n",
    "ds"
   ]
  },
  {
   "cell_type": "code",
   "execution_count": null,
   "metadata": {},
   "outputs": [],
   "source": [
    "ds.to_netcdf(args.output_obs_file)"
   ]
  }
 ],
 "metadata": {
  "kernelspec": {
   "display_name": "ocean",
   "language": "python",
   "name": "python3"
  },
  "language_info": {
   "codemirror_mode": {
    "name": "ipython",
    "version": 3
   },
   "file_extension": ".py",
   "mimetype": "text/x-python",
   "name": "python",
   "nbconvert_exporter": "python",
   "pygments_lexer": "ipython3",
   "version": "3.10.9"
  },
  "orig_nbformat": 4
 },
 "nbformat": 4,
 "nbformat_minor": 2
}
