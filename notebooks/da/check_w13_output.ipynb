{
 "cells": [
  {
   "cell_type": "code",
   "execution_count": null,
   "metadata": {},
   "outputs": [],
   "source": [
    "import xarray as xr\n",
    "from netCDF4 import Dataset  # type: ignore"
   ]
  },
  {
   "cell_type": "code",
   "execution_count": null,
   "metadata": {},
   "outputs": [],
   "source": [
    "output_folder = \"/cluster/projects/nn9297k/shmiak/roms_apps/wc13_4dvar/OutputData/good_run/\""
   ]
  },
  {
   "cell_type": "code",
   "execution_count": null,
   "metadata": {},
   "outputs": [],
   "source": [
    "# out_4dvar = xr.open_dataset(output_folder+'roms_mod.nc')\n",
    "# out_restart = xr.open_dataset(output_folder+'wc13_rst.nc')\n",
    "# out_da_initial = xr.open_dataset(output_folder+'wc13_itl.nc')\n",
    "# out_da_ini_restart = xr.open_dataset(output_folder+'wc13_dai.nc')\n",
    "# out_tangent = xr.open_dataset(output_folder+'wc13_tlm.nc', decode_times=False)\n",
    "# out_history = xr.open_dataset(output_folder+'wc13_fwd_outer1.nc', decode_times=False)\n",
    "# out_adjoint = xr.open_dataset(output_folder+'wc13_adj_outer1.nc', decode_times=False)"
   ]
  },
  {
   "cell_type": "code",
   "execution_count": null,
   "metadata": {},
   "outputs": [],
   "source": [
    "# out_adjoint = xr.open_dataset(\n",
    "#     output_folder+'wc13_adj_outer1.nc', \n",
    "#     engine='netcdf4',\n",
    "#     decode_times=False\n",
    "#     )\n",
    "out_adjoint = Dataset(output_folder+'wc13_adj_outer1.nc', 'r')"
   ]
  },
  {
   "cell_type": "code",
   "execution_count": null,
   "metadata": {},
   "outputs": [],
   "source": [
    "# out_history.isel(ocean_time=0, s_rho=-1).temp.plot()"
   ]
  },
  {
   "cell_type": "code",
   "execution_count": null,
   "metadata": {},
   "outputs": [],
   "source": [
    "type(out_adjoint)"
   ]
  },
  {
   "cell_type": "code",
   "execution_count": null,
   "metadata": {},
   "outputs": [],
   "source": [
    "dataset = xr.open_dataset(xr.backends.NetCDF4DataStore(out_adjoint), decode_times=False)  # type: ignore"
   ]
  },
  {
   "cell_type": "code",
   "execution_count": null,
   "metadata": {},
   "outputs": [],
   "source": [
    "out_adjoint"
   ]
  },
  {
   "cell_type": "code",
   "execution_count": null,
   "metadata": {},
   "outputs": [],
   "source": []
  }
 ],
 "metadata": {
  "kernelspec": {
   "display_name": "ocean",
   "language": "python",
   "name": "python3"
  },
  "language_info": {
   "codemirror_mode": {
    "name": "ipython",
    "version": 3
   },
   "file_extension": ".py",
   "mimetype": "text/x-python",
   "name": "python",
   "nbconvert_exporter": "python",
   "pygments_lexer": "ipython3",
   "version": "3.10.9"
  },
  "orig_nbformat": 4,
  "vscode": {
   "interpreter": {
    "hash": "09182ebedb5b43d08a38b94883568d2720fd3c57eb8ca0153aac7cd0bb18f44f"
   }
  }
 },
 "nbformat": 4,
 "nbformat_minor": 2
}
