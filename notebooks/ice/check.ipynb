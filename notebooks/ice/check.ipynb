{
 "cells": [
  {
   "cell_type": "code",
   "execution_count": null,
   "metadata": {},
   "outputs": [],
   "source": [
    "from pathlib import Path\n",
    "\n",
    "import xarray as xr"
   ]
  },
  {
   "cell_type": "code",
   "execution_count": null,
   "metadata": {},
   "outputs": [],
   "source": [
    "# check filed provided by cice developers\n",
    "cice_grid_ds = xr.open_dataset(str(Path.home()) + '/cice-dirs/input/CICE_data/grid/gx3/grid_gx3.nc')\n",
    "cice_kmt_ds = xr.open_dataset(str(Path.home()) + '/cice-dirs/input/CICE_data/grid/gx3/kmt_gx3.nc')\n",
    "cice_ini_ds = xr.open_dataset(str(Path.home()) + '/cice-dirs/input/CICE_data/ic/gx3/iced_gx3_v6.2005-01-01.nc')\n",
    "cice_forcing_ds = xr.open_dataset(\n",
    "    str(Path.home()) + \n",
    "    '/cice-dirs/input/CICE_data/forcing/gx3/JRA55/8XDAILY/JRA55_gx3_03hr_forcing_2005.nc'\n",
    "    )"
   ]
  },
  {
   "cell_type": "code",
   "execution_count": null,
   "metadata": {},
   "outputs": [],
   "source": [
    "roms_grid_ds = xr.open_dataset('/cluster/projects/nn8103k/A20/Grid/A20niva_grd_v1.nc')\n",
    "roms_cice_grid_ds = xr.open_dataset('/cluster/projects/nn8103k/A20_ROMS_MCT_CICE/CiceGrid/cice.grid.nc')\n",
    "roms_humid_ds = xr.open_dataset(\n",
    "    '/cluster/projects/nn8103k/A20/FORCING/HINDCAST/v3/ERA5/6hourly/era5_q_year_1980_roms_halo.nc'\n",
    "    )\n",
    "roms_rain_ds = xr.open_dataset(\n",
    "    '/cluster/projects/nn8103k/A20/FORCING/HINDCAST/v3/ERA5/6hourly/era5_tp_year_1980_roms_halo.nc'\n",
    "    )\n",
    "roms_rhoa_ds = xr.open_dataset(\n",
    "    '/cluster/projects/nn8103k/A20/FORCING/HINDCAST/v3/ERA5/6hourly/era5_msl_year_1980_roms_halo.nc'\n",
    "    )\n",
    "roms_tair_ds = xr.open_dataset(\n",
    "    '/cluster/projects/nn8103k/A20/FORCING/HINDCAST/v3/ERA5/6hourly/era5_t2m_year_1980_roms_halo.nc'\n",
    "    )\n",
    "roms_uwind_ds = xr.open_dataset(\n",
    "    '/cluster/projects/nn8103k/A20/FORCING/HINDCAST/v3/ERA5/6hourly/era5_u10_year_1980_roms_halo.nc'\n",
    "    )\n",
    "roms_vwind_ds = xr.open_dataset(\n",
    "    '/cluster/projects/nn8103k/A20/FORCING/HINDCAST/v3/ERA5/6hourly/era5_v10_year_1980_roms_halo.nc'\n",
    "    )"
   ]
  },
  {
   "cell_type": "code",
   "execution_count": null,
   "metadata": {},
   "outputs": [],
   "source": []
  }
 ],
 "metadata": {
  "kernelspec": {
   "display_name": "base",
   "language": "python",
   "name": "python3"
  },
  "language_info": {
   "codemirror_mode": {
    "name": "ipython",
    "version": 3
   },
   "file_extension": ".py",
   "mimetype": "text/x-python",
   "name": "python",
   "nbconvert_exporter": "python",
   "pygments_lexer": "ipython3",
   "version": "3.10.8"
  },
  "orig_nbformat": 4,
  "vscode": {
   "interpreter": {
    "hash": "5519770f2e53f272ade07b0eed89ea243891ae4da635360644e0432ea7e539b7"
   }
  }
 },
 "nbformat": 4,
 "nbformat_minor": 2
}
