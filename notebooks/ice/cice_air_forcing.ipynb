{
 "cells": [
  {
   "cell_type": "code",
   "execution_count": null,
   "metadata": {},
   "outputs": [],
   "source": [
    "import os\n",
    "import glob\n",
    "\n",
    "import xarray as xr\n",
    "\n",
    "from roms_nc.handlers import interpolate_cice"
   ]
  },
  {
   "cell_type": "code",
   "execution_count": null,
   "metadata": {},
   "outputs": [],
   "source": [
    "roms_grid_ds = xr.open_dataset('/cluster/projects/nn8103k/A20/Grid/A20niva_grd_v1.nc')\n",
    "data_folder = '/cluster/projects/nn8103k/A20/FORCING/HINDCAST/v3/ERA5/6hourly/'\n",
    "cice_folder = '/cluster/projects/nn8103k/A20/FORCING/HINDCAST/v3/ERA5/cice/'\n",
    "globs_names = (\n",
    "    ('era5_q_year_*_roms_halo.nc', 'Qair', 'qair_time'),\n",
    "    ('era5_tp_year_*_roms_halo.nc', 'rain', 'rain_time'),\n",
    "    ('era5_msl_year_*_roms_halo.nc', 'Pair', 'pair_time'),\n",
    "    ('era5_t2m_year_*_roms_halo.nc', 'Tair', 'Tair_time'),\n",
    "    ('era5_u10_year_*_roms_halo.nc', 'Uwind', 'wind_time'),\n",
    "    ('era5_v10_year_*_roms_halo.nc', 'Vwind', 'wind_time'),\n",
    "    ('era5_tcc_year_*_roms_halo.nc', 'cloud', 'cloud_time'),\n",
    ")"
   ]
  },
  {
   "cell_type": "code",
   "execution_count": null,
   "metadata": {},
   "outputs": [],
   "source": [
    "# for glob_str, var_name, time_name in globs_names:\n",
    "glob_str, var_name, time_name = globs_names[0]\n",
    "filepaths = sorted(glob.glob(data_folder+glob_str))\n",
    "for filepath in filepaths:\n",
    "    ds_cice = interpolate_cice(filepath, var_name, time_name, roms_grid_ds)\n",
    "    filename = os.path.basename(filepath)\n",
    "    ds_cice.to_netcdf(cice_folder+filename)\n",
    "    print(f\"{filename} is written.\")"
   ]
  },
  {
   "cell_type": "code",
   "execution_count": null,
   "metadata": {},
   "outputs": [],
   "source": []
  }
 ],
 "metadata": {
  "kernelspec": {
   "display_name": "ocean",
   "language": "python",
   "name": "python3"
  },
  "language_info": {
   "codemirror_mode": {
    "name": "ipython",
    "version": 3
   },
   "file_extension": ".py",
   "mimetype": "text/x-python",
   "name": "python",
   "nbconvert_exporter": "python",
   "pygments_lexer": "ipython3",
   "version": "3.10.9"
  },
  "orig_nbformat": 4,
  "vscode": {
   "interpreter": {
    "hash": "09182ebedb5b43d08a38b94883568d2720fd3c57eb8ca0153aac7cd0bb18f44f"
   }
  }
 },
 "nbformat": 4,
 "nbformat_minor": 2
}
