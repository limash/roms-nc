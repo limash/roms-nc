{
 "cells": [
  {
   "cell_type": "code",
   "execution_count": 9,
   "metadata": {},
   "outputs": [],
   "source": [
    "import os\n",
    "import glob\n",
    "\n",
    "import xarray as xr"
   ]
  },
  {
   "cell_type": "code",
   "execution_count": 10,
   "metadata": {},
   "outputs": [],
   "source": [
    "roms_grid_ds = xr.open_dataset('/cluster/projects/nn8103k/A20/Grid/A20niva_grd_v1.nc')\n",
    "data_folder = '/cluster/projects/nn8103k/A20/FORCING/HINDCAST/v3/ERA5/6hourly/'\n",
    "cice_folder = '/cluster/projects/nn8103k/A20/FORCING/HINDCAST/v3/ERA5/cice/'\n",
    "globs_names = (\n",
    "    ('era5_q_year_*_roms_halo.nc', 'Qair', 'qair_time'),\n",
    "    ('era5_tp_year_*_roms_halo.nc', 'rain', 'rain_time'),\n",
    "    ('era5_msl_year_*_roms_halo.nc', 'Pair', 'pair_time'),\n",
    "    ('era5_t2m_year_*_roms_halo.nc', 'Tair', 'Tair_time'),\n",
    "    ('era5_u10_year_*_roms_halo.nc', 'Uwind', 'wind_time'),\n",
    "    ('era5_v10_year_*_roms_halo.nc', 'Vwind', 'wind_time'),\n",
    ")"
   ]
  },
  {
   "cell_type": "code",
   "execution_count": 36,
   "metadata": {},
   "outputs": [],
   "source": [
    "var_number = 5"
   ]
  },
  {
   "cell_type": "code",
   "execution_count": 37,
   "metadata": {},
   "outputs": [],
   "source": [
    "filepaths = sorted(glob.glob(data_folder+globs_names[var_number][0]))\n",
    "var_name, time_name = globs_names[var_number][1], globs_names[var_number][2]\n",
    "filepath = filepaths[0]\n",
    "filename = os.path.basename(filepath)"
   ]
  },
  {
   "cell_type": "code",
   "execution_count": 38,
   "metadata": {},
   "outputs": [],
   "source": [
    "ds = xr.open_dataset(filepath)"
   ]
  },
  {
   "cell_type": "code",
   "execution_count": 39,
   "metadata": {},
   "outputs": [],
   "source": [
    "coords = {\n",
    "    time_name: ds[var_name][time_name], \n",
    "    'lon': roms_grid_ds.lon_rho, \n",
    "    'lat': roms_grid_ds.lat_rho,\n",
    "}\n",
    "ds_cice = ds[var_name].interp(coords)"
   ]
  },
  {
   "cell_type": "code",
   "execution_count": 40,
   "metadata": {},
   "outputs": [],
   "source": [
    "ds_cice.to_netcdf(cice_folder+filename)"
   ]
  }
 ],
 "metadata": {
  "kernelspec": {
   "display_name": "base",
   "language": "python",
   "name": "python3"
  },
  "language_info": {
   "codemirror_mode": {
    "name": "ipython",
    "version": 3
   },
   "file_extension": ".py",
   "mimetype": "text/x-python",
   "name": "python",
   "nbconvert_exporter": "python",
   "pygments_lexer": "ipython3",
   "version": "3.10.8"
  },
  "orig_nbformat": 4,
  "vscode": {
   "interpreter": {
    "hash": "5519770f2e53f272ade07b0eed89ea243891ae4da635360644e0432ea7e539b7"
   }
  }
 },
 "nbformat": 4,
 "nbformat_minor": 2
}
