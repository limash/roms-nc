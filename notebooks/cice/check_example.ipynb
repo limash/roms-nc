{
 "cells": [
  {
   "attachments": {},
   "cell_type": "markdown",
   "metadata": {},
   "source": [
    "### Check nc files provided by cice developers"
   ]
  },
  {
   "cell_type": "code",
   "execution_count": null,
   "metadata": {},
   "outputs": [],
   "source": [
    "from pathlib import Path\n",
    "\n",
    "import xarray as xr"
   ]
  },
  {
   "cell_type": "code",
   "execution_count": null,
   "metadata": {},
   "outputs": [],
   "source": [
    "cice_grid_ds = xr.open_dataset(str(Path.home()) + '/cice-dirs/input/CICE_data/grid/gx3/grid_gx3.nc')\n",
    "cice_kmt_ds = xr.open_dataset(str(Path.home()) + '/cice-dirs/input/CICE_data/grid/gx3/kmt_gx3.nc')\n",
    "cice_ini_ds = xr.open_dataset(str(Path.home()) + '/cice-dirs/input/CICE_data/ic/gx3/iced_gx3_v6.2005-01-01.nc')\n",
    "cice_forcing_ds = xr.open_dataset(\n",
    "    str(Path.home()) + \n",
    "    '/cice-dirs/input/CICE_data/forcing/gx3/JRA55/8XDAILY/JRA55_gx3_03hr_forcing_2005.nc'\n",
    "    )"
   ]
  },
  {
   "cell_type": "code",
   "execution_count": null,
   "metadata": {},
   "outputs": [],
   "source": []
  }
 ],
 "metadata": {
  "kernelspec": {
   "display_name": "ocean",
   "language": "python",
   "name": "python3"
  },
  "language_info": {
   "codemirror_mode": {
    "name": "ipython",
    "version": 3
   },
   "file_extension": ".py",
   "mimetype": "text/x-python",
   "name": "python",
   "nbconvert_exporter": "python",
   "pygments_lexer": "ipython3",
   "version": "3.10.9"
  },
  "orig_nbformat": 4,
  "vscode": {
   "interpreter": {
    "hash": "09182ebedb5b43d08a38b94883568d2720fd3c57eb8ca0153aac7cd0bb18f44f"
   }
  }
 },
 "nbformat": 4,
 "nbformat_minor": 2
}
