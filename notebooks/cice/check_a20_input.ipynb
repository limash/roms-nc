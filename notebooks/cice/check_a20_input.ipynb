{
 "cells": [
  {
   "cell_type": "code",
   "execution_count": null,
   "metadata": {},
   "outputs": [],
   "source": [
    "import xarray as xr"
   ]
  },
  {
   "cell_type": "code",
   "execution_count": null,
   "metadata": {},
   "outputs": [],
   "source": [
    "grid_ds = xr.open_dataset('/cluster/projects/nn8103k/A20/Grid/A20niva_grd_v1.nc')\n",
    "cice_kmt_ds = xr.open_dataset('/cluster/projects/nn8103k/A20/Grid/cice_a20/cice.kmt.nc')\n",
    "cice_humid_ds = xr.open_dataset(\n",
    "    '/cluster/projects/nn8103k/A20/FORCING/HINDCAST/v3/ERA5/cice/era5_q_year_1980_roms_halo.nc'\n",
    "    )\n",
    "cice_rain_ds = xr.open_dataset(\n",
    "    '/cluster/projects/nn8103k/A20/FORCING/HINDCAST/v3/ERA5/cice/era5_tp_year_1980_roms_halo.nc'\n",
    "    )\n",
    "cice_rhoa_ds = xr.open_dataset(\n",
    "    '/cluster/projects/nn8103k/A20/FORCING/HINDCAST/v3/ERA5/cice/era5_msl_year_1980_roms_halo.nc'\n",
    "    )\n",
    "cice_tair_ds = xr.open_dataset(\n",
    "    '/cluster/projects/nn8103k/A20/FORCING/HINDCAST/v3/ERA5/cice/era5_t2m_year_1980_roms_halo.nc'\n",
    "    )\n",
    "cice_uwind_ds = xr.open_dataset(\n",
    "    '/cluster/projects/nn8103k/A20/FORCING/HINDCAST/v3/ERA5/cice/era5_u10_year_1980_roms_halo.nc'\n",
    "    )\n",
    "cice_vwind_ds = xr.open_dataset(\n",
    "    '/cluster/projects/nn8103k/A20/FORCING/HINDCAST/v3/ERA5/cice/era5_v10_year_1980_roms_halo.nc'\n",
    "    )\n",
    "cice_cldf_ds = xr.open_dataset(\n",
    "    '/cluster/projects/nn8103k/A20/FORCING/HINDCAST/v3/ERA5/cice/era5_tcc_year_1980_roms_halo.nc'\n",
    "    )"
   ]
  },
  {
   "cell_type": "code",
   "execution_count": null,
   "metadata": {},
   "outputs": [],
   "source": [
    "cice_kmt_ds.kmt.plot(figsize=(20, 10))"
   ]
  },
  {
   "cell_type": "code",
   "execution_count": null,
   "metadata": {},
   "outputs": [],
   "source": [
    "time = 0"
   ]
  },
  {
   "cell_type": "code",
   "execution_count": null,
   "metadata": {},
   "outputs": [],
   "source": [
    "cice_humid_ds.isel(qair_time=time).Qair.plot(figsize=(20, 10))"
   ]
  },
  {
   "cell_type": "code",
   "execution_count": null,
   "metadata": {},
   "outputs": [],
   "source": [
    "cice_rain_ds.isel(rain_time=time).rain.plot(figsize=(20, 10))"
   ]
  },
  {
   "cell_type": "code",
   "execution_count": null,
   "metadata": {},
   "outputs": [],
   "source": [
    "cice_rhoa_ds.isel(pair_time=time).Pair.plot(figsize=(20, 10))"
   ]
  },
  {
   "cell_type": "code",
   "execution_count": null,
   "metadata": {},
   "outputs": [],
   "source": [
    "cice_tair_ds.isel(Tair_time=time).Tair.plot(figsize=(20, 10))"
   ]
  },
  {
   "cell_type": "code",
   "execution_count": null,
   "metadata": {},
   "outputs": [],
   "source": [
    "cice_uwind_ds.isel(wind_time=time).Uwind.plot(figsize=(20, 10))"
   ]
  },
  {
   "cell_type": "code",
   "execution_count": null,
   "metadata": {},
   "outputs": [],
   "source": [
    "cice_vwind_ds.isel(wind_time=time).Vwind.plot(figsize=(20, 10))"
   ]
  },
  {
   "cell_type": "code",
   "execution_count": null,
   "metadata": {},
   "outputs": [],
   "source": [
    "cice_cldf_ds.isel(cloud_time=time).cloud.plot(figsize=(20, 10))"
   ]
  },
  {
   "cell_type": "code",
   "execution_count": null,
   "metadata": {},
   "outputs": [],
   "source": []
  }
 ],
 "metadata": {
  "kernelspec": {
   "display_name": "ocean",
   "language": "python",
   "name": "python3"
  },
  "language_info": {
   "codemirror_mode": {
    "name": "ipython",
    "version": 3
   },
   "file_extension": ".py",
   "mimetype": "text/x-python",
   "name": "python",
   "nbconvert_exporter": "python",
   "pygments_lexer": "ipython3",
   "version": "3.10.9"
  },
  "orig_nbformat": 4,
  "vscode": {
   "interpreter": {
    "hash": "09182ebedb5b43d08a38b94883568d2720fd3c57eb8ca0153aac7cd0bb18f44f"
   }
  }
 },
 "nbformat": 4,
 "nbformat_minor": 2
}
