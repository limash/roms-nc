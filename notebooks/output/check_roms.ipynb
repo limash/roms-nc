{
 "cells": [
  {
   "cell_type": "code",
   "execution_count": null,
   "metadata": {},
   "outputs": [],
   "source": [
    "import xarray as xr"
   ]
  },
  {
   "cell_type": "code",
   "execution_count": null,
   "metadata": {},
   "outputs": [],
   "source": [
    "folders = {\n",
    "    \"grid_roho160\": \"/cluster/projects/nn9297k/ROHO160+/InputData/Grid/\",\n",
    "    \"grid_a20\": \"/cluster/projects/nn8103k/A20/Grid/\",\n",
    "    \"output_roho800\": \"/cluster/projects/nn9297k/ROHO800+/OutputData/phys_only_month/\",\n",
    "    \"output_a20\": \"/cluster/projects/nn8103k/A20_ROMS_MCT_CICE/OutputData/3_dt_800/\",\n",
    "    \"work_roho160\": \"/cluster/work/users/shmiak/ROHO160/Run/\",\n",
    "    \"work_roho800\": \"/cluster/work/users/shmiak/ROHO800/Run/\",\n",
    "    \"work_a20\": \"/cluster/work/users/shmiak/A20/Run/\",\n",
    "}\n",
    "\n",
    "files = {\n",
    "    \"grid_roho160\": \"roho_160m_sigma3_min20.nc\",\n",
    "    \"grid_a20\": \"A20niva_grd_v1.nc\",\n",
    "    \"output_roho800\": \"roho800_v2ar_sta.nc\",\n",
    "    \"output_a20\": \"avg_0010.nc\",\n",
    "    \"work_roho160\": \"4977524/roho160_avg_0001.nc\",\n",
    "    \"work_roho800\": \"5188321/his_0009.nc\",\n",
    "    \"work_a20\": \"5046020/his_0005.nc\",\n",
    "}"
   ]
  },
  {
   "cell_type": "code",
   "execution_count": null,
   "metadata": {},
   "outputs": [],
   "source": [
    "name = \"work_roho800\"\n",
    "ds = xr.open_dataset(folders[name]+files[name])"
   ]
  },
  {
   "cell_type": "code",
   "execution_count": null,
   "metadata": {},
   "outputs": [],
   "source": [
    "time = -1"
   ]
  },
  {
   "cell_type": "code",
   "execution_count": null,
   "metadata": {},
   "outputs": [],
   "source": [
    "ds.isel(ocean_time=time, s_rho=-1).temp.plot(figsize=(14, 10))"
   ]
  },
  {
   "cell_type": "code",
   "execution_count": null,
   "metadata": {},
   "outputs": [],
   "source": [
    "ds.isel(ocean_time=time, s_rho=-1).salt.plot(figsize=(14, 10))"
   ]
  },
  {
   "cell_type": "code",
   "execution_count": null,
   "metadata": {},
   "outputs": [],
   "source": [
    "ds.isel(ocean_time=time, s_rho=-1).u.plot(figsize=(14, 10))"
   ]
  },
  {
   "cell_type": "code",
   "execution_count": null,
   "metadata": {},
   "outputs": [],
   "source": []
  }
 ],
 "metadata": {
  "kernelspec": {
   "display_name": "roms",
   "language": "python",
   "name": "python3"
  },
  "language_info": {
   "codemirror_mode": {
    "name": "ipython",
    "version": 3
   },
   "file_extension": ".py",
   "mimetype": "text/x-python",
   "name": "python",
   "nbconvert_exporter": "python",
   "pygments_lexer": "ipython3",
   "version": "3.10.9"
  },
  "orig_nbformat": 4,
  "vscode": {
   "interpreter": {
    "hash": "0fa85875930b0e823a94251ad2b9eddd32b8f99229e82600d91f9855d75d7151"
   }
  }
 },
 "nbformat": 4,
 "nbformat_minor": 2
}
