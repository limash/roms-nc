{
 "cells": [
  {
   "cell_type": "code",
   "execution_count": null,
   "metadata": {},
   "outputs": [],
   "source": [
    "import numpy as np\n",
    "import xarray as xr\n",
    "import matplotlib.dates as mdates\n",
    "import seaborn as sns\n",
    "\n",
    "sns.set_style(\"darkgrid\")"
   ]
  },
  {
   "cell_type": "code",
   "execution_count": null,
   "metadata": {},
   "outputs": [],
   "source": [
    "roho800_folder = \"/cluster/projects/nn9490k/ROHO800/STORAGE/ROHO800_hindcast_2007_2019_v2bn\"\n",
    "ds_roho800_chl = xr.open_dataset(roho800_folder+'/concatenated/roho800_v2bn_his_TotChl.nc')\n",
    "ds_roho800_o2 = xr.open_dataset(roho800_folder+'/concatenated/roho800_v2bn_O2_o.nc')\n",
    "ds_roho800_p = xr.open_dataset(roho800_folder+'/concatenated/roho800_v2bn_N1_p.nc')\n",
    "ds_roho800_n = xr.open_dataset(roho800_folder+'/concatenated/roho800_v2bn_N3_n.nc')"
   ]
  },
  {
   "cell_type": "code",
   "execution_count": null,
   "metadata": {},
   "outputs": [],
   "source": [
    "ds_roho800_chl[\"TotChl\"].isel(s_rho=-1).sel(ocean_time=\"2018-04-01\").plot.pcolormesh(\n",
    "    x=\"lon_rho\", y=\"lat_rho\", vmin=0, vmax=10, figsize=(14, 7), cmap='coolwarm'\n",
    ")"
   ]
  },
  {
   "cell_type": "code",
   "execution_count": null,
   "metadata": {},
   "outputs": [],
   "source": [
    "ds_roho800_o2[\"O2_o\"].isel(s_rho=-1).sel(ocean_time=\"2018-04-01 12:00:00\", method='nearest').plot.pcolormesh(\n",
    "    x=\"lon_rho\", y=\"lat_rho\", figsize=(14, 7), cmap='viridis'\n",
    ")"
   ]
  },
  {
   "cell_type": "code",
   "execution_count": null,
   "metadata": {},
   "outputs": [],
   "source": [
    "ds_roho800_p[\"N1_p\"].isel(s_rho=-1).sel(ocean_time=\"2018-04-01 12:00:00\", method='nearest').plot.pcolormesh(\n",
    "    x=\"lon_rho\", y=\"lat_rho\", vmin=0, figsize=(14, 7), cmap='viridis'\n",
    ")"
   ]
  },
  {
   "cell_type": "code",
   "execution_count": null,
   "metadata": {},
   "outputs": [],
   "source": [
    "ds_roho800_n[\"N3_n\"].isel(s_rho=-1).sel(ocean_time=\"2018-04-01 12:00:00\", method='nearest').plot.pcolormesh(\n",
    "    x=\"lon_rho\", y=\"lat_rho\", vmin=0, vmax=10, figsize=(14, 7), cmap='viridis'\n",
    ")"
   ]
  },
  {
   "cell_type": "code",
   "execution_count": null,
   "metadata": {},
   "outputs": [],
   "source": []
  }
 ],
 "metadata": {
  "kernelspec": {
   "display_name": "ocean",
   "language": "python",
   "name": "python3"
  },
  "language_info": {
   "codemirror_mode": {
    "name": "ipython",
    "version": 3
   },
   "file_extension": ".py",
   "mimetype": "text/x-python",
   "name": "python",
   "nbconvert_exporter": "python",
   "pygments_lexer": "ipython3",
   "version": "3.10.9"
  },
  "orig_nbformat": 4,
  "vscode": {
   "interpreter": {
    "hash": "09182ebedb5b43d08a38b94883568d2720fd3c57eb8ca0153aac7cd0bb18f44f"
   }
  }
 },
 "nbformat": 4,
 "nbformat_minor": 2
}
