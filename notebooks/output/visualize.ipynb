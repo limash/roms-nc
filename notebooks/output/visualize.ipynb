{
 "cells": [
  {
   "cell_type": "code",
   "execution_count": null,
   "metadata": {},
   "outputs": [],
   "source": [
    "import numpy as np\n",
    "import xarray as xr\n",
    "import matplotlib.dates as mdates\n",
    "import seaborn as sns\n",
    "\n",
    "sns.set_style(\"darkgrid\")"
   ]
  },
  {
   "cell_type": "code",
   "execution_count": null,
   "metadata": {},
   "outputs": [],
   "source": [
    "roho160_folder = \"/cluster/projects/nn9297k/ROHO160+/OutputData/s_layers_25/1_dec2017-dec2018/\"\n",
    "roho800_folder = \"/cluster/projects/nn9490k/ROHO800/STORAGE/ROHO800_hindcast_2007_2019_v2bn/roho800_v2bn_avg/\"\n",
    "roho800_stations = (\n",
    "    \"/cluster/projects/nn9490k/ROHO800/STORAGE/ROHO800_hindcast_2007_2019_v2bn/concatenated/stations/roho800_v2bn_sta.nc\"\n",
    ")\n",
    "ds_roho160 = xr.open_dataset(roho160_folder+'roho160_his_0003.nc')\n",
    "ds_roho800 = xr.open_dataset(roho800_folder+'roho800_avg_0100.nc')\n",
    "ds_roho800_st = xr.open_dataset(roho800_stations)"
   ]
  },
  {
   "cell_type": "code",
   "execution_count": null,
   "metadata": {},
   "outputs": [],
   "source": [
    "lons, lats = np.zeros(ds_roho800_st.station.shape), np.zeros(ds_roho800_st.station.shape)\n",
    "for i, station in enumerate(ds_roho800_st.station):\n",
    "    lons[i] = station.lon_rho.values\n",
    "    lats[i] = station.lat_rho.values"
   ]
  },
  {
   "cell_type": "code",
   "execution_count": null,
   "metadata": {},
   "outputs": [],
   "source": [
    "labels = ['VT53', 'VT70', 'VT74', 'VT69']\n",
    "n_point = [1, 3, 4, 13]\n",
    "# n_point = [\n",
    "#     0, 1, 2, 3, 4, 5, 6, 11, 12, 13, 14, 15, 16,\n",
    "#     18, 19, 20, 28, 29, 30, 31, 32, 33, 34, 35, 36,\n",
    "#     37, 43, 44, 45, 46\n",
    "# ]\n",
    "p = ds_roho160.mask_rho.plot(\n",
    "    x=\"lon_rho\", y=\"lat_rho\", figsize=(20, 10), cmap='GnBu'\n",
    "    )\n",
    "p.axes.scatter(x=lons[n_point], y=lats[n_point], color='red')\n",
    "for i, label in enumerate(labels):\n",
    "    p.axes.annotate(label, (lons[n_point][i], lats[n_point][i]), color='red')"
   ]
  },
  {
   "cell_type": "code",
   "execution_count": null,
   "metadata": {},
   "outputs": [],
   "source": [
    "p = ds_roho800_st.isel(station=1).sel(ocean_time=slice('2011', '2012/01'))[\"N5_s\"].plot(x=\"ocean_time\", y=\"s_rho\")  # type: ignore\n",
    "my_format = mdates.DateFormatter('%B')\n",
    "p.axes.xaxis.set_major_formatter(my_format)"
   ]
  },
  {
   "cell_type": "code",
   "execution_count": null,
   "metadata": {},
   "outputs": [],
   "source": [
    "ds_roho160.temp.isel(s_rho=-1, ocean_time=14).plot.pcolormesh(\n",
    "    x=\"lon_rho\", y=\"lat_rho\", vmin=2, vmax=10, figsize=(20, 10), cmap='coolwarm'\n",
    "    )"
   ]
  },
  {
   "cell_type": "code",
   "execution_count": null,
   "metadata": {},
   "outputs": [],
   "source": [
    "ds_roho800.temp.isel(s_rho=-1, ocean_time=1).plot.pcolormesh(\n",
    "    x=\"lon_rho\", y=\"lat_rho\", vmin=2, vmax=10, figsize=(20, 10), cmap='coolwarm'\n",
    "    )"
   ]
  },
  {
   "cell_type": "code",
   "execution_count": null,
   "metadata": {},
   "outputs": [],
   "source": [
    "ds_roho160.salt.isel(s_rho=-1, ocean_time=14).plot.pcolormesh(\n",
    "    x=\"lon_rho\", y=\"lat_rho\", vmin=10, figsize=(20, 10), cmap='PuBuGn'\n",
    "    )"
   ]
  },
  {
   "cell_type": "code",
   "execution_count": null,
   "metadata": {},
   "outputs": [],
   "source": [
    "ds_roho800.salt.isel(s_rho=-1, ocean_time=1).plot.pcolormesh(\n",
    "    x=\"lon_rho\", y=\"lat_rho\", vmin=10, figsize=(20, 10), cmap='PuBuGn'\n",
    "    )"
   ]
  }
 ],
 "metadata": {
  "kernelspec": {
   "display_name": "ocean",
   "language": "python",
   "name": "python3"
  },
  "language_info": {
   "codemirror_mode": {
    "name": "ipython",
    "version": 3
   },
   "file_extension": ".py",
   "mimetype": "text/x-python",
   "name": "python",
   "nbconvert_exporter": "python",
   "pygments_lexer": "ipython3",
   "version": "3.10.9"
  },
  "orig_nbformat": 4,
  "vscode": {
   "interpreter": {
    "hash": "09182ebedb5b43d08a38b94883568d2720fd3c57eb8ca0153aac7cd0bb18f44f"
   }
  }
 },
 "nbformat": 4,
 "nbformat_minor": 2
}
