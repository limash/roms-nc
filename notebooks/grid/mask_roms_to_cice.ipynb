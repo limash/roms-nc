{
 "cells": [
  {
   "cell_type": "code",
   "execution_count": null,
   "metadata": {},
   "outputs": [],
   "source": [
    "import xarray as xr"
   ]
  },
  {
   "cell_type": "code",
   "execution_count": null,
   "metadata": {},
   "outputs": [],
   "source": [
    "grid_a20_file = \"/cluster/projects/nn8103k/A20/Grid/A20niva_grd_v1.nc\"\n",
    "kmt_cice_file = \"/cluster/projects/nn8103k/A20_ROMS_MCT_CICE/Src/cice/rundir/cice.kmt.nc\"\n",
    "grid_a20 = xr.open_dataset(grid_a20_file)\n",
    "kmt_ds = xr.open_dataset(kmt_cice_file)"
   ]
  },
  {
   "cell_type": "code",
   "execution_count": null,
   "metadata": {},
   "outputs": [],
   "source": [
    "kmt_ds['kmt'].values = grid_a20.mask_rho.values"
   ]
  },
  {
   "cell_type": "code",
   "execution_count": null,
   "metadata": {},
   "outputs": [],
   "source": [
    "kmt_ds.kmt.plot(figsize=(14, 10))"
   ]
  },
  {
   "cell_type": "code",
   "execution_count": null,
   "metadata": {},
   "outputs": [],
   "source": [
    "kmt_ds.to_netcdf(kmt_cice_file)"
   ]
  },
  {
   "cell_type": "code",
   "execution_count": null,
   "metadata": {},
   "outputs": [],
   "source": []
  }
 ],
 "metadata": {
  "kernelspec": {
   "display_name": "ocean",
   "language": "python",
   "name": "python3"
  },
  "language_info": {
   "codemirror_mode": {
    "name": "ipython",
    "version": 3
   },
   "file_extension": ".py",
   "mimetype": "text/x-python",
   "name": "python",
   "nbconvert_exporter": "python",
   "pygments_lexer": "ipython3",
   "version": "3.10.9"
  },
  "orig_nbformat": 4,
  "vscode": {
   "interpreter": {
    "hash": "09182ebedb5b43d08a38b94883568d2720fd3c57eb8ca0153aac7cd0bb18f44f"
   }
  }
 },
 "nbformat": 4,
 "nbformat_minor": 2
}
