{
 "cells": [
  {
   "cell_type": "code",
   "execution_count": null,
   "metadata": {},
   "outputs": [],
   "source": [
    "import numpy as np\n",
    "import scipy as sp\n",
    "import xarray as xr\n",
    "import matplotlib.pyplot as plt\n",
    "import seaborn as sns\n",
    "\n",
    "sns.set_style(\"darkgrid\")"
   ]
  },
  {
   "cell_type": "code",
   "execution_count": null,
   "metadata": {},
   "outputs": [],
   "source": [
    "roho_folder = \"/cluster/projects/nn9297k/ROHO160+\"\n",
    "init_file = \"/InputData/Initial/roho160_init_25_layers.nc\"\n",
    "init_old_file = \"/InputData/Initial/roho160_init_v2.nc\"\n",
    "new_file = \"/InputData/Initial/roho160_init_25_layers+.nc\""
   ]
  },
  {
   "cell_type": "code",
   "execution_count": null,
   "metadata": {},
   "outputs": [],
   "source": [
    "ds = xr.open_dataset(roho_folder + init_file)\n",
    "ds_old = xr.open_dataset(roho_folder + init_old_file)"
   ]
  },
  {
   "cell_type": "code",
   "execution_count": null,
   "metadata": {},
   "outputs": [],
   "source": [
    "s_w = np.linspace(-1, 0, num=26)\n",
    "s_rho = np.linspace(-0.98, -0.02, num=25)\n",
    "coords = {\n",
    "    's_rho': s_rho,\n",
    "    's_w': s_w,\n",
    "}\n",
    "new_ds = ds_old.interp(coords).astype(np.float32)"
   ]
  },
  {
   "cell_type": "code",
   "execution_count": null,
   "metadata": {},
   "outputs": [],
   "source": [
    "new_ds.temp.isel(ocean_time=-1, s_rho=-1).plot()"
   ]
  },
  {
   "cell_type": "code",
   "execution_count": null,
   "metadata": {},
   "outputs": [],
   "source": [
    "parameters = (\n",
    "    ('temp', 'xi_rho', 8), ('salt', 'xi_rho', 34), ('zeta', 'xi_rho', -0.34), \n",
    "    ('u', 'xi_u', 0), ('ubar', 'xi_u', 0), \n",
    "    ('v', 'xi_v', 0), ('vbar', 'xi_v', 0)\n",
    "    )\n",
    "for name, dim, fill_value in parameters:\n",
    "    new_ds[name] = new_ds[name].interpolate_na(dim=dim, method=\"linear\", fill_value=fill_value)"
   ]
  },
  {
   "cell_type": "code",
   "execution_count": null,
   "metadata": {},
   "outputs": [],
   "source": [
    "new_ds.salt.isel(ocean_time=-1, s_rho=-1).plot()"
   ]
  },
  {
   "cell_type": "code",
   "execution_count": null,
   "metadata": {},
   "outputs": [],
   "source": [
    "date = '2017-12-06T00:00:00.000000000'"
   ]
  },
  {
   "attachments": {},
   "cell_type": "markdown",
   "metadata": {},
   "source": [
    "#### Zeta"
   ]
  },
  {
   "cell_type": "code",
   "execution_count": null,
   "metadata": {},
   "outputs": [],
   "source": [
    "variable = 'zeta'\n",
    "plt.figure(figsize=(15, 7))\n",
    "plt.subplot(121)\n",
    "ds.sel(ocean_time=date)[variable].plot()\n",
    "# result = sp.ndimage.gaussian_filter(\n",
    "#     ds.isel(ocean_time=-1)[variable].values, 3, mode='nearest')\n",
    "result = (ds.sel(ocean_time=date)[variable] * ds.mask_rho).values\n",
    "# result = sp.ndimage.gaussian_filter(result, 3, mode='nearest')\n",
    "# result = result * ds.mask_rho.values\n",
    "ds = ds.assign(zeta = (['eta_rho', 'xi_rho'], result))\n",
    "plt.subplot(122)\n",
    "# (ds.sel(ocean_time=date)[variable] * ds.mask_rho).plot()\n",
    "ds.sel(ocean_time=date)[variable].plot()"
   ]
  },
  {
   "attachments": {},
   "cell_type": "markdown",
   "metadata": {},
   "source": [
    "#### V"
   ]
  },
  {
   "cell_type": "code",
   "execution_count": null,
   "metadata": {},
   "outputs": [],
   "source": [
    "variable = 'v'\n",
    "ds.isel(ocean_time=-1, s_rho=24)[variable].plot()"
   ]
  },
  {
   "cell_type": "code",
   "execution_count": null,
   "metadata": {},
   "outputs": [],
   "source": [
    "result = (ds[variable] * ds.mask_v.where(ds.mask_v == 1, np.nan))\n",
    "ds[variable] = result\n",
    "ds.isel(ocean_time=-1, s_rho=24)[variable].plot()"
   ]
  },
  {
   "attachments": {},
   "cell_type": "markdown",
   "metadata": {},
   "source": [
    "#### Save"
   ]
  },
  {
   "cell_type": "code",
   "execution_count": null,
   "metadata": {},
   "outputs": [],
   "source": [
    "new_ds"
   ]
  },
  {
   "cell_type": "code",
   "execution_count": null,
   "metadata": {},
   "outputs": [],
   "source": [
    "new_ds.to_netcdf(roho_folder + new_file)"
   ]
  },
  {
   "cell_type": "code",
   "execution_count": null,
   "metadata": {},
   "outputs": [],
   "source": []
  }
 ],
 "metadata": {
  "kernelspec": {
   "display_name": "ocean",
   "language": "python",
   "name": "python3"
  },
  "language_info": {
   "codemirror_mode": {
    "name": "ipython",
    "version": 3
   },
   "file_extension": ".py",
   "mimetype": "text/x-python",
   "name": "python",
   "nbconvert_exporter": "python",
   "pygments_lexer": "ipython3",
   "version": "3.10.9 (main, Jan 11 2023, 15:21:40) [GCC 11.2.0]"
  },
  "orig_nbformat": 4,
  "vscode": {
   "interpreter": {
    "hash": "09182ebedb5b43d08a38b94883568d2720fd3c57eb8ca0153aac7cd0bb18f44f"
   }
  }
 },
 "nbformat": 4,
 "nbformat_minor": 2
}
