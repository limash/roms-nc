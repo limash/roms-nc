{
 "cells": [
  {
   "cell_type": "code",
   "execution_count": null,
   "metadata": {},
   "outputs": [],
   "source": [
    "import xarray as xr\n",
    "import cartopy.crs as ccrs\n",
    "import cartopy.feature as cfeature\n",
    "import matplotlib.pyplot as plt"
   ]
  },
  {
   "cell_type": "code",
   "execution_count": null,
   "metadata": {},
   "outputs": [],
   "source": [
    "# load in the file\n",
    "# This is a way to turn on chunking and lazy evaluation. Opening with mfdataset, or\n",
    "# setting the chunking in the open_dataset would also achieve this.\n",
    "ds = xr.tutorial.open_dataset(\"ROMS_example.nc\", chunks={\"ocean_time\": 1})"
   ]
  },
  {
   "cell_type": "code",
   "execution_count": null,
   "metadata": {},
   "outputs": [],
   "source": [
    "ds"
   ]
  },
  {
   "cell_type": "markdown",
   "metadata": {},
   "source": [
    "Some entities:\n",
    "- C(x, y, z, t) - a traces - scalar quantity, i.e. temperature, salinity, nutrient concentration.\n",
    "- h(x, y) - depth of sea floor below mean sea level.\n",
    "- f(x, y) - Coriolis parameter.\n",
    "- u, v, w - components of vector velocity\n",
    "- $\\rho$(x, y, z, t) - density.\n",
    "- $\\zeta$(x, y, t) (zeta) - surface elevation.\n",
    "- s_rho - $\\sigma$(x, y, z) (sigma) is a terrain-following depth (derived from z) coordinate.\n",
    "It is a stretched vertical coordinate system which essentially “flattens out” the variable bottom at z = −h(x, y).\n",
    "Vtransform defines a stretched vertical coordinate system.\n",
    "- $\\Omega$ - the vertical velocity in $\\sigma$ coordinates.\n",
    "- xi_rho - $\\xi$(x, y) and eta_rho - $\\eta$(x, y) are horizontal curvilinear coordinates."
   ]
  },
  {
   "cell_type": "markdown",
   "metadata": {},
   "source": [
    "![arakawa_c_grid](pictures/Arakawa_C_grid.png)\n",
    "\n",
    "In the horizontal ($\\xi$, $\\eta$), a traditional, centered, second-order finite-difference approximation is\n",
    "adopted."
   ]
  },
  {
   "cell_type": "markdown",
   "metadata": {},
   "source": [
    "![vertical_grid](pictures/Placement_of_variables_on_staggered_vertical_grid.png)\n",
    "\n",
    "The vertical discretization also uses a second-order finite-difference approximation."
   ]
  },
  {
   "cell_type": "markdown",
   "metadata": {},
   "source": [
    "![masked_grid](pictures/Masked_region_within_the_domain.png)\n",
    "\n",
    "$\\psi$ (psi) points are the masked points?"
   ]
  },
  {
   "cell_type": "code",
   "execution_count": null,
   "metadata": {},
   "outputs": [],
   "source": [
    "if ds.Vtransform == 1:\n",
    "    Zo_rho = ds.hc * (ds.s_rho - ds.Cs_r) + ds.Cs_r * ds.h\n",
    "    z_rho = Zo_rho + ds.zeta * (1 + Zo_rho / ds.h)\n",
    "elif ds.Vtransform == 2:\n",
    "    Zo_rho = (ds.hc * ds.s_rho + ds.Cs_r * ds.h) / (ds.hc + ds.h)\n",
    "    z_rho = ds.zeta + (ds.zeta + ds.h) * Zo_rho\n",
    "\n",
    "ds.coords[\"z_rho\"] = z_rho.transpose()  # type: ignore\n",
    "ds.salt"
   ]
  },
  {
   "cell_type": "code",
   "execution_count": null,
   "metadata": {},
   "outputs": [],
   "source": [
    "ds.salt.isel(xi_rho=50, ocean_time=0).plot()"
   ]
  },
  {
   "cell_type": "code",
   "execution_count": null,
   "metadata": {},
   "outputs": [],
   "source": [
    "section = ds.salt.isel(xi_rho=50, eta_rho=slice(0, 167), ocean_time=0)\n",
    "section.plot(x=\"lon_rho\", y=\"z_rho\", figsize=(15, 6), clim=(25, 35))\n",
    "plt.ylim([-100, 1]);"
   ]
  },
  {
   "cell_type": "code",
   "execution_count": null,
   "metadata": {},
   "outputs": [],
   "source": [
    "ds.salt.isel(s_rho=-1, ocean_time=0).plot(x=\"lon_rho\", y=\"lat_rho\")"
   ]
  },
  {
   "cell_type": "code",
   "execution_count": null,
   "metadata": {},
   "outputs": [],
   "source": [
    "proj = ccrs.LambertConformal(central_longitude=-92, central_latitude=29)\n",
    "fig = plt.figure(figsize=(15, 5))\n",
    "ax = plt.axes(projection=proj)\n",
    "ds.salt.isel(s_rho=-1, ocean_time=0).plot(\n",
    "    x=\"lon_rho\", y=\"lat_rho\", transform=ccrs.PlateCarree()\n",
    ")\n",
    "\n",
    "coast_10m = cfeature.NaturalEarthFeature(\n",
    "    \"physical\", \"land\", \"10m\", edgecolor=\"k\", facecolor=\"0.8\"\n",
    ")\n",
    "ax.add_feature(coast_10m)  # type: ignore"
   ]
  },
  {
   "cell_type": "code",
   "execution_count": null,
   "metadata": {},
   "outputs": [],
   "source": []
  }
 ],
 "metadata": {
  "kernelspec": {
   "display_name": "Python 3.10.6 ('roms')",
   "language": "python",
   "name": "python3"
  },
  "language_info": {
   "codemirror_mode": {
    "name": "ipython",
    "version": 3
   },
   "file_extension": ".py",
   "mimetype": "text/x-python",
   "name": "python",
   "nbconvert_exporter": "python",
   "pygments_lexer": "ipython3",
   "version": "3.10.6"
  },
  "orig_nbformat": 4,
  "vscode": {
   "interpreter": {
    "hash": "28ab78b258d2399661cf741fa50026022a6ba8d6b3d5d80e7f106a09ae5157b4"
   }
  }
 },
 "nbformat": 4,
 "nbformat_minor": 2
}
