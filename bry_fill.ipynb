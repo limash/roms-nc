{
 "cells": [
  {
   "cell_type": "code",
   "execution_count": null,
   "id": "8228230a-c7d1-476b-8752-55c2a83b2fc3",
   "metadata": {},
   "outputs": [],
   "source": [
    "import xarray as xr"
   ]
  },
  {
   "cell_type": "code",
   "execution_count": null,
   "id": "eedc829a-493c-4d09-a9c3-943461453fee",
   "metadata": {},
   "outputs": [],
   "source": [
    "bry_dest = 'fram_data/roho160_bry_GLORYS_20170115_to_20191130.nc'\n",
    "bry_ds = xr.open_dataset(bry_dest)"
   ]
  },
  {
   "cell_type": "code",
   "execution_count": null,
   "id": "8ee31608",
   "metadata": {},
   "outputs": [],
   "source": [
    "bry_ds"
   ]
  },
  {
   "cell_type": "code",
   "execution_count": null,
   "id": "54550793",
   "metadata": {},
   "outputs": [],
   "source": [
    "bry_ds['temp_south'].isel(ocean_time=0).plot()"
   ]
  },
  {
   "cell_type": "markdown",
   "id": "b8087dd8",
   "metadata": {},
   "source": [
    "### Helper functions"
   ]
  },
  {
   "cell_type": "code",
   "execution_count": null,
   "id": "9cdf7590",
   "metadata": {},
   "outputs": [],
   "source": [
    "par_tuple = ('temp_north', 'salt_north', 'temp_south', 'salt_south')"
   ]
  },
  {
   "cell_type": "code",
   "execution_count": null,
   "id": "fadd52bc",
   "metadata": {},
   "outputs": [],
   "source": [
    "def extrapolate_fill(parameter_tuple):\n",
    "    \"\"\"\n",
    "    parameter_tuple: temp_tuple | salt_tuple\n",
    "    \"\"\"\n",
    "    for name in parameter_tuple:\n",
    "        bry_ds[name] = bry_ds[name].interpolate_na(dim=\"xi_rho\", method=\"linear\", fill_value=\"extrapolate\")\n",
    "    print(\"Extrapolate NaNs\")\n"
   ]
  },
  {
   "cell_type": "markdown",
   "id": "277917e9",
   "metadata": {},
   "source": [
    "### Filling boundaries"
   ]
  },
  {
   "cell_type": "code",
   "execution_count": null,
   "id": "b0020f00",
   "metadata": {},
   "outputs": [],
   "source": [
    "extrapolate_fill(par_tuple)"
   ]
  },
  {
   "cell_type": "code",
   "execution_count": null,
   "id": "296c1f5c",
   "metadata": {},
   "outputs": [],
   "source": [
    "bry_ds['temp_south'].isel(ocean_time=0).plot()"
   ]
  },
  {
   "cell_type": "markdown",
   "id": "9312e619",
   "metadata": {},
   "source": [
    "### Save the processed data"
   ]
  },
  {
   "cell_type": "code",
   "execution_count": null,
   "id": "8e5d9a68",
   "metadata": {},
   "outputs": [],
   "source": [
    "bry_ds.to_netcdf(\"fram_data/roho160_bry.nc\")"
   ]
  },
  {
   "cell_type": "code",
   "execution_count": null,
   "id": "4fe7bf79",
   "metadata": {},
   "outputs": [],
   "source": []
  }
 ],
 "metadata": {
  "kernelspec": {
   "display_name": "Python 3.10.6 ('roms')",
   "language": "python",
   "name": "python3"
  },
  "language_info": {
   "codemirror_mode": {
    "name": "ipython",
    "version": 3
   },
   "file_extension": ".py",
   "mimetype": "text/x-python",
   "name": "python",
   "nbconvert_exporter": "python",
   "pygments_lexer": "ipython3",
   "version": "3.10.6"
  },
  "vscode": {
   "interpreter": {
    "hash": "28ab78b258d2399661cf741fa50026022a6ba8d6b3d5d80e7f106a09ae5157b4"
   }
  }
 },
 "nbformat": 4,
 "nbformat_minor": 5
}
