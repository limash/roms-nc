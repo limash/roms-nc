{
 "cells": [
  {
   "cell_type": "code",
   "execution_count": null,
   "metadata": {},
   "outputs": [],
   "source": [
    "import xarray as xr\n",
    "\n",
    "from src.tools import RiversHandler, GridHandler, OutputHandler"
   ]
  },
  {
   "cell_type": "code",
   "execution_count": null,
   "metadata": {},
   "outputs": [],
   "source": [
    "grid_ds = xr.open_dataset('fram_data/norfjords_160m_grid_version3.nc')\n",
    "river_ds = xr.open_dataset('fram_data/norfjords_160m_river_stage2.nc')"
   ]
  },
  {
   "cell_type": "code",
   "execution_count": null,
   "metadata": {},
   "outputs": [],
   "source": [
    "rivhand = RiversHandler(grid_ds)\n",
    "rivers = RiversHandler.check_rivers_entire_runoff(river_ds, runoff=40)"
   ]
  },
  {
   "cell_type": "code",
   "execution_count": null,
   "metadata": {},
   "outputs": [],
   "source": [
    "rivers  # type: ignore"
   ]
  },
  {
   "cell_type": "markdown",
   "metadata": {},
   "source": [
    "River 1"
   ]
  },
  {
   "cell_type": "code",
   "execution_count": null,
   "metadata": {},
   "outputs": [],
   "source": [
    "r_list_number = 1\n",
    "riv_number, xi, eta, _, _ = rivers[r_list_number-1]\n",
    "print(f\"River number: {riv_number}\")\n",
    "print(\"Other rivers nearby:\")\n",
    "RiversHandler.check_coords(river_ds, xi, eta)\n",
    "rivhand.plot_rivers_luv(rivers[r_list_number-1:r_list_number])"
   ]
  },
  {
   "cell_type": "code",
   "execution_count": null,
   "metadata": {},
   "outputs": [],
   "source": [
    "rivhand.plot_rivers_luv([[-1, 1282, 446, 1, -1]])"
   ]
  },
  {
   "cell_type": "code",
   "execution_count": null,
   "metadata": {},
   "outputs": [],
   "source": [
    "river_ds = rivhand.split_report(river_ds, riv_number, \n",
    "                                s_xi=1282, s_eta=446)"
   ]
  },
  {
   "cell_type": "markdown",
   "metadata": {},
   "source": [
    "River 2"
   ]
  },
  {
   "cell_type": "code",
   "execution_count": null,
   "metadata": {},
   "outputs": [],
   "source": [
    "r_list_number = 2\n",
    "riv_number, xi, eta, _, _ = rivers[r_list_number-1]\n",
    "print(f\"River number: {riv_number}\")\n",
    "print(\"Other rivers nearby:\")\n",
    "RiversHandler.check_coords(river_ds, xi, eta)\n",
    "rivhand.plot_rivers_luv(rivers[r_list_number-1:r_list_number])"
   ]
  },
  {
   "cell_type": "code",
   "execution_count": null,
   "metadata": {},
   "outputs": [],
   "source": [
    "rivhand.plot_rivers_luv([[-1, 1323, 518, 1, -1]])"
   ]
  },
  {
   "cell_type": "code",
   "execution_count": null,
   "metadata": {},
   "outputs": [],
   "source": [
    "river_ds = rivhand.split_report(river_ds, riv_number, \n",
    "                                s_xi=1323, s_eta=518)"
   ]
  },
  {
   "cell_type": "markdown",
   "metadata": {},
   "source": [
    "River 3"
   ]
  },
  {
   "cell_type": "code",
   "execution_count": null,
   "metadata": {},
   "outputs": [],
   "source": [
    "r_list_number = 3\n",
    "riv_number, xi, eta, _, _ = rivers[r_list_number-1]\n",
    "print(f\"River number: {riv_number}\")\n",
    "print(\"Other rivers nearby:\")\n",
    "RiversHandler.check_coords(river_ds, xi, eta)\n",
    "rivhand.plot_rivers_luv(rivers[r_list_number-1:r_list_number])"
   ]
  },
  {
   "cell_type": "code",
   "execution_count": null,
   "metadata": {},
   "outputs": [],
   "source": [
    "rivhand.plot_rivers_luv([[-1, 1287, 443, 1, -1]])"
   ]
  },
  {
   "cell_type": "code",
   "execution_count": null,
   "metadata": {},
   "outputs": [],
   "source": [
    "river_ds = rivhand.split_report(river_ds, riv_number, \n",
    "                                s_xi=1287, s_eta=443)"
   ]
  },
  {
   "cell_type": "markdown",
   "metadata": {},
   "source": [
    "River 4"
   ]
  },
  {
   "cell_type": "code",
   "execution_count": null,
   "metadata": {},
   "outputs": [],
   "source": [
    "r_list_number = 4\n",
    "riv_number, xi, eta, _, _ = rivers[r_list_number-1]\n",
    "print(f\"River number: {riv_number}\")\n",
    "print(\"Other rivers nearby:\")\n",
    "RiversHandler.check_coords(river_ds, xi, eta)\n",
    "rivhand.plot_rivers_luv(rivers[r_list_number-1:r_list_number])"
   ]
  },
  {
   "cell_type": "code",
   "execution_count": null,
   "metadata": {},
   "outputs": [],
   "source": [
    "rivhand.plot_rivers_luv([[-1, 1320, 518, 1, -1]])"
   ]
  },
  {
   "cell_type": "code",
   "execution_count": null,
   "metadata": {},
   "outputs": [],
   "source": [
    "river_ds = rivhand.split_report(river_ds, riv_number, \n",
    "                                s_xi=1320, s_eta=518)"
   ]
  },
  {
   "cell_type": "markdown",
   "metadata": {},
   "source": [
    "River 5"
   ]
  },
  {
   "cell_type": "code",
   "execution_count": null,
   "metadata": {},
   "outputs": [],
   "source": [
    "r_list_number = 5\n",
    "riv_number, xi, eta, _, _ = rivers[r_list_number-1]\n",
    "print(f\"River number: {riv_number}\")\n",
    "print(\"Other rivers nearby:\")\n",
    "RiversHandler.check_coords(river_ds, xi, eta)\n",
    "rivhand.plot_rivers_luv(rivers[r_list_number-1:r_list_number])"
   ]
  },
  {
   "cell_type": "code",
   "execution_count": null,
   "metadata": {},
   "outputs": [],
   "source": [
    "rivhand.plot_rivers_luv([[-1, 1281, 447, 1, -1]])"
   ]
  },
  {
   "cell_type": "code",
   "execution_count": null,
   "metadata": {},
   "outputs": [],
   "source": [
    "river_ds = rivhand.split_report(river_ds, riv_number, \n",
    "                                s_xi=1281, s_eta=447)"
   ]
  },
  {
   "cell_type": "markdown",
   "metadata": {},
   "source": [
    "River 6"
   ]
  },
  {
   "cell_type": "code",
   "execution_count": null,
   "metadata": {},
   "outputs": [],
   "source": [
    "r_list_number = 6\n",
    "riv_number, xi, eta, _, _ = rivers[r_list_number-1]\n",
    "print(f\"River number: {riv_number}\")\n",
    "print(\"Other rivers nearby:\")\n",
    "RiversHandler.check_coords(river_ds, xi, eta)\n",
    "rivhand.plot_rivers_luv(rivers[r_list_number-1:r_list_number])"
   ]
  },
  {
   "cell_type": "code",
   "execution_count": null,
   "metadata": {},
   "outputs": [],
   "source": [
    "rivhand.plot_rivers_luv([[-1, 1288, 442, 1, -1]])"
   ]
  },
  {
   "cell_type": "code",
   "execution_count": null,
   "metadata": {},
   "outputs": [],
   "source": [
    "river_ds = rivhand.split_report(river_ds, riv_number, \n",
    "                                s_xi=1288, s_eta=442)"
   ]
  },
  {
   "cell_type": "markdown",
   "metadata": {},
   "source": [
    "Saving"
   ]
  },
  {
   "cell_type": "code",
   "execution_count": null,
   "metadata": {},
   "outputs": [],
   "source": [
    "RiversHandler.to_netcdf(river_ds, \"stage3\")"
   ]
  },
  {
   "cell_type": "code",
   "execution_count": null,
   "metadata": {},
   "outputs": [],
   "source": []
  }
 ],
 "metadata": {
  "kernelspec": {
   "display_name": "Python 3.10.6 ('roms')",
   "language": "python",
   "name": "python3"
  },
  "language_info": {
   "codemirror_mode": {
    "name": "ipython",
    "version": 3
   },
   "file_extension": ".py",
   "mimetype": "text/x-python",
   "name": "python",
   "nbconvert_exporter": "python",
   "pygments_lexer": "ipython3",
   "version": "3.10.6"
  },
  "orig_nbformat": 4,
  "vscode": {
   "interpreter": {
    "hash": "28ab78b258d2399661cf741fa50026022a6ba8d6b3d5d80e7f106a09ae5157b4"
   }
  }
 },
 "nbformat": 4,
 "nbformat_minor": 2
}
