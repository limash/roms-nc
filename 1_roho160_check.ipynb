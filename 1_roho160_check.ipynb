{
 "cells": [
  {
   "cell_type": "code",
   "execution_count": null,
   "metadata": {},
   "outputs": [],
   "source": [
    "import numpy as np\n",
    "import scipy as sp\n",
    "import xarray as xr\n",
    "\n",
    "from src.tools import gen_rivers_map"
   ]
  },
  {
   "cell_type": "code",
   "execution_count": null,
   "metadata": {},
   "outputs": [],
   "source": [
    "def check_zeta(ds):\n",
    "    \"\"\"\n",
    "    da_stacked containes values of zeta < -1 and their coordinates\n",
    "    \"\"\"\n",
    "    da = ds.zeta.isel(ocean_time=-1)\n",
    "    da_stacked = da.where(da<-1).stack(x=['eta_rho','xi_rho'])\n",
    "    da_stacked = da_stacked[da_stacked.notnull()]\n",
    "    return da_stacked"
   ]
  },
  {
   "cell_type": "code",
   "execution_count": null,
   "metadata": {},
   "outputs": [],
   "source": [
    "def check_temp(ds):\n",
    "    \"\"\"\n",
    "    Finds lacations (eta, xi, s) of the points with high temperature\n",
    "    \"\"\"\n",
    "    temp_da = ds.temp.isel(ocean_time=-1)\n",
    "    temp_da_stacked = temp_da.where(temp_da>12).stack(x=['eta_rho', 'xi_rho', 's_rho'])\n",
    "    temp_da_stacked = temp_da_stacked[temp_da_stacked.notnull()]\n",
    "    return temp_da_stacked"
   ]
  },
  {
   "cell_type": "code",
   "execution_count": null,
   "metadata": {},
   "outputs": [],
   "source": [
    "def plot_bad_temp(ds, temp_da_point):\n",
    "    bad_temp_point = temp_da_point\n",
    "    eta, xi, s = bad_temp_point.eta_rho.values, bad_temp_point.xi_rho.values, bad_temp_point.s_rho.values\n",
    "    print(f\"Xi: {xi}; Eta: {eta}\")\n",
    "    ds.temp.isel(ocean_time=-1, eta_rho=slice(eta-5,eta+5), xi_rho=slice(xi-5,xi+5)).sel(s_rho=s).plot(figsize=(10, 5))"
   ]
  },
  {
   "cell_type": "code",
   "execution_count": null,
   "metadata": {},
   "outputs": [],
   "source": [
    "def filter(ds, sigma=1):\n",
    "    \"\"\"\n",
    "    Applies gaussian filter to ds.h.values\n",
    "    \"\"\"\n",
    "    new_values = sp.ndimage.gaussian_filter(ds.h.values, sigma, mode='nearest')\n",
    "    ds.h.values = new_values\n",
    "    return ds"
   ]
  },
  {
   "cell_type": "code",
   "execution_count": null,
   "metadata": {},
   "outputs": [],
   "source": [
    "grid_ds = xr.open_dataset('fram_data/norfjords_160m_grid_version3.nc')\n",
    "riv_ds = xr.open_dataset('fram_data/norfjords_160m_river_v3.nc')\n",
    "his_ds = xr.open_dataset('fram_data/roho160_his.nc')\n",
    "rst_ds = xr.open_dataset('fram_data/roho160_rst.nc')"
   ]
  },
  {
   "cell_type": "code",
   "execution_count": null,
   "metadata": {},
   "outputs": [],
   "source": [
    "def save_to_netcdf(ds, name):\n",
    "    ds.to_netcdf(path=f'fram_data/norfjords_160m_{name}.nc', format='NETCDF4')"
   ]
  },
  {
   "cell_type": "code",
   "execution_count": null,
   "metadata": {},
   "outputs": [],
   "source": [
    "rivers_map = gen_rivers_map(riv_ds, grid_ds)\n",
    "rivers = np.where(np.isnan(rivers_map))\n",
    "rivers = [river for river in zip(rivers[0], rivers[1])]"
   ]
  },
  {
   "cell_type": "code",
   "execution_count": null,
   "metadata": {},
   "outputs": [],
   "source": [
    "river = rivers[4]\n",
    "ds = rst_ds\n",
    "# xi, eta, s, delta = river[0], river[1], -1, 10\n",
    "# xi, eta, s, delta = 783, 366, 14, 10\n",
    "xi, eta, s, delta = 1093, 422, 39, 10"
   ]
  },
  {
   "cell_type": "code",
   "execution_count": null,
   "metadata": {},
   "outputs": [],
   "source": [
    "# river\n",
    "(grid_ds.mask_rho.isel(xi_rho=slice(xi-delta, xi+delta), eta_rho=slice(eta-delta, eta+delta)) * \n",
    " rivers_map[xi-delta:xi+delta, eta-delta:eta+delta]).plot()  # .pcolormesh(x=\"lon_rho\", y=\"lat_rho\", cmap='PuBuGn')"
   ]
  },
  {
   "cell_type": "code",
   "execution_count": null,
   "metadata": {},
   "outputs": [],
   "source": [
    "# u_bar\n",
    "ds.ubar.isel(xi_u=slice(xi-delta, xi+delta), \n",
    "          eta_u=slice(eta-delta, eta+delta), ocean_time=0).plot()"
   ]
  },
  {
   "cell_type": "code",
   "execution_count": null,
   "metadata": {},
   "outputs": [],
   "source": [
    "# v_bar\n",
    "ds.vbar.isel(xi_v=slice(xi-delta, xi+delta), \n",
    "          eta_v=slice(eta-delta, eta+delta), ocean_time=0).plot()"
   ]
  },
  {
   "cell_type": "code",
   "execution_count": null,
   "metadata": {},
   "outputs": [],
   "source": [
    "# u\n",
    "ds.u.isel(xi_u=slice(xi-delta, xi+delta), \n",
    "          eta_u=slice(eta-delta, eta+delta), ocean_time=0, s_rho=s).plot()"
   ]
  },
  {
   "cell_type": "code",
   "execution_count": null,
   "metadata": {},
   "outputs": [],
   "source": [
    "# v\n",
    "ds.v.isel(xi_v=slice(xi-delta, xi+delta), \n",
    "          eta_v=slice(eta-delta, eta+delta), ocean_time=0, s_rho=s).plot()"
   ]
  },
  {
   "cell_type": "code",
   "execution_count": null,
   "metadata": {},
   "outputs": [],
   "source": [
    "# zeta\n",
    "(grid_ds.mask_rho.isel(xi_rho=slice(xi-delta, xi+delta), eta_rho=slice(eta-delta, eta+delta)) * \n",
    " ds.zeta.isel(ocean_time=-1, xi_rho=slice(xi-delta, xi+delta), eta_rho=slice(eta-delta, eta+delta))).plot()"
   ]
  },
  {
   "cell_type": "code",
   "execution_count": null,
   "metadata": {},
   "outputs": [],
   "source": [
    "# h (depth)\n",
    "(grid_ds.mask_rho.isel(xi_rho=slice(xi-delta, xi+delta), eta_rho=slice(eta-delta, eta+delta)) * \n",
    " grid_ds.h.isel(xi_rho=slice(xi-delta, xi+delta), eta_rho=slice(eta-delta, eta+delta))).plot()"
   ]
  },
  {
   "cell_type": "code",
   "execution_count": null,
   "metadata": {},
   "outputs": [],
   "source": []
  }
 ],
 "metadata": {
  "kernelspec": {
   "display_name": "Python 3.10.6 ('roms')",
   "language": "python",
   "name": "python3"
  },
  "language_info": {
   "codemirror_mode": {
    "name": "ipython",
    "version": 3
   },
   "file_extension": ".py",
   "mimetype": "text/x-python",
   "name": "python",
   "nbconvert_exporter": "python",
   "pygments_lexer": "ipython3",
   "version": "3.10.6"
  },
  "orig_nbformat": 4,
  "vscode": {
   "interpreter": {
    "hash": "28ab78b258d2399661cf741fa50026022a6ba8d6b3d5d80e7f106a09ae5157b4"
   }
  }
 },
 "nbformat": 4,
 "nbformat_minor": 2
}
