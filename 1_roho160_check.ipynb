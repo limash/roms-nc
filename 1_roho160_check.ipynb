{
 "cells": [
  {
   "cell_type": "code",
   "execution_count": null,
   "metadata": {},
   "outputs": [],
   "source": [
    "import xarray as xr"
   ]
  },
  {
   "cell_type": "code",
   "execution_count": null,
   "metadata": {},
   "outputs": [],
   "source": [
    "def check_zeta(ds):\n",
    "    # da_stacked containes values of zeta < -1 and their coordinates\n",
    "    da = ds.zeta.isel(ocean_time=1)\n",
    "    da_stacked = da.where(da<-1).stack(x=['eta_rho','xi_rho'])\n",
    "    da_stacked = da_stacked[da_stacked.notnull()]"
   ]
  },
  {
   "cell_type": "code",
   "execution_count": null,
   "metadata": {},
   "outputs": [],
   "source": [
    "# lvl = -1\n",
    "# zeta_slice = ds.zeta.isel(ocean_time=-1, xi_rho=slice(1000, 1050), eta_rho=slice(50, 100))\n",
    "# u_slice = ds.u.isel(ocean_time=-1, s_rho=lvl, xi_u=slice(1000, 1050), eta_u=slice(50, 100))\n",
    "# v_slice = ds.v.isel(ocean_time=-1, s_rho=lvl, xi_v=slice(1000, 1050), eta_v=slice(50, 100))\n",
    "# mask_rho_slice = grid_ds.mask_rho.isel(xi_rho=slice(1000, 1050), eta_rho=slice(50, 100))\n",
    "# mask_u_slice = grid_ds.mask_u.isel(xi_u=slice(1000, 1050), eta_u=slice(50, 100))\n",
    "# mask_v_slice = grid_ds.mask_v.isel(xi_v=slice(1000, 1050), eta_v=slice(50, 100))"
   ]
  },
  {
   "cell_type": "code",
   "execution_count": null,
   "metadata": {},
   "outputs": [],
   "source": [
    "ds = xr.open_dataset('fram_data/roho160_rst.nc')\n",
    "# grid_ds = xr.open_dataset('fram_data/norfjords_160m_grid_fix.nc')\n",
    "# mask_rho = grid_ds.mask_rho\n",
    "# rivers_ds = xr.open_dataset('fram_data/norfjords_160m_river_new.nc')"
   ]
  },
  {
   "cell_type": "code",
   "execution_count": null,
   "metadata": {},
   "outputs": [],
   "source": [
    "ds"
   ]
  },
  {
   "cell_type": "code",
   "execution_count": null,
   "metadata": {},
   "outputs": [],
   "source": [
    "temp_da = ds.temp.isel(ocean_time=-1, s_rho=0)\n",
    "temp_da_stacked = temp_da.where(temp_da>12).stack(x=['eta_rho', 'xi_rho'])\n",
    "temp_da_stacked = temp_da_stacked[temp_da_stacked.notnull()]\n",
    "temp_da_stacked"
   ]
  },
  {
   "cell_type": "code",
   "execution_count": null,
   "metadata": {},
   "outputs": [],
   "source": [
    "temp_da.isel(eta_rho=slice(800,820), xi_rho=slice(1233,1253)).plot(figsize=(20, 10))"
   ]
  },
  {
   "cell_type": "code",
   "execution_count": null,
   "metadata": {},
   "outputs": [],
   "source": [
    "ds.rho.isel(ocean_time=-1, s_rho=0, eta_rho=slice(800,820), xi_rho=slice(1233,1253)).plot(figsize=(20, 10))"
   ]
  },
  {
   "cell_type": "code",
   "execution_count": null,
   "metadata": {},
   "outputs": [],
   "source": []
  }
 ],
 "metadata": {
  "kernelspec": {
   "display_name": "Python 3.10.6 ('roms')",
   "language": "python",
   "name": "python3"
  },
  "language_info": {
   "codemirror_mode": {
    "name": "ipython",
    "version": 3
   },
   "file_extension": ".py",
   "mimetype": "text/x-python",
   "name": "python",
   "nbconvert_exporter": "python",
   "pygments_lexer": "ipython3",
   "version": "3.10.6"
  },
  "orig_nbformat": 4,
  "vscode": {
   "interpreter": {
    "hash": "28ab78b258d2399661cf741fa50026022a6ba8d6b3d5d80e7f106a09ae5157b4"
   }
  }
 },
 "nbformat": 4,
 "nbformat_minor": 2
}
