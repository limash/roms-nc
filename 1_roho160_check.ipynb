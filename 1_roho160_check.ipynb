{
 "cells": [
  {
   "cell_type": "code",
   "execution_count": null,
   "metadata": {},
   "outputs": [],
   "source": [
    "import scipy as sp\n",
    "import xarray as xr"
   ]
  },
  {
   "cell_type": "code",
   "execution_count": null,
   "metadata": {},
   "outputs": [],
   "source": [
    "def check_zeta(ds):\n",
    "    \"\"\"\n",
    "    da_stacked containes values of zeta < -1 and their coordinates\n",
    "    \"\"\"\n",
    "    da = ds.zeta.isel(ocean_time=-1)\n",
    "    da_stacked = da.where(da<-1).stack(x=['eta_rho','xi_rho'])\n",
    "    da_stacked = da_stacked[da_stacked.notnull()]\n",
    "    return da_stacked"
   ]
  },
  {
   "cell_type": "code",
   "execution_count": null,
   "metadata": {},
   "outputs": [],
   "source": [
    "def check_temp(ds):\n",
    "    \"\"\"\n",
    "    Finds lacations (eta, xi, s) of the points with high temperature\n",
    "    \"\"\"\n",
    "    temp_da = ds.temp.isel(ocean_time=-1)\n",
    "    temp_da_stacked = temp_da.where(temp_da>12).stack(x=['eta_rho', 'xi_rho', 's_rho'])\n",
    "    temp_da_stacked = temp_da_stacked[temp_da_stacked.notnull()]\n",
    "    return temp_da_stacked"
   ]
  },
  {
   "cell_type": "code",
   "execution_count": null,
   "metadata": {},
   "outputs": [],
   "source": [
    "def check_v(ds):\n",
    "    \"\"\"\n",
    "    Finds lacations (eta, xi, s) of the points with high temperature\n",
    "    \"\"\"\n",
    "    da = ds.v.isel(ocean_time=-1)\n",
    "    da_stacked = da.where(da>4).stack(x=['eta_v', 'xi_v', 's_rho'])\n",
    "    da_stacked = da_stacked[da_stacked.notnull()]\n",
    "    return da_stacked"
   ]
  },
  {
   "cell_type": "code",
   "execution_count": null,
   "metadata": {},
   "outputs": [],
   "source": [
    "def plot_bad_temp(ds, temp_da_point):\n",
    "    bad_temp_point = temp_da_point\n",
    "    eta, xi, s = bad_temp_point.eta_rho.values, bad_temp_point.xi_rho.values, bad_temp_point.s_rho.values\n",
    "    print(f\"Xi: {xi}; Eta: {eta}\")\n",
    "    ds.temp.isel(ocean_time=-1, eta_rho=slice(eta-5,eta+5), xi_rho=slice(xi-5,xi+5)).sel(s_rho=s).plot(figsize=(10, 5))"
   ]
  },
  {
   "cell_type": "code",
   "execution_count": null,
   "metadata": {},
   "outputs": [],
   "source": [
    "def filter(ds, sigma=1):\n",
    "    \"\"\"\n",
    "    Applies gaussian filter to ds.h.values\n",
    "    \"\"\"\n",
    "    new_values = sp.ndimage.gaussian_filter(ds.h.values, sigma, mode='nearest')\n",
    "    ds.h.values = new_values\n",
    "    return ds"
   ]
  },
  {
   "cell_type": "code",
   "execution_count": null,
   "metadata": {},
   "outputs": [],
   "source": [
    "grid_ds = xr.open_dataset('fram_data/norfjords_160m_grid_v3+.nc')\n",
    "riv_ds = xr.open_dataset('fram_data/norfjords_160m_river_v3+.nc')\n",
    "his_ds = xr.open_dataset('fram_data/roho160_his.nc')\n",
    "rst_ds = xr.open_dataset('fram_data/roho160_rst.nc')"
   ]
  },
  {
   "cell_type": "code",
   "execution_count": null,
   "metadata": {},
   "outputs": [],
   "source": [
    "rst_ds.u.isel(ocean_time=-1, s_rho=-1).plot()"
   ]
  },
  {
   "cell_type": "code",
   "execution_count": null,
   "metadata": {},
   "outputs": [],
   "source": [
    "rst_ds.v.isel(ocean_time=-1, s_rho=-1).plot()"
   ]
  },
  {
   "cell_type": "code",
   "execution_count": null,
   "metadata": {},
   "outputs": [],
   "source": [
    "# zeta\n",
    "(grid_ds.mask_rho * rst_ds.zeta.isel(ocean_time=-1)).plot()"
   ]
  },
  {
   "cell_type": "code",
   "execution_count": null,
   "metadata": {},
   "outputs": [],
   "source": []
  }
 ],
 "metadata": {
  "kernelspec": {
   "display_name": "Python 3.10.6 ('roms')",
   "language": "python",
   "name": "python3"
  },
  "language_info": {
   "codemirror_mode": {
    "name": "ipython",
    "version": 3
   },
   "file_extension": ".py",
   "mimetype": "text/x-python",
   "name": "python",
   "nbconvert_exporter": "python",
   "pygments_lexer": "ipython3",
   "version": "3.10.6"
  },
  "orig_nbformat": 4,
  "vscode": {
   "interpreter": {
    "hash": "28ab78b258d2399661cf741fa50026022a6ba8d6b3d5d80e7f106a09ae5157b4"
   }
  }
 },
 "nbformat": 4,
 "nbformat_minor": 2
}
