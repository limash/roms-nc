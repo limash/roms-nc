{
 "cells": [
  {
   "cell_type": "code",
   "execution_count": null,
   "metadata": {},
   "outputs": [],
   "source": [
    "import xarray as xr"
   ]
  },
  {
   "cell_type": "code",
   "execution_count": null,
   "metadata": {},
   "outputs": [],
   "source": [
    "def check_zeta(ds):\n",
    "    \"\"\"\n",
    "    da_stacked containes values of zeta < -1 and their coordinates\n",
    "    \"\"\"\n",
    "    da = ds.zeta.isel(ocean_time=1)\n",
    "    da_stacked = da.where(da<-1).stack(x=['eta_rho','xi_rho'])\n",
    "    da_stacked = da_stacked[da_stacked.notnull()]\n",
    "    return da_stacked"
   ]
  },
  {
   "cell_type": "code",
   "execution_count": null,
   "metadata": {},
   "outputs": [],
   "source": [
    "def check_temp(ds):\n",
    "    \"\"\"\n",
    "    Finds lacations (eta, xi, s) of the points with high temperature\n",
    "    \"\"\"\n",
    "    temp_da = ds.temp.isel(ocean_time=-1)\n",
    "    temp_da_stacked = temp_da.where(temp_da>12).stack(x=['eta_rho', 'xi_rho', 's_rho'])\n",
    "    temp_da_stacked = temp_da_stacked[temp_da_stacked.notnull()]\n",
    "    return temp_da_stacked"
   ]
  },
  {
   "cell_type": "code",
   "execution_count": null,
   "metadata": {},
   "outputs": [],
   "source": [
    "ds = xr.open_dataset('fram_data/roho160_rst.nc')"
   ]
  },
  {
   "cell_type": "code",
   "execution_count": null,
   "metadata": {},
   "outputs": [],
   "source": [
    "da = check_temp(ds)\n",
    "len(da)"
   ]
  },
  {
   "cell_type": "code",
   "execution_count": null,
   "metadata": {},
   "outputs": [],
   "source": [
    "bad_point = da[0]\n",
    "eta, xi, s = bad_point.eta_rho.values, bad_point.xi_rho.values, bad_point.s_rho.values\n",
    "print(f\"Xi: {xi}; Eta: {eta}\")"
   ]
  },
  {
   "cell_type": "code",
   "execution_count": null,
   "metadata": {},
   "outputs": [],
   "source": [
    "ds.temp.isel(ocean_time=-1, eta_rho=slice(eta-5,eta+5), xi_rho=slice(xi-5,xi+5)).sel(s_rho=s).plot(figsize=(10, 5))"
   ]
  },
  {
   "cell_type": "code",
   "execution_count": null,
   "metadata": {},
   "outputs": [],
   "source": [
    "ds.h.isel(eta_rho=slice(eta-5,eta+5), xi_rho=slice(xi-5,xi+5)).plot(figsize=(10, 5))"
   ]
  },
  {
   "cell_type": "code",
   "execution_count": null,
   "metadata": {},
   "outputs": [],
   "source": []
  }
 ],
 "metadata": {
  "kernelspec": {
   "display_name": "Python 3.10.6 ('roms')",
   "language": "python",
   "name": "python3"
  },
  "language_info": {
   "codemirror_mode": {
    "name": "ipython",
    "version": 3
   },
   "file_extension": ".py",
   "mimetype": "text/x-python",
   "name": "python",
   "nbconvert_exporter": "python",
   "pygments_lexer": "ipython3",
   "version": "3.10.6"
  },
  "orig_nbformat": 4,
  "vscode": {
   "interpreter": {
    "hash": "28ab78b258d2399661cf741fa50026022a6ba8d6b3d5d80e7f106a09ae5157b4"
   }
  }
 },
 "nbformat": 4,
 "nbformat_minor": 2
}
